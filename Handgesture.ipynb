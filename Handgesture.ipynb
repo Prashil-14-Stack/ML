{
  "nbformat": 4,
  "nbformat_minor": 0,
  "metadata": {
    "colab": {
      "name": "Handgesture.ipynb",
      "provenance": [],
      "collapsed_sections": [],
      "mount_file_id": "1G2_2GMzGvrOHNK0JzMEfTHPiaNAYfB04",
      "authorship_tag": "ABX9TyOScMuHMh9rMAxyYY2QpKeX",
      "include_colab_link": true
    },
    "kernelspec": {
      "name": "python3",
      "display_name": "Python 3"
    },
    "language_info": {
      "name": "python"
    },
    "accelerator": "GPU"
  },
  "cells": [
    {
      "cell_type": "markdown",
      "metadata": {
        "id": "view-in-github",
        "colab_type": "text"
      },
      "source": [
        "<a href=\"https://colab.research.google.com/github/Prashil-14-Stack/ML/blob/main/Handgesture.ipynb\" target=\"_parent\"><img src=\"https://colab.research.google.com/assets/colab-badge.svg\" alt=\"Open In Colab\"/></a>"
      ]
    },
    {
      "cell_type": "code",
      "metadata": {
        "colab": {
          "base_uri": "https://localhost:8080/"
        },
        "id": "-za06Uf4S0i6",
        "outputId": "28b2f8fb-0d6a-4e35-9906-6229c7216ca9"
      },
      "source": [
        "pip install tensorflow"
      ],
      "execution_count": 2,
      "outputs": [
        {
          "output_type": "stream",
          "text": [
            "Requirement already satisfied: tensorflow in /usr/local/lib/python3.7/dist-packages (2.5.0)\n",
            "Requirement already satisfied: wrapt~=1.12.1 in /usr/local/lib/python3.7/dist-packages (from tensorflow) (1.12.1)\n",
            "Requirement already satisfied: wheel~=0.35 in /usr/local/lib/python3.7/dist-packages (from tensorflow) (0.36.2)\n",
            "Requirement already satisfied: flatbuffers~=1.12.0 in /usr/local/lib/python3.7/dist-packages (from tensorflow) (1.12)\n",
            "Requirement already satisfied: keras-nightly~=2.5.0.dev in /usr/local/lib/python3.7/dist-packages (from tensorflow) (2.5.0.dev2021032900)\n",
            "Requirement already satisfied: six~=1.15.0 in /usr/local/lib/python3.7/dist-packages (from tensorflow) (1.15.0)\n",
            "Requirement already satisfied: numpy~=1.19.2 in /usr/local/lib/python3.7/dist-packages (from tensorflow) (1.19.5)\n",
            "Requirement already satisfied: keras-preprocessing~=1.1.2 in /usr/local/lib/python3.7/dist-packages (from tensorflow) (1.1.2)\n",
            "Requirement already satisfied: opt-einsum~=3.3.0 in /usr/local/lib/python3.7/dist-packages (from tensorflow) (3.3.0)\n",
            "Requirement already satisfied: gast==0.4.0 in /usr/local/lib/python3.7/dist-packages (from tensorflow) (0.4.0)\n",
            "Requirement already satisfied: protobuf>=3.9.2 in /usr/local/lib/python3.7/dist-packages (from tensorflow) (3.17.3)\n",
            "Requirement already satisfied: h5py~=3.1.0 in /usr/local/lib/python3.7/dist-packages (from tensorflow) (3.1.0)\n",
            "Requirement already satisfied: termcolor~=1.1.0 in /usr/local/lib/python3.7/dist-packages (from tensorflow) (1.1.0)\n",
            "Requirement already satisfied: grpcio~=1.34.0 in /usr/local/lib/python3.7/dist-packages (from tensorflow) (1.34.1)\n",
            "Requirement already satisfied: absl-py~=0.10 in /usr/local/lib/python3.7/dist-packages (from tensorflow) (0.12.0)\n",
            "Requirement already satisfied: google-pasta~=0.2 in /usr/local/lib/python3.7/dist-packages (from tensorflow) (0.2.0)\n",
            "Requirement already satisfied: tensorboard~=2.5 in /usr/local/lib/python3.7/dist-packages (from tensorflow) (2.5.0)\n",
            "Requirement already satisfied: typing-extensions~=3.7.4 in /usr/local/lib/python3.7/dist-packages (from tensorflow) (3.7.4.3)\n",
            "Requirement already satisfied: astunparse~=1.6.3 in /usr/local/lib/python3.7/dist-packages (from tensorflow) (1.6.3)\n",
            "Requirement already satisfied: tensorflow-estimator<2.6.0,>=2.5.0rc0 in /usr/local/lib/python3.7/dist-packages (from tensorflow) (2.5.0)\n",
            "Requirement already satisfied: cached-property; python_version < \"3.8\" in /usr/local/lib/python3.7/dist-packages (from h5py~=3.1.0->tensorflow) (1.5.2)\n",
            "Requirement already satisfied: setuptools>=41.0.0 in /usr/local/lib/python3.7/dist-packages (from tensorboard~=2.5->tensorflow) (57.0.0)\n",
            "Requirement already satisfied: google-auth-oauthlib<0.5,>=0.4.1 in /usr/local/lib/python3.7/dist-packages (from tensorboard~=2.5->tensorflow) (0.4.4)\n",
            "Requirement already satisfied: tensorboard-data-server<0.7.0,>=0.6.0 in /usr/local/lib/python3.7/dist-packages (from tensorboard~=2.5->tensorflow) (0.6.1)\n",
            "Requirement already satisfied: tensorboard-plugin-wit>=1.6.0 in /usr/local/lib/python3.7/dist-packages (from tensorboard~=2.5->tensorflow) (1.8.0)\n",
            "Requirement already satisfied: werkzeug>=0.11.15 in /usr/local/lib/python3.7/dist-packages (from tensorboard~=2.5->tensorflow) (1.0.1)\n",
            "Requirement already satisfied: google-auth<2,>=1.6.3 in /usr/local/lib/python3.7/dist-packages (from tensorboard~=2.5->tensorflow) (1.32.1)\n",
            "Requirement already satisfied: requests<3,>=2.21.0 in /usr/local/lib/python3.7/dist-packages (from tensorboard~=2.5->tensorflow) (2.23.0)\n",
            "Requirement already satisfied: markdown>=2.6.8 in /usr/local/lib/python3.7/dist-packages (from tensorboard~=2.5->tensorflow) (3.3.4)\n",
            "Requirement already satisfied: requests-oauthlib>=0.7.0 in /usr/local/lib/python3.7/dist-packages (from google-auth-oauthlib<0.5,>=0.4.1->tensorboard~=2.5->tensorflow) (1.3.0)\n",
            "Requirement already satisfied: rsa<5,>=3.1.4; python_version >= \"3.6\" in /usr/local/lib/python3.7/dist-packages (from google-auth<2,>=1.6.3->tensorboard~=2.5->tensorflow) (4.7.2)\n",
            "Requirement already satisfied: cachetools<5.0,>=2.0.0 in /usr/local/lib/python3.7/dist-packages (from google-auth<2,>=1.6.3->tensorboard~=2.5->tensorflow) (4.2.2)\n",
            "Requirement already satisfied: pyasn1-modules>=0.2.1 in /usr/local/lib/python3.7/dist-packages (from google-auth<2,>=1.6.3->tensorboard~=2.5->tensorflow) (0.2.8)\n",
            "Requirement already satisfied: certifi>=2017.4.17 in /usr/local/lib/python3.7/dist-packages (from requests<3,>=2.21.0->tensorboard~=2.5->tensorflow) (2021.5.30)\n",
            "Requirement already satisfied: urllib3!=1.25.0,!=1.25.1,<1.26,>=1.21.1 in /usr/local/lib/python3.7/dist-packages (from requests<3,>=2.21.0->tensorboard~=2.5->tensorflow) (1.24.3)\n",
            "Requirement already satisfied: chardet<4,>=3.0.2 in /usr/local/lib/python3.7/dist-packages (from requests<3,>=2.21.0->tensorboard~=2.5->tensorflow) (3.0.4)\n",
            "Requirement already satisfied: idna<3,>=2.5 in /usr/local/lib/python3.7/dist-packages (from requests<3,>=2.21.0->tensorboard~=2.5->tensorflow) (2.10)\n",
            "Requirement already satisfied: importlib-metadata; python_version < \"3.8\" in /usr/local/lib/python3.7/dist-packages (from markdown>=2.6.8->tensorboard~=2.5->tensorflow) (4.6.1)\n",
            "Requirement already satisfied: oauthlib>=3.0.0 in /usr/local/lib/python3.7/dist-packages (from requests-oauthlib>=0.7.0->google-auth-oauthlib<0.5,>=0.4.1->tensorboard~=2.5->tensorflow) (3.1.1)\n",
            "Requirement already satisfied: pyasn1>=0.1.3 in /usr/local/lib/python3.7/dist-packages (from rsa<5,>=3.1.4; python_version >= \"3.6\"->google-auth<2,>=1.6.3->tensorboard~=2.5->tensorflow) (0.4.8)\n",
            "Requirement already satisfied: zipp>=0.5 in /usr/local/lib/python3.7/dist-packages (from importlib-metadata; python_version < \"3.8\"->markdown>=2.6.8->tensorboard~=2.5->tensorflow) (3.5.0)\n"
          ],
          "name": "stdout"
        }
      ]
    },
    {
      "cell_type": "code",
      "metadata": {
        "colab": {
          "base_uri": "https://localhost:8080/"
        },
        "id": "C9Rsx4uES4V3",
        "outputId": "648e882a-a0a6-4c10-d3c1-58bfbded9e60"
      },
      "source": [
        "!pip install tensorflow-gpu"
      ],
      "execution_count": 3,
      "outputs": [
        {
          "output_type": "stream",
          "text": [
            "Collecting tensorflow-gpu\n",
            "\u001b[?25l  Downloading https://files.pythonhosted.org/packages/1d/a2/5ccf0a418eb22e0a2ae9edc1e7f5456d0a4b8b49524572897564b4030a9b/tensorflow_gpu-2.5.0-cp37-cp37m-manylinux2010_x86_64.whl (454.3MB)\n",
            "\u001b[K     |████████████████████████████████| 454.3MB 34kB/s \n",
            "\u001b[?25hRequirement already satisfied: typing-extensions~=3.7.4 in /usr/local/lib/python3.7/dist-packages (from tensorflow-gpu) (3.7.4.3)\n",
            "Requirement already satisfied: wheel~=0.35 in /usr/local/lib/python3.7/dist-packages (from tensorflow-gpu) (0.36.2)\n",
            "Requirement already satisfied: absl-py~=0.10 in /usr/local/lib/python3.7/dist-packages (from tensorflow-gpu) (0.12.0)\n",
            "Requirement already satisfied: wrapt~=1.12.1 in /usr/local/lib/python3.7/dist-packages (from tensorflow-gpu) (1.12.1)\n",
            "Requirement already satisfied: flatbuffers~=1.12.0 in /usr/local/lib/python3.7/dist-packages (from tensorflow-gpu) (1.12)\n",
            "Requirement already satisfied: numpy~=1.19.2 in /usr/local/lib/python3.7/dist-packages (from tensorflow-gpu) (1.19.5)\n",
            "Requirement already satisfied: tensorboard~=2.5 in /usr/local/lib/python3.7/dist-packages (from tensorflow-gpu) (2.5.0)\n",
            "Requirement already satisfied: protobuf>=3.9.2 in /usr/local/lib/python3.7/dist-packages (from tensorflow-gpu) (3.17.3)\n",
            "Requirement already satisfied: keras-nightly~=2.5.0.dev in /usr/local/lib/python3.7/dist-packages (from tensorflow-gpu) (2.5.0.dev2021032900)\n",
            "Requirement already satisfied: termcolor~=1.1.0 in /usr/local/lib/python3.7/dist-packages (from tensorflow-gpu) (1.1.0)\n",
            "Requirement already satisfied: gast==0.4.0 in /usr/local/lib/python3.7/dist-packages (from tensorflow-gpu) (0.4.0)\n",
            "Requirement already satisfied: keras-preprocessing~=1.1.2 in /usr/local/lib/python3.7/dist-packages (from tensorflow-gpu) (1.1.2)\n",
            "Requirement already satisfied: h5py~=3.1.0 in /usr/local/lib/python3.7/dist-packages (from tensorflow-gpu) (3.1.0)\n",
            "Requirement already satisfied: astunparse~=1.6.3 in /usr/local/lib/python3.7/dist-packages (from tensorflow-gpu) (1.6.3)\n",
            "Requirement already satisfied: tensorflow-estimator<2.6.0,>=2.5.0rc0 in /usr/local/lib/python3.7/dist-packages (from tensorflow-gpu) (2.5.0)\n",
            "Requirement already satisfied: six~=1.15.0 in /usr/local/lib/python3.7/dist-packages (from tensorflow-gpu) (1.15.0)\n",
            "Requirement already satisfied: opt-einsum~=3.3.0 in /usr/local/lib/python3.7/dist-packages (from tensorflow-gpu) (3.3.0)\n",
            "Requirement already satisfied: grpcio~=1.34.0 in /usr/local/lib/python3.7/dist-packages (from tensorflow-gpu) (1.34.1)\n",
            "Requirement already satisfied: google-pasta~=0.2 in /usr/local/lib/python3.7/dist-packages (from tensorflow-gpu) (0.2.0)\n",
            "Requirement already satisfied: markdown>=2.6.8 in /usr/local/lib/python3.7/dist-packages (from tensorboard~=2.5->tensorflow-gpu) (3.3.4)\n",
            "Requirement already satisfied: requests<3,>=2.21.0 in /usr/local/lib/python3.7/dist-packages (from tensorboard~=2.5->tensorflow-gpu) (2.23.0)\n",
            "Requirement already satisfied: setuptools>=41.0.0 in /usr/local/lib/python3.7/dist-packages (from tensorboard~=2.5->tensorflow-gpu) (57.0.0)\n",
            "Requirement already satisfied: tensorboard-data-server<0.7.0,>=0.6.0 in /usr/local/lib/python3.7/dist-packages (from tensorboard~=2.5->tensorflow-gpu) (0.6.1)\n",
            "Requirement already satisfied: google-auth<2,>=1.6.3 in /usr/local/lib/python3.7/dist-packages (from tensorboard~=2.5->tensorflow-gpu) (1.32.1)\n",
            "Requirement already satisfied: werkzeug>=0.11.15 in /usr/local/lib/python3.7/dist-packages (from tensorboard~=2.5->tensorflow-gpu) (1.0.1)\n",
            "Requirement already satisfied: google-auth-oauthlib<0.5,>=0.4.1 in /usr/local/lib/python3.7/dist-packages (from tensorboard~=2.5->tensorflow-gpu) (0.4.4)\n",
            "Requirement already satisfied: tensorboard-plugin-wit>=1.6.0 in /usr/local/lib/python3.7/dist-packages (from tensorboard~=2.5->tensorflow-gpu) (1.8.0)\n",
            "Requirement already satisfied: cached-property; python_version < \"3.8\" in /usr/local/lib/python3.7/dist-packages (from h5py~=3.1.0->tensorflow-gpu) (1.5.2)\n",
            "Requirement already satisfied: importlib-metadata; python_version < \"3.8\" in /usr/local/lib/python3.7/dist-packages (from markdown>=2.6.8->tensorboard~=2.5->tensorflow-gpu) (4.6.1)\n",
            "Requirement already satisfied: certifi>=2017.4.17 in /usr/local/lib/python3.7/dist-packages (from requests<3,>=2.21.0->tensorboard~=2.5->tensorflow-gpu) (2021.5.30)\n",
            "Requirement already satisfied: urllib3!=1.25.0,!=1.25.1,<1.26,>=1.21.1 in /usr/local/lib/python3.7/dist-packages (from requests<3,>=2.21.0->tensorboard~=2.5->tensorflow-gpu) (1.24.3)\n",
            "Requirement already satisfied: idna<3,>=2.5 in /usr/local/lib/python3.7/dist-packages (from requests<3,>=2.21.0->tensorboard~=2.5->tensorflow-gpu) (2.10)\n",
            "Requirement already satisfied: chardet<4,>=3.0.2 in /usr/local/lib/python3.7/dist-packages (from requests<3,>=2.21.0->tensorboard~=2.5->tensorflow-gpu) (3.0.4)\n",
            "Requirement already satisfied: rsa<5,>=3.1.4; python_version >= \"3.6\" in /usr/local/lib/python3.7/dist-packages (from google-auth<2,>=1.6.3->tensorboard~=2.5->tensorflow-gpu) (4.7.2)\n",
            "Requirement already satisfied: cachetools<5.0,>=2.0.0 in /usr/local/lib/python3.7/dist-packages (from google-auth<2,>=1.6.3->tensorboard~=2.5->tensorflow-gpu) (4.2.2)\n",
            "Requirement already satisfied: pyasn1-modules>=0.2.1 in /usr/local/lib/python3.7/dist-packages (from google-auth<2,>=1.6.3->tensorboard~=2.5->tensorflow-gpu) (0.2.8)\n",
            "Requirement already satisfied: requests-oauthlib>=0.7.0 in /usr/local/lib/python3.7/dist-packages (from google-auth-oauthlib<0.5,>=0.4.1->tensorboard~=2.5->tensorflow-gpu) (1.3.0)\n",
            "Requirement already satisfied: zipp>=0.5 in /usr/local/lib/python3.7/dist-packages (from importlib-metadata; python_version < \"3.8\"->markdown>=2.6.8->tensorboard~=2.5->tensorflow-gpu) (3.5.0)\n",
            "Requirement already satisfied: pyasn1>=0.1.3 in /usr/local/lib/python3.7/dist-packages (from rsa<5,>=3.1.4; python_version >= \"3.6\"->google-auth<2,>=1.6.3->tensorboard~=2.5->tensorflow-gpu) (0.4.8)\n",
            "Requirement already satisfied: oauthlib>=3.0.0 in /usr/local/lib/python3.7/dist-packages (from requests-oauthlib>=0.7.0->google-auth-oauthlib<0.5,>=0.4.1->tensorboard~=2.5->tensorflow-gpu) (3.1.1)\n",
            "Installing collected packages: tensorflow-gpu\n",
            "Successfully installed tensorflow-gpu-2.5.0\n"
          ],
          "name": "stdout"
        }
      ]
    },
    {
      "cell_type": "code",
      "metadata": {
        "colab": {
          "base_uri": "https://localhost:8080/"
        },
        "id": "ftgeAfDmS622",
        "outputId": "f8e6574f-1cac-4d9c-9177-150d2b77f300"
      },
      "source": [
        "!nvidia-smi"
      ],
      "execution_count": 4,
      "outputs": [
        {
          "output_type": "stream",
          "text": [
            "Fri Jul 16 14:18:11 2021       \n",
            "+-----------------------------------------------------------------------------+\n",
            "| NVIDIA-SMI 470.42.01    Driver Version: 460.32.03    CUDA Version: 11.2     |\n",
            "|-------------------------------+----------------------+----------------------+\n",
            "| GPU  Name        Persistence-M| Bus-Id        Disp.A | Volatile Uncorr. ECC |\n",
            "| Fan  Temp  Perf  Pwr:Usage/Cap|         Memory-Usage | GPU-Util  Compute M. |\n",
            "|                               |                      |               MIG M. |\n",
            "|===============================+======================+======================|\n",
            "|   0  Tesla T4            Off  | 00000000:00:04.0 Off |                    0 |\n",
            "| N/A   61C    P8    11W /  70W |      0MiB / 15109MiB |      0%      Default |\n",
            "|                               |                      |                  N/A |\n",
            "+-------------------------------+----------------------+----------------------+\n",
            "                                                                               \n",
            "+-----------------------------------------------------------------------------+\n",
            "| Processes:                                                                  |\n",
            "|  GPU   GI   CI        PID   Type   Process name                  GPU Memory |\n",
            "|        ID   ID                                                   Usage      |\n",
            "|=============================================================================|\n",
            "|  No running processes found                                                 |\n",
            "+-----------------------------------------------------------------------------+\n"
          ],
          "name": "stdout"
        }
      ]
    },
    {
      "cell_type": "code",
      "metadata": {
        "id": "PHL8Jo3zS8_i"
      },
      "source": [
        "train_path='/content/drive/MyDrive/HandGestureDataset/train'\n",
        "val_path='/content/drive/MyDrive/HandGestureDataset/Val'\n",
        "test_path='/content/drive/MyDrive/HandGestureDataset/test'"
      ],
      "execution_count": 5,
      "outputs": []
    },
    {
      "cell_type": "code",
      "metadata": {
        "colab": {
          "base_uri": "https://localhost:8080/"
        },
        "id": "R2PHVEVst2mc",
        "outputId": "d5485d5e-de53-4c07-bb61-63e83160dc98"
      },
      "source": [
        "from google.colab import drive\n",
        "drive.mount('/content/drive')"
      ],
      "execution_count": 6,
      "outputs": [
        {
          "output_type": "stream",
          "text": [
            "Drive already mounted at /content/drive; to attempt to forcibly remount, call drive.mount(\"/content/drive\", force_remount=True).\n"
          ],
          "name": "stdout"
        }
      ]
    },
    {
      "cell_type": "code",
      "metadata": {
        "id": "Aw-2QdK_tWBV"
      },
      "source": [
        "from keras import models\n",
        "from keras import layers"
      ],
      "execution_count": 7,
      "outputs": []
    },
    {
      "cell_type": "code",
      "metadata": {
        "id": "CpaGX_9OtdbL"
      },
      "source": [
        "from keras.models import Sequential\n",
        "from keras.layers import Conv2D\n",
        "from keras.layers import MaxPooling2D\n",
        "from keras.layers import Dense\n",
        "from keras.layers import Flatten\n",
        "from keras.layers import Dropout\n",
        "from keras.preprocessing.image import ImageDataGenerator"
      ],
      "execution_count": 8,
      "outputs": []
    },
    {
      "cell_type": "code",
      "metadata": {
        "id": "ZqxXvqFpuQ8u"
      },
      "source": [
        "model=Sequential()\n",
        "model.add(Conv2D(32,(3,3),input_shape=(256,256,1),activation='relu'))\n",
        "model.add(MaxPooling2D(pool_size=(2,2)))\n",
        "model.add(Conv2D(64,(3,3),activation='relu'))\n",
        "model.add(Conv2D(64,(3,3),activation='relu'))\n",
        "model.add(MaxPooling2D(pool_size=(2,2)))\n",
        "model.add(Conv2D(128,(3,3),activation='relu'))\n",
        "model.add(MaxPooling2D(pool_size=(2,2)))\n",
        "model.add(Conv2D(256,(3,3),activation='relu'))\n",
        "model.add(MaxPooling2D(pool_size=(2,2)))\n",
        "model.add(Flatten())\n",
        "model.add(Dense(150,activation='relu'))\n",
        "model.add(Dropout(0.25))\n",
        "model.add(Dense(6,activation='softmax'))\n",
        "model.compile(optimizer='adam',loss='categorical_crossentropy', metrics=['accuracy'])"
      ],
      "execution_count": 9,
      "outputs": []
    },
    {
      "cell_type": "code",
      "metadata": {
        "id": "hSsu8XoYwyp8"
      },
      "source": [
        "train_datagen=ImageDataGenerator(rescale=1./255,\n",
        "                                 shear_range=12.,\n",
        "                                 width_shift_range=0.2,\n",
        "                                 height_shift_range=0.2,\n",
        "                                 zoom_range=0.15,\n",
        "                                 horizontal_flip=True)\n",
        "val_datagen=ImageDataGenerator(rescale=1./255) #Since 255 is the maximun pixel value. Rescale 1./255 is to transform every pixel value from range [0,255] -> [0,1]."
      ],
      "execution_count": 10,
      "outputs": []
    },
    {
      "cell_type": "code",
      "metadata": {
        "colab": {
          "base_uri": "https://localhost:8080/"
        },
        "id": "Y3dknjS23Ubf",
        "outputId": "d6e6ae25-96a7-4b86-b09b-566870e25e01"
      },
      "source": [
        "training_set=train_datagen.flow_from_directory('/content/drive/MyDrive/HandGestureDataset/train', target_size=(256,256),\n",
        "                                               batch_size=8,\n",
        "                                               color_mode='grayscale',\n",
        "                                               classes=['NONE','ONE','TWO','THREE','FOUR','FIVE'],\n",
        "                                               class_mode='categorical')"
      ],
      "execution_count": 11,
      "outputs": [
        {
          "output_type": "stream",
          "text": [
            "Found 9029 images belonging to 6 classes.\n"
          ],
          "name": "stdout"
        }
      ]
    },
    {
      "cell_type": "code",
      "metadata": {
        "colab": {
          "base_uri": "https://localhost:8080/"
        },
        "id": "5abSrk6F3fDd",
        "outputId": "766d1bd9-bf6c-4738-f36a-73fab4ec40ff"
      },
      "source": [
        "val_set=val_datagen.flow_from_directory('/content/drive/MyDrive/HandGestureDataset/Val',target_size=(256,256),\n",
        "                                               batch_size=8,\n",
        "                                               color_mode='grayscale',\n",
        "                                               classes=['None','One','Two','Three','Four','Five'],\n",
        "                                               class_mode='categorical')"
      ],
      "execution_count": 12,
      "outputs": [
        {
          "output_type": "stream",
          "text": [
            "Found 60 images belonging to 6 classes.\n"
          ],
          "name": "stdout"
        }
      ]
    },
    {
      "cell_type": "code",
      "metadata": {
        "id": "QWxBuVpv3zi0"
      },
      "source": [
        "from keras.callbacks import EarlyStopping, ModelCheckpoint"
      ],
      "execution_count": 13,
      "outputs": []
    },
    {
      "cell_type": "code",
      "metadata": {
        "colab": {
          "base_uri": "https://localhost:8080/"
        },
        "id": "-r8AIPLT3oAh",
        "outputId": "405c6d86-ed73-4e19-c062-dc6c468d0578"
      },
      "source": [
        "model.fit_generator(training_set,\n",
        "                        steps_per_epoch=40,\n",
        "                        epochs=300,\n",
        "                        validation_data=val_set,\n",
        "                        validation_steps=7\n",
        "                    )"
      ],
      "execution_count": null,
      "outputs": [
        {
          "output_type": "stream",
          "text": [
            "/usr/local/lib/python3.7/dist-packages/keras/engine/training.py:1915: UserWarning: `Model.fit_generator` is deprecated and will be removed in a future version. Please use `Model.fit`, which supports generators.\n",
            "  warnings.warn('`Model.fit_generator` is deprecated and '\n"
          ],
          "name": "stderr"
        },
        {
          "output_type": "stream",
          "text": [
            "Epoch 1/300\n",
            "40/40 [==============================] - 137s 3s/step - loss: 1.8235 - accuracy: 0.1350 - val_loss: 1.8047 - val_accuracy: 0.1786\n",
            "Epoch 2/300\n",
            "40/40 [==============================] - 102s 3s/step - loss: 1.7839 - accuracy: 0.1784 - val_loss: 1.7913 - val_accuracy: 0.1607\n",
            "Epoch 3/300\n",
            "40/40 [==============================] - 101s 2s/step - loss: 1.7958 - accuracy: 0.1581 - val_loss: 1.7919 - val_accuracy: 0.1607\n",
            "Epoch 4/300\n",
            "40/40 [==============================] - 96s 2s/step - loss: 1.7923 - accuracy: 0.1248 - val_loss: 1.7921 - val_accuracy: 0.1429\n",
            "Epoch 5/300\n",
            "40/40 [==============================] - 91s 2s/step - loss: 1.7924 - accuracy: 0.1792 - val_loss: 1.7924 - val_accuracy: 0.1607\n",
            "Epoch 6/300\n",
            "40/40 [==============================] - 90s 2s/step - loss: 1.7902 - accuracy: 0.1479 - val_loss: 1.7918 - val_accuracy: 0.1607\n",
            "Epoch 7/300\n",
            "40/40 [==============================] - 85s 2s/step - loss: 1.7932 - accuracy: 0.1545 - val_loss: 1.7925 - val_accuracy: 0.1786\n",
            "Epoch 8/300\n",
            "40/40 [==============================] - 82s 2s/step - loss: 1.7886 - accuracy: 0.1937 - val_loss: 1.7918 - val_accuracy: 0.1786\n",
            "Epoch 9/300\n",
            "40/40 [==============================] - 81s 2s/step - loss: 1.7913 - accuracy: 0.1778 - val_loss: 1.7909 - val_accuracy: 0.1786\n",
            "Epoch 10/300\n",
            "40/40 [==============================] - 78s 2s/step - loss: 1.7944 - accuracy: 0.1512 - val_loss: 1.7928 - val_accuracy: 0.1429\n",
            "Epoch 11/300\n",
            "40/40 [==============================] - 77s 2s/step - loss: 1.7916 - accuracy: 0.1275 - val_loss: 1.7939 - val_accuracy: 0.1607\n",
            "Epoch 12/300\n",
            "40/40 [==============================] - 77s 2s/step - loss: 1.7922 - accuracy: 0.2013 - val_loss: 1.7932 - val_accuracy: 0.1429\n",
            "Epoch 13/300\n",
            "40/40 [==============================] - 73s 2s/step - loss: 1.7908 - accuracy: 0.1910 - val_loss: 1.7910 - val_accuracy: 0.1786\n",
            "Epoch 14/300\n",
            "40/40 [==============================] - 75s 2s/step - loss: 1.7942 - accuracy: 0.1309 - val_loss: 1.7910 - val_accuracy: 0.1607\n",
            "Epoch 15/300\n",
            "40/40 [==============================] - 72s 2s/step - loss: 1.7826 - accuracy: 0.1796 - val_loss: 1.7805 - val_accuracy: 0.1786\n",
            "Epoch 16/300\n",
            "40/40 [==============================] - 74s 2s/step - loss: 1.7358 - accuracy: 0.2108 - val_loss: 1.7809 - val_accuracy: 0.1964\n",
            "Epoch 17/300\n",
            "40/40 [==============================] - 70s 2s/step - loss: 1.7810 - accuracy: 0.2337 - val_loss: 1.7729 - val_accuracy: 0.3036\n",
            "Epoch 18/300\n",
            "40/40 [==============================] - 69s 2s/step - loss: 1.7093 - accuracy: 0.2587 - val_loss: 1.7366 - val_accuracy: 0.2321\n",
            "Epoch 19/300\n",
            "40/40 [==============================] - 70s 2s/step - loss: 1.7013 - accuracy: 0.2913 - val_loss: 1.7497 - val_accuracy: 0.3036\n",
            "Epoch 20/300\n",
            "40/40 [==============================] - 70s 2s/step - loss: 1.6611 - accuracy: 0.2512 - val_loss: 1.7408 - val_accuracy: 0.1964\n",
            "Epoch 21/300\n",
            "40/40 [==============================] - 66s 2s/step - loss: 1.6760 - accuracy: 0.2434 - val_loss: 1.6057 - val_accuracy: 0.3393\n",
            "Epoch 22/300\n",
            "40/40 [==============================] - 66s 2s/step - loss: 1.5982 - accuracy: 0.3032 - val_loss: 1.5825 - val_accuracy: 0.3036\n",
            "Epoch 23/300\n",
            "40/40 [==============================] - 68s 2s/step - loss: 1.4849 - accuracy: 0.4087 - val_loss: 1.4792 - val_accuracy: 0.4107\n",
            "Epoch 24/300\n",
            "40/40 [==============================] - 65s 2s/step - loss: 1.3912 - accuracy: 0.4019 - val_loss: 1.4303 - val_accuracy: 0.1964\n",
            "Epoch 25/300\n",
            "40/40 [==============================] - 66s 2s/step - loss: 1.4957 - accuracy: 0.3679 - val_loss: 1.2620 - val_accuracy: 0.3750\n",
            "Epoch 26/300\n",
            "40/40 [==============================] - 67s 2s/step - loss: 1.3326 - accuracy: 0.3949 - val_loss: 1.3787 - val_accuracy: 0.2143\n",
            "Epoch 27/300\n",
            "40/40 [==============================] - 65s 2s/step - loss: 1.2214 - accuracy: 0.4651 - val_loss: 1.0651 - val_accuracy: 0.4107\n",
            "Epoch 28/300\n",
            "40/40 [==============================] - 67s 2s/step - loss: 1.1188 - accuracy: 0.4849 - val_loss: 1.3295 - val_accuracy: 0.5179\n",
            "Epoch 29/300\n",
            "40/40 [==============================] - 63s 2s/step - loss: 1.1416 - accuracy: 0.5015 - val_loss: 1.0495 - val_accuracy: 0.6071\n",
            "Epoch 30/300\n",
            "40/40 [==============================] - 65s 2s/step - loss: 1.0755 - accuracy: 0.5277 - val_loss: 1.5180 - val_accuracy: 0.4821\n",
            "Epoch 31/300\n",
            "40/40 [==============================] - 65s 2s/step - loss: 1.0268 - accuracy: 0.5884 - val_loss: 0.9098 - val_accuracy: 0.5536\n",
            "Epoch 32/300\n",
            "40/40 [==============================] - 66s 2s/step - loss: 0.9430 - accuracy: 0.6020 - val_loss: 0.9392 - val_accuracy: 0.5179\n",
            "Epoch 33/300\n",
            "40/40 [==============================] - 64s 2s/step - loss: 0.9678 - accuracy: 0.6019 - val_loss: 0.7663 - val_accuracy: 0.5000\n",
            "Epoch 34/300\n",
            "40/40 [==============================] - 63s 2s/step - loss: 0.8284 - accuracy: 0.5966 - val_loss: 1.0868 - val_accuracy: 0.5536\n",
            "Epoch 35/300\n",
            "40/40 [==============================] - 63s 2s/step - loss: 0.8438 - accuracy: 0.6606 - val_loss: 0.7542 - val_accuracy: 0.6071\n",
            "Epoch 36/300\n",
            "40/40 [==============================] - 64s 2s/step - loss: 0.8105 - accuracy: 0.6847 - val_loss: 0.7845 - val_accuracy: 0.6071\n",
            "Epoch 37/300\n",
            "40/40 [==============================] - 64s 2s/step - loss: 0.7015 - accuracy: 0.7093 - val_loss: 0.7225 - val_accuracy: 0.6607\n",
            "Epoch 38/300\n",
            "40/40 [==============================] - 63s 2s/step - loss: 0.6485 - accuracy: 0.7572 - val_loss: 0.4508 - val_accuracy: 0.7500\n",
            "Epoch 39/300\n",
            "40/40 [==============================] - 63s 2s/step - loss: 0.7131 - accuracy: 0.6713 - val_loss: 0.4758 - val_accuracy: 0.7143\n",
            "Epoch 40/300\n",
            "40/40 [==============================] - 63s 2s/step - loss: 0.7552 - accuracy: 0.6734 - val_loss: 0.4790 - val_accuracy: 0.7500\n",
            "Epoch 41/300\n",
            "40/40 [==============================] - 63s 2s/step - loss: 0.6493 - accuracy: 0.7385 - val_loss: 0.3956 - val_accuracy: 0.8571\n",
            "Epoch 42/300\n",
            "40/40 [==============================] - 63s 2s/step - loss: 0.6765 - accuracy: 0.7400 - val_loss: 0.6217 - val_accuracy: 0.6964\n",
            "Epoch 43/300\n",
            "40/40 [==============================] - 63s 2s/step - loss: 0.5581 - accuracy: 0.7183 - val_loss: 0.3149 - val_accuracy: 0.9107\n",
            "Epoch 44/300\n",
            "40/40 [==============================] - 63s 2s/step - loss: 0.5278 - accuracy: 0.7739 - val_loss: 0.3153 - val_accuracy: 0.8929\n",
            "Epoch 45/300\n",
            "40/40 [==============================] - 62s 2s/step - loss: 0.5208 - accuracy: 0.7800 - val_loss: 0.2826 - val_accuracy: 0.9286\n",
            "Epoch 46/300\n",
            "40/40 [==============================] - 63s 2s/step - loss: 0.5195 - accuracy: 0.7765 - val_loss: 1.4561 - val_accuracy: 0.5893\n",
            "Epoch 47/300\n",
            "40/40 [==============================] - 63s 2s/step - loss: 0.6456 - accuracy: 0.7317 - val_loss: 0.5545 - val_accuracy: 0.6607\n",
            "Epoch 48/300\n",
            "40/40 [==============================] - 63s 2s/step - loss: 0.5244 - accuracy: 0.7833 - val_loss: 0.2874 - val_accuracy: 0.9107\n",
            "Epoch 49/300\n",
            "40/40 [==============================] - 63s 2s/step - loss: 0.5105 - accuracy: 0.7916 - val_loss: 0.5310 - val_accuracy: 0.7321\n",
            "Epoch 50/300\n",
            "40/40 [==============================] - 67s 2s/step - loss: 0.4581 - accuracy: 0.8451 - val_loss: 0.1995 - val_accuracy: 0.9464\n",
            "Epoch 51/300\n",
            "40/40 [==============================] - 64s 2s/step - loss: 0.5431 - accuracy: 0.7864 - val_loss: 0.2809 - val_accuracy: 0.9107\n",
            "Epoch 52/300\n",
            "40/40 [==============================] - 62s 2s/step - loss: 0.3997 - accuracy: 0.8617 - val_loss: 0.5004 - val_accuracy: 0.7321\n",
            "Epoch 53/300\n",
            "40/40 [==============================] - 64s 2s/step - loss: 0.5254 - accuracy: 0.8013 - val_loss: 0.2447 - val_accuracy: 0.9286\n",
            "Epoch 54/300\n",
            "40/40 [==============================] - 62s 2s/step - loss: 0.3627 - accuracy: 0.8906 - val_loss: 0.4133 - val_accuracy: 0.7857\n",
            "Epoch 55/300\n",
            "40/40 [==============================] - 62s 2s/step - loss: 0.4251 - accuracy: 0.8296 - val_loss: 0.5426 - val_accuracy: 0.7679\n",
            "Epoch 56/300\n",
            "40/40 [==============================] - 62s 2s/step - loss: 0.4945 - accuracy: 0.8122 - val_loss: 0.1401 - val_accuracy: 0.9643\n",
            "Epoch 57/300\n",
            "40/40 [==============================] - 62s 2s/step - loss: 0.4248 - accuracy: 0.8236 - val_loss: 0.1082 - val_accuracy: 1.0000\n",
            "Epoch 58/300\n",
            "40/40 [==============================] - 63s 2s/step - loss: 0.4105 - accuracy: 0.8257 - val_loss: 0.3608 - val_accuracy: 0.7857\n",
            "Epoch 59/300\n",
            "40/40 [==============================] - 61s 2s/step - loss: 0.3863 - accuracy: 0.8433 - val_loss: 0.1590 - val_accuracy: 0.9464\n",
            "Epoch 60/300\n",
            "40/40 [==============================] - 62s 2s/step - loss: 0.4871 - accuracy: 0.8285 - val_loss: 0.1992 - val_accuracy: 0.9107\n",
            "Epoch 61/300\n",
            "40/40 [==============================] - 62s 2s/step - loss: 0.3383 - accuracy: 0.8775 - val_loss: 0.1328 - val_accuracy: 0.9821\n",
            "Epoch 62/300\n",
            "40/40 [==============================] - 62s 2s/step - loss: 0.2799 - accuracy: 0.9081 - val_loss: 0.3249 - val_accuracy: 0.7857\n",
            "Epoch 63/300\n",
            "40/40 [==============================] - 62s 2s/step - loss: 0.3512 - accuracy: 0.8574 - val_loss: 0.2131 - val_accuracy: 0.9107\n",
            "Epoch 64/300\n",
            "40/40 [==============================] - 61s 2s/step - loss: 0.4468 - accuracy: 0.8390 - val_loss: 0.1654 - val_accuracy: 0.9643\n",
            "Epoch 65/300\n",
            "40/40 [==============================] - 62s 2s/step - loss: 0.3093 - accuracy: 0.8983 - val_loss: 0.2012 - val_accuracy: 0.9286\n",
            "Epoch 66/300\n",
            "40/40 [==============================] - 61s 2s/step - loss: 0.3794 - accuracy: 0.8780 - val_loss: 0.1762 - val_accuracy: 0.9286\n",
            "Epoch 67/300\n",
            "40/40 [==============================] - 62s 2s/step - loss: 0.2820 - accuracy: 0.8995 - val_loss: 0.1170 - val_accuracy: 0.9821\n",
            "Epoch 68/300\n",
            "40/40 [==============================] - 61s 2s/step - loss: 0.3452 - accuracy: 0.8323 - val_loss: 0.0853 - val_accuracy: 0.9821\n",
            "Epoch 69/300\n",
            "40/40 [==============================] - 61s 2s/step - loss: 0.2802 - accuracy: 0.8761 - val_loss: 0.0886 - val_accuracy: 0.9643\n",
            "Epoch 70/300\n",
            "40/40 [==============================] - 61s 2s/step - loss: 0.3396 - accuracy: 0.8795 - val_loss: 0.1362 - val_accuracy: 0.9643\n",
            "Epoch 71/300\n",
            "40/40 [==============================] - 61s 2s/step - loss: 0.3139 - accuracy: 0.8614 - val_loss: 0.1397 - val_accuracy: 0.9464\n",
            "Epoch 72/300\n",
            "40/40 [==============================] - 63s 2s/step - loss: 0.2626 - accuracy: 0.8831 - val_loss: 0.0859 - val_accuracy: 0.9821\n",
            "Epoch 73/300\n",
            "40/40 [==============================] - 61s 2s/step - loss: 0.4166 - accuracy: 0.8481 - val_loss: 0.1554 - val_accuracy: 0.9286\n",
            "Epoch 74/300\n",
            "40/40 [==============================] - 62s 2s/step - loss: 0.3593 - accuracy: 0.8563 - val_loss: 0.2345 - val_accuracy: 0.8571\n",
            "Epoch 75/300\n",
            "40/40 [==============================] - 62s 2s/step - loss: 0.3429 - accuracy: 0.8658 - val_loss: 0.0585 - val_accuracy: 1.0000\n",
            "Epoch 76/300\n",
            "40/40 [==============================] - 62s 2s/step - loss: 0.2114 - accuracy: 0.9143 - val_loss: 0.0505 - val_accuracy: 1.0000\n",
            "Epoch 77/300\n",
            "40/40 [==============================] - 61s 2s/step - loss: 0.2992 - accuracy: 0.8892 - val_loss: 0.0566 - val_accuracy: 0.9821\n",
            "Epoch 78/300\n",
            "40/40 [==============================] - 62s 2s/step - loss: 0.3106 - accuracy: 0.8963 - val_loss: 0.1563 - val_accuracy: 0.9286\n",
            "Epoch 79/300\n",
            "40/40 [==============================] - 61s 2s/step - loss: 0.3035 - accuracy: 0.8667 - val_loss: 0.0761 - val_accuracy: 0.9821\n",
            "Epoch 80/300\n",
            "40/40 [==============================] - 61s 2s/step - loss: 0.2979 - accuracy: 0.8958 - val_loss: 0.0556 - val_accuracy: 1.0000\n",
            "Epoch 81/300\n",
            "40/40 [==============================] - 62s 2s/step - loss: 0.3494 - accuracy: 0.8597 - val_loss: 0.2095 - val_accuracy: 0.8750\n",
            "Epoch 82/300\n",
            "40/40 [==============================] - 61s 2s/step - loss: 0.2453 - accuracy: 0.9043 - val_loss: 0.0931 - val_accuracy: 0.9821\n",
            "Epoch 83/300\n",
            "40/40 [==============================] - 62s 2s/step - loss: 0.3073 - accuracy: 0.8684 - val_loss: 0.1606 - val_accuracy: 0.9286\n",
            "Epoch 84/300\n",
            "40/40 [==============================] - 61s 2s/step - loss: 0.2423 - accuracy: 0.9292 - val_loss: 0.0929 - val_accuracy: 1.0000\n",
            "Epoch 85/300\n",
            "40/40 [==============================] - 61s 2s/step - loss: 0.2916 - accuracy: 0.8731 - val_loss: 0.1566 - val_accuracy: 0.9464\n",
            "Epoch 86/300\n",
            "40/40 [==============================] - 63s 2s/step - loss: 0.2200 - accuracy: 0.9070 - val_loss: 0.3293 - val_accuracy: 0.9107\n",
            "Epoch 87/300\n",
            "40/40 [==============================] - 62s 2s/step - loss: 0.2568 - accuracy: 0.8851 - val_loss: 0.0676 - val_accuracy: 0.9821\n",
            "Epoch 88/300\n",
            "40/40 [==============================] - 61s 2s/step - loss: 0.2880 - accuracy: 0.8808 - val_loss: 0.3698 - val_accuracy: 0.8750\n",
            "Epoch 89/300\n",
            "40/40 [==============================] - 61s 2s/step - loss: 0.2547 - accuracy: 0.8909 - val_loss: 0.1168 - val_accuracy: 0.9643\n",
            "Epoch 90/300\n",
            "40/40 [==============================] - 61s 2s/step - loss: 0.2404 - accuracy: 0.9095 - val_loss: 0.0528 - val_accuracy: 1.0000\n",
            "Epoch 91/300\n",
            "40/40 [==============================] - 61s 2s/step - loss: 0.2953 - accuracy: 0.8654 - val_loss: 0.1028 - val_accuracy: 0.9464\n",
            "Epoch 92/300\n",
            "40/40 [==============================] - 62s 2s/step - loss: 0.2910 - accuracy: 0.8789 - val_loss: 0.0874 - val_accuracy: 0.9643\n",
            "Epoch 93/300\n",
            "40/40 [==============================] - 62s 2s/step - loss: 0.2148 - accuracy: 0.9299 - val_loss: 0.0352 - val_accuracy: 1.0000\n",
            "Epoch 94/300\n",
            "40/40 [==============================] - 64s 2s/step - loss: 0.2528 - accuracy: 0.9115 - val_loss: 0.0273 - val_accuracy: 1.0000\n",
            "Epoch 95/300\n",
            "40/40 [==============================] - 61s 2s/step - loss: 0.2666 - accuracy: 0.8966 - val_loss: 0.0439 - val_accuracy: 1.0000\n",
            "Epoch 96/300\n",
            "40/40 [==============================] - 62s 2s/step - loss: 0.1853 - accuracy: 0.9432 - val_loss: 0.0248 - val_accuracy: 1.0000\n",
            "Epoch 97/300\n",
            "40/40 [==============================] - 61s 2s/step - loss: 0.2092 - accuracy: 0.9373 - val_loss: 0.0625 - val_accuracy: 0.9821\n",
            "Epoch 98/300\n",
            "40/40 [==============================] - 61s 2s/step - loss: 0.2798 - accuracy: 0.8667 - val_loss: 0.0921 - val_accuracy: 0.9821\n",
            "Epoch 99/300\n",
            "40/40 [==============================] - 61s 2s/step - loss: 0.1920 - accuracy: 0.9182 - val_loss: 0.5397 - val_accuracy: 0.7321\n",
            "Epoch 100/300\n",
            "40/40 [==============================] - 61s 2s/step - loss: 0.3962 - accuracy: 0.8601 - val_loss: 0.0152 - val_accuracy: 1.0000\n",
            "Epoch 101/300\n",
            "40/40 [==============================] - 62s 2s/step - loss: 0.2329 - accuracy: 0.9220 - val_loss: 0.0306 - val_accuracy: 1.0000\n",
            "Epoch 102/300\n",
            "40/40 [==============================] - 62s 2s/step - loss: 0.2341 - accuracy: 0.9173 - val_loss: 0.0280 - val_accuracy: 1.0000\n",
            "Epoch 103/300\n",
            "40/40 [==============================] - 61s 2s/step - loss: 0.2599 - accuracy: 0.9072 - val_loss: 0.2571 - val_accuracy: 0.8750\n",
            "Epoch 104/300\n",
            "40/40 [==============================] - 61s 2s/step - loss: 0.1668 - accuracy: 0.9389 - val_loss: 0.0202 - val_accuracy: 1.0000\n",
            "Epoch 105/300\n",
            "40/40 [==============================] - 61s 2s/step - loss: 0.2706 - accuracy: 0.9028 - val_loss: 0.0212 - val_accuracy: 1.0000\n",
            "Epoch 106/300\n",
            "40/40 [==============================] - 61s 2s/step - loss: 0.1458 - accuracy: 0.9424 - val_loss: 0.0091 - val_accuracy: 1.0000\n",
            "Epoch 107/300\n",
            "40/40 [==============================] - 64s 2s/step - loss: 0.1876 - accuracy: 0.9312 - val_loss: 0.0387 - val_accuracy: 0.9821\n",
            "Epoch 108/300\n",
            "40/40 [==============================] - 61s 2s/step - loss: 0.2842 - accuracy: 0.8988 - val_loss: 0.0333 - val_accuracy: 0.9821\n",
            "Epoch 109/300\n",
            "40/40 [==============================] - 62s 2s/step - loss: 0.2493 - accuracy: 0.9408 - val_loss: 0.0522 - val_accuracy: 0.9643\n",
            "Epoch 110/300\n",
            "40/40 [==============================] - 61s 2s/step - loss: 0.1975 - accuracy: 0.9117 - val_loss: 0.0508 - val_accuracy: 0.9821\n",
            "Epoch 111/300\n",
            "40/40 [==============================] - 64s 2s/step - loss: 0.1608 - accuracy: 0.9412 - val_loss: 0.0678 - val_accuracy: 0.9821\n",
            "Epoch 112/300\n",
            "40/40 [==============================] - 61s 2s/step - loss: 0.2374 - accuracy: 0.9091 - val_loss: 0.0167 - val_accuracy: 1.0000\n",
            "Epoch 113/300\n",
            "40/40 [==============================] - 62s 2s/step - loss: 0.3834 - accuracy: 0.8153 - val_loss: 0.0454 - val_accuracy: 0.9821\n",
            "Epoch 114/300\n",
            "40/40 [==============================] - 61s 2s/step - loss: 0.2416 - accuracy: 0.9066 - val_loss: 0.1660 - val_accuracy: 0.9107\n",
            "Epoch 115/300\n",
            "40/40 [==============================] - 62s 2s/step - loss: 0.2526 - accuracy: 0.9151 - val_loss: 0.1126 - val_accuracy: 0.9643\n",
            "Epoch 116/300\n",
            "40/40 [==============================] - 64s 2s/step - loss: 0.3008 - accuracy: 0.9005 - val_loss: 0.0497 - val_accuracy: 0.9821\n",
            "Epoch 117/300\n",
            "33/40 [=======================>......] - ETA: 10s - loss: 0.2338 - accuracy: 0.9078"
          ],
          "name": "stdout"
        }
      ]
    },
    {
      "cell_type": "code",
      "metadata": {
        "id": "bowqTzAk5mWk"
      },
      "source": [
        ""
      ],
      "execution_count": 13,
      "outputs": []
    }
  ]
}