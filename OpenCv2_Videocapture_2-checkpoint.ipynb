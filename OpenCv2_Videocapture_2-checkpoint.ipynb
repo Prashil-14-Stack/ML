{
 "cells": [
  {
   "cell_type": "code",
   "execution_count": 21,
   "id": "4018fd6a",
   "metadata": {},
   "outputs": [
    {
     "name": "stdout",
     "output_type": "stream",
     "text": [
      "640.0\n",
      "480.0\n"
     ]
    }
   ],
   "source": [
    "import cv2\n",
    "import datetime\n",
    "cap=cv2.VideoCapture(0)\n",
    "fourcc=cv2.VideoWriter_fourcc(*'XVID')\n",
    "\n",
    "print(cap.get(cv2.CAP_PROP_FRAME_WIDTH))\n",
    "print(cap.get(cv2.CAP_PROP_FRAME_HEIGHT))\n",
    "    \n",
    "#cap.set(3,1280)\n",
    "#cap.set(4,640)\n",
    "    \n",
    "#print(cap.get(3))\n",
    "#print(cap.get(4))\n",
    "\n",
    "while(True):\n",
    "    ret,frame=cap.read()\n",
    "    if ret==True:\n",
    "        \n",
    "        font =cv2.FONT_HERSHEY_SIMPLEX\n",
    "        text='Width : ' + str(cap.get(3)) + ' Height : ' +str(cap.get(4))\n",
    "        datet=str(datetime.datetime.now())\n",
    "        frame=cv2.putText(frame,datet,(10,50),font,1,(0,255,0),2,lineType=cv2.LINE_AA)\n",
    "    \n",
    "    cv2.imshow('Live_Streaming', frame)\n",
    "    \n",
    "    if cv2.waitKey(1) & 0xFF == ord('q'):\n",
    "        break\n",
    "        \n",
    "cap.release()\n",
    "cv2.destroyAllWindows()\n",
    "    "
   ]
  },
  {
   "cell_type": "code",
   "execution_count": null,
   "id": "dece7e7b",
   "metadata": {},
   "outputs": [],
   "source": []
  }
 ],
 "metadata": {
  "kernelspec": {
   "display_name": "Python 3 (ipykernel)",
   "language": "python",
   "name": "python3"
  },
  "language_info": {
   "codemirror_mode": {
    "name": "ipython",
    "version": 3
   },
   "file_extension": ".py",
   "mimetype": "text/x-python",
   "name": "python",
   "nbconvert_exporter": "python",
   "pygments_lexer": "ipython3",
   "version": "3.7.1"
  }
 },
 "nbformat": 4,
 "nbformat_minor": 5
}
