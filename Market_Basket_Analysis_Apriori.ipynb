{
  "nbformat": 4,
  "nbformat_minor": 0,
  "metadata": {
    "colab": {
      "name": "Market_Basket_Analysis_Apriori.ipynb",
      "provenance": [],
      "collapsed_sections": [],
      "authorship_tag": "ABX9TyNRJ1hBwLZ3vlmOqrqDKoSt",
      "include_colab_link": true
    },
    "kernelspec": {
      "name": "python3",
      "display_name": "Python 3"
    },
    "language_info": {
      "name": "python"
    }
  },
  "cells": [
    {
      "cell_type": "markdown",
      "metadata": {
        "id": "view-in-github",
        "colab_type": "text"
      },
      "source": [
        "<a href=\"https://colab.research.google.com/github/Prashil-14-Stack/ML/blob/main/Market_Basket_Analysis_Apriori.ipynb\" target=\"_parent\"><img src=\"https://colab.research.google.com/assets/colab-badge.svg\" alt=\"Open In Colab\"/></a>"
      ]
    },
    {
      "cell_type": "code",
      "metadata": {
        "id": "J1REtG6VwFyM"
      },
      "source": [
        "import numpy as np\n",
        "import pandas as pd\n",
        "import matplotlib.pyplot as plt"
      ],
      "execution_count": 2,
      "outputs": []
    },
    {
      "cell_type": "code",
      "metadata": {
        "colab": {
          "resources": {
            "http://localhost:8080/nbextensions/google.colab/files.js": {
              "data": "Ly8gQ29weXJpZ2h0IDIwMTcgR29vZ2xlIExMQwovLwovLyBMaWNlbnNlZCB1bmRlciB0aGUgQXBhY2hlIExpY2Vuc2UsIFZlcnNpb24gMi4wICh0aGUgIkxpY2Vuc2UiKTsKLy8geW91IG1heSBub3QgdXNlIHRoaXMgZmlsZSBleGNlcHQgaW4gY29tcGxpYW5jZSB3aXRoIHRoZSBMaWNlbnNlLgovLyBZb3UgbWF5IG9idGFpbiBhIGNvcHkgb2YgdGhlIExpY2Vuc2UgYXQKLy8KLy8gICAgICBodHRwOi8vd3d3LmFwYWNoZS5vcmcvbGljZW5zZXMvTElDRU5TRS0yLjAKLy8KLy8gVW5sZXNzIHJlcXVpcmVkIGJ5IGFwcGxpY2FibGUgbGF3IG9yIGFncmVlZCB0byBpbiB3cml0aW5nLCBzb2Z0d2FyZQovLyBkaXN0cmlidXRlZCB1bmRlciB0aGUgTGljZW5zZSBpcyBkaXN0cmlidXRlZCBvbiBhbiAiQVMgSVMiIEJBU0lTLAovLyBXSVRIT1VUIFdBUlJBTlRJRVMgT1IgQ09ORElUSU9OUyBPRiBBTlkgS0lORCwgZWl0aGVyIGV4cHJlc3Mgb3IgaW1wbGllZC4KLy8gU2VlIHRoZSBMaWNlbnNlIGZvciB0aGUgc3BlY2lmaWMgbGFuZ3VhZ2UgZ292ZXJuaW5nIHBlcm1pc3Npb25zIGFuZAovLyBsaW1pdGF0aW9ucyB1bmRlciB0aGUgTGljZW5zZS4KCi8qKgogKiBAZmlsZW92ZXJ2aWV3IEhlbHBlcnMgZm9yIGdvb2dsZS5jb2xhYiBQeXRob24gbW9kdWxlLgogKi8KKGZ1bmN0aW9uKHNjb3BlKSB7CmZ1bmN0aW9uIHNwYW4odGV4dCwgc3R5bGVBdHRyaWJ1dGVzID0ge30pIHsKICBjb25zdCBlbGVtZW50ID0gZG9jdW1lbnQuY3JlYXRlRWxlbWVudCgnc3BhbicpOwogIGVsZW1lbnQudGV4dENvbnRlbnQgPSB0ZXh0OwogIGZvciAoY29uc3Qga2V5IG9mIE9iamVjdC5rZXlzKHN0eWxlQXR0cmlidXRlcykpIHsKICAgIGVsZW1lbnQuc3R5bGVba2V5XSA9IHN0eWxlQXR0cmlidXRlc1trZXldOwogIH0KICByZXR1cm4gZWxlbWVudDsKfQoKLy8gTWF4IG51bWJlciBvZiBieXRlcyB3aGljaCB3aWxsIGJlIHVwbG9hZGVkIGF0IGEgdGltZS4KY29uc3QgTUFYX1BBWUxPQURfU0laRSA9IDEwMCAqIDEwMjQ7CgpmdW5jdGlvbiBfdXBsb2FkRmlsZXMoaW5wdXRJZCwgb3V0cHV0SWQpIHsKICBjb25zdCBzdGVwcyA9IHVwbG9hZEZpbGVzU3RlcChpbnB1dElkLCBvdXRwdXRJZCk7CiAgY29uc3Qgb3V0cHV0RWxlbWVudCA9IGRvY3VtZW50LmdldEVsZW1lbnRCeUlkKG91dHB1dElkKTsKICAvLyBDYWNoZSBzdGVwcyBvbiB0aGUgb3V0cHV0RWxlbWVudCB0byBtYWtlIGl0IGF2YWlsYWJsZSBmb3IgdGhlIG5leHQgY2FsbAogIC8vIHRvIHVwbG9hZEZpbGVzQ29udGludWUgZnJvbSBQeXRob24uCiAgb3V0cHV0RWxlbWVudC5zdGVwcyA9IHN0ZXBzOwoKICByZXR1cm4gX3VwbG9hZEZpbGVzQ29udGludWUob3V0cHV0SWQpOwp9CgovLyBUaGlzIGlzIHJvdWdobHkgYW4gYXN5bmMgZ2VuZXJhdG9yIChub3Qgc3VwcG9ydGVkIGluIHRoZSBicm93c2VyIHlldCksCi8vIHdoZXJlIHRoZXJlIGFyZSBtdWx0aXBsZSBhc3luY2hyb25vdXMgc3RlcHMgYW5kIHRoZSBQeXRob24gc2lkZSBpcyBnb2luZwovLyB0byBwb2xsIGZvciBjb21wbGV0aW9uIG9mIGVhY2ggc3RlcC4KLy8gVGhpcyB1c2VzIGEgUHJvbWlzZSB0byBibG9jayB0aGUgcHl0aG9uIHNpZGUgb24gY29tcGxldGlvbiBvZiBlYWNoIHN0ZXAsCi8vIHRoZW4gcGFzc2VzIHRoZSByZXN1bHQgb2YgdGhlIHByZXZpb3VzIHN0ZXAgYXMgdGhlIGlucHV0IHRvIHRoZSBuZXh0IHN0ZXAuCmZ1bmN0aW9uIF91cGxvYWRGaWxlc0NvbnRpbnVlKG91dHB1dElkKSB7CiAgY29uc3Qgb3V0cHV0RWxlbWVudCA9IGRvY3VtZW50LmdldEVsZW1lbnRCeUlkKG91dHB1dElkKTsKICBjb25zdCBzdGVwcyA9IG91dHB1dEVsZW1lbnQuc3RlcHM7CgogIGNvbnN0IG5leHQgPSBzdGVwcy5uZXh0KG91dHB1dEVsZW1lbnQubGFzdFByb21pc2VWYWx1ZSk7CiAgcmV0dXJuIFByb21pc2UucmVzb2x2ZShuZXh0LnZhbHVlLnByb21pc2UpLnRoZW4oKHZhbHVlKSA9PiB7CiAgICAvLyBDYWNoZSB0aGUgbGFzdCBwcm9taXNlIHZhbHVlIHRvIG1ha2UgaXQgYXZhaWxhYmxlIHRvIHRoZSBuZXh0CiAgICAvLyBzdGVwIG9mIHRoZSBnZW5lcmF0b3IuCiAgICBvdXRwdXRFbGVtZW50Lmxhc3RQcm9taXNlVmFsdWUgPSB2YWx1ZTsKICAgIHJldHVybiBuZXh0LnZhbHVlLnJlc3BvbnNlOwogIH0pOwp9CgovKioKICogR2VuZXJhdG9yIGZ1bmN0aW9uIHdoaWNoIGlzIGNhbGxlZCBiZXR3ZWVuIGVhY2ggYXN5bmMgc3RlcCBvZiB0aGUgdXBsb2FkCiAqIHByb2Nlc3MuCiAqIEBwYXJhbSB7c3RyaW5nfSBpbnB1dElkIEVsZW1lbnQgSUQgb2YgdGhlIGlucHV0IGZpbGUgcGlja2VyIGVsZW1lbnQuCiAqIEBwYXJhbSB7c3RyaW5nfSBvdXRwdXRJZCBFbGVtZW50IElEIG9mIHRoZSBvdXRwdXQgZGlzcGxheS4KICogQHJldHVybiB7IUl0ZXJhYmxlPCFPYmplY3Q+fSBJdGVyYWJsZSBvZiBuZXh0IHN0ZXBzLgogKi8KZnVuY3Rpb24qIHVwbG9hZEZpbGVzU3RlcChpbnB1dElkLCBvdXRwdXRJZCkgewogIGNvbnN0IGlucHV0RWxlbWVudCA9IGRvY3VtZW50LmdldEVsZW1lbnRCeUlkKGlucHV0SWQpOwogIGlucHV0RWxlbWVudC5kaXNhYmxlZCA9IGZhbHNlOwoKICBjb25zdCBvdXRwdXRFbGVtZW50ID0gZG9jdW1lbnQuZ2V0RWxlbWVudEJ5SWQob3V0cHV0SWQpOwogIG91dHB1dEVsZW1lbnQuaW5uZXJIVE1MID0gJyc7CgogIGNvbnN0IHBpY2tlZFByb21pc2UgPSBuZXcgUHJvbWlzZSgocmVzb2x2ZSkgPT4gewogICAgaW5wdXRFbGVtZW50LmFkZEV2ZW50TGlzdGVuZXIoJ2NoYW5nZScsIChlKSA9PiB7CiAgICAgIHJlc29sdmUoZS50YXJnZXQuZmlsZXMpOwogICAgfSk7CiAgfSk7CgogIGNvbnN0IGNhbmNlbCA9IGRvY3VtZW50LmNyZWF0ZUVsZW1lbnQoJ2J1dHRvbicpOwogIGlucHV0RWxlbWVudC5wYXJlbnRFbGVtZW50LmFwcGVuZENoaWxkKGNhbmNlbCk7CiAgY2FuY2VsLnRleHRDb250ZW50ID0gJ0NhbmNlbCB1cGxvYWQnOwogIGNvbnN0IGNhbmNlbFByb21pc2UgPSBuZXcgUHJvbWlzZSgocmVzb2x2ZSkgPT4gewogICAgY2FuY2VsLm9uY2xpY2sgPSAoKSA9PiB7CiAgICAgIHJlc29sdmUobnVsbCk7CiAgICB9OwogIH0pOwoKICAvLyBXYWl0IGZvciB0aGUgdXNlciB0byBwaWNrIHRoZSBmaWxlcy4KICBjb25zdCBmaWxlcyA9IHlpZWxkIHsKICAgIHByb21pc2U6IFByb21pc2UucmFjZShbcGlja2VkUHJvbWlzZSwgY2FuY2VsUHJvbWlzZV0pLAogICAgcmVzcG9uc2U6IHsKICAgICAgYWN0aW9uOiAnc3RhcnRpbmcnLAogICAgfQogIH07CgogIGNhbmNlbC5yZW1vdmUoKTsKCiAgLy8gRGlzYWJsZSB0aGUgaW5wdXQgZWxlbWVudCBzaW5jZSBmdXJ0aGVyIHBpY2tzIGFyZSBub3QgYWxsb3dlZC4KICBpbnB1dEVsZW1lbnQuZGlzYWJsZWQgPSB0cnVlOwoKICBpZiAoIWZpbGVzKSB7CiAgICByZXR1cm4gewogICAgICByZXNwb25zZTogewogICAgICAgIGFjdGlvbjogJ2NvbXBsZXRlJywKICAgICAgfQogICAgfTsKICB9CgogIGZvciAoY29uc3QgZmlsZSBvZiBmaWxlcykgewogICAgY29uc3QgbGkgPSBkb2N1bWVudC5jcmVhdGVFbGVtZW50KCdsaScpOwogICAgbGkuYXBwZW5kKHNwYW4oZmlsZS5uYW1lLCB7Zm9udFdlaWdodDogJ2JvbGQnfSkpOwogICAgbGkuYXBwZW5kKHNwYW4oCiAgICAgICAgYCgke2ZpbGUudHlwZSB8fCAnbi9hJ30pIC0gJHtmaWxlLnNpemV9IGJ5dGVzLCBgICsKICAgICAgICBgbGFzdCBtb2RpZmllZDogJHsKICAgICAgICAgICAgZmlsZS5sYXN0TW9kaWZpZWREYXRlID8gZmlsZS5sYXN0TW9kaWZpZWREYXRlLnRvTG9jYWxlRGF0ZVN0cmluZygpIDoKICAgICAgICAgICAgICAgICAgICAgICAgICAgICAgICAgICAgJ24vYSd9IC0gYCkpOwogICAgY29uc3QgcGVyY2VudCA9IHNwYW4oJzAlIGRvbmUnKTsKICAgIGxpLmFwcGVuZENoaWxkKHBlcmNlbnQpOwoKICAgIG91dHB1dEVsZW1lbnQuYXBwZW5kQ2hpbGQobGkpOwoKICAgIGNvbnN0IGZpbGVEYXRhUHJvbWlzZSA9IG5ldyBQcm9taXNlKChyZXNvbHZlKSA9PiB7CiAgICAgIGNvbnN0IHJlYWRlciA9IG5ldyBGaWxlUmVhZGVyKCk7CiAgICAgIHJlYWRlci5vbmxvYWQgPSAoZSkgPT4gewogICAgICAgIHJlc29sdmUoZS50YXJnZXQucmVzdWx0KTsKICAgICAgfTsKICAgICAgcmVhZGVyLnJlYWRBc0FycmF5QnVmZmVyKGZpbGUpOwogICAgfSk7CiAgICAvLyBXYWl0IGZvciB0aGUgZGF0YSB0byBiZSByZWFkeS4KICAgIGxldCBmaWxlRGF0YSA9IHlpZWxkIHsKICAgICAgcHJvbWlzZTogZmlsZURhdGFQcm9taXNlLAogICAgICByZXNwb25zZTogewogICAgICAgIGFjdGlvbjogJ2NvbnRpbnVlJywKICAgICAgfQogICAgfTsKCiAgICAvLyBVc2UgYSBjaHVua2VkIHNlbmRpbmcgdG8gYXZvaWQgbWVzc2FnZSBzaXplIGxpbWl0cy4gU2VlIGIvNjIxMTU2NjAuCiAgICBsZXQgcG9zaXRpb24gPSAwOwogICAgZG8gewogICAgICBjb25zdCBsZW5ndGggPSBNYXRoLm1pbihmaWxlRGF0YS5ieXRlTGVuZ3RoIC0gcG9zaXRpb24sIE1BWF9QQVlMT0FEX1NJWkUpOwogICAgICBjb25zdCBjaHVuayA9IG5ldyBVaW50OEFycmF5KGZpbGVEYXRhLCBwb3NpdGlvbiwgbGVuZ3RoKTsKICAgICAgcG9zaXRpb24gKz0gbGVuZ3RoOwoKICAgICAgY29uc3QgYmFzZTY0ID0gYnRvYShTdHJpbmcuZnJvbUNoYXJDb2RlLmFwcGx5KG51bGwsIGNodW5rKSk7CiAgICAgIHlpZWxkIHsKICAgICAgICByZXNwb25zZTogewogICAgICAgICAgYWN0aW9uOiAnYXBwZW5kJywKICAgICAgICAgIGZpbGU6IGZpbGUubmFtZSwKICAgICAgICAgIGRhdGE6IGJhc2U2NCwKICAgICAgICB9LAogICAgICB9OwoKICAgICAgbGV0IHBlcmNlbnREb25lID0gZmlsZURhdGEuYnl0ZUxlbmd0aCA9PT0gMCA/CiAgICAgICAgICAxMDAgOgogICAgICAgICAgTWF0aC5yb3VuZCgocG9zaXRpb24gLyBmaWxlRGF0YS5ieXRlTGVuZ3RoKSAqIDEwMCk7CiAgICAgIHBlcmNlbnQudGV4dENvbnRlbnQgPSBgJHtwZXJjZW50RG9uZX0lIGRvbmVgOwoKICAgIH0gd2hpbGUgKHBvc2l0aW9uIDwgZmlsZURhdGEuYnl0ZUxlbmd0aCk7CiAgfQoKICAvLyBBbGwgZG9uZS4KICB5aWVsZCB7CiAgICByZXNwb25zZTogewogICAgICBhY3Rpb246ICdjb21wbGV0ZScsCiAgICB9CiAgfTsKfQoKc2NvcGUuZ29vZ2xlID0gc2NvcGUuZ29vZ2xlIHx8IHt9OwpzY29wZS5nb29nbGUuY29sYWIgPSBzY29wZS5nb29nbGUuY29sYWIgfHwge307CnNjb3BlLmdvb2dsZS5jb2xhYi5fZmlsZXMgPSB7CiAgX3VwbG9hZEZpbGVzLAogIF91cGxvYWRGaWxlc0NvbnRpbnVlLAp9Owp9KShzZWxmKTsK",
              "ok": true,
              "headers": [
                [
                  "content-type",
                  "application/javascript"
                ]
              ],
              "status": 200,
              "status_text": ""
            }
          },
          "base_uri": "https://localhost:8080/",
          "height": 73
        },
        "id": "HYDSnEb5wewU",
        "outputId": "356d8ad3-4c98-4f7d-c9ca-083d837490f5"
      },
      "source": [
        "from google.colab import files\n",
        "uploaded=files.upload()"
      ],
      "execution_count": 3,
      "outputs": [
        {
          "output_type": "display_data",
          "data": {
            "text/html": [
              "\n",
              "     <input type=\"file\" id=\"files-86f4895c-104f-4b1a-80ae-75fc7cd6d693\" name=\"files[]\" multiple disabled\n",
              "        style=\"border:none\" />\n",
              "     <output id=\"result-86f4895c-104f-4b1a-80ae-75fc7cd6d693\">\n",
              "      Upload widget is only available when the cell has been executed in the\n",
              "      current browser session. Please rerun this cell to enable.\n",
              "      </output>\n",
              "      <script src=\"/nbextensions/google.colab/files.js\"></script> "
            ],
            "text/plain": [
              "<IPython.core.display.HTML object>"
            ]
          },
          "metadata": {
            "tags": []
          }
        },
        {
          "output_type": "stream",
          "text": [
            "Saving dataset.csv to dataset.csv\n"
          ],
          "name": "stdout"
        }
      ]
    },
    {
      "cell_type": "code",
      "metadata": {
        "id": "pqay3182wwBC"
      },
      "source": [
        "df=pd.read_csv('dataset.csv')"
      ],
      "execution_count": 5,
      "outputs": []
    },
    {
      "cell_type": "code",
      "metadata": {
        "colab": {
          "base_uri": "https://localhost:8080/"
        },
        "id": "n9n8nfFyw9mZ",
        "outputId": "1315eb62-39d6-4b8f-c0ba-7f56261f1c6d"
      },
      "source": [
        "print(df.head(5))\n",
        "df.shape"
      ],
      "execution_count": 7,
      "outputs": [
        {
          "output_type": "stream",
          "text": [
            "           shrimp    almonds     avocado  ... frozen smoothie spinach olive oil\n",
            "0         burgers  meatballs        eggs  ...             NaN     NaN       NaN\n",
            "1         chutney        NaN         NaN  ...             NaN     NaN       NaN\n",
            "2          turkey    avocado         NaN  ...             NaN     NaN       NaN\n",
            "3   mineral water       milk  energy bar  ...             NaN     NaN       NaN\n",
            "4  low fat yogurt        NaN         NaN  ...             NaN     NaN       NaN\n",
            "\n",
            "[5 rows x 20 columns]\n"
          ],
          "name": "stdout"
        },
        {
          "output_type": "execute_result",
          "data": {
            "text/plain": [
              "(7500, 20)"
            ]
          },
          "metadata": {
            "tags": []
          },
          "execution_count": 7
        }
      ]
    },
    {
      "cell_type": "code",
      "metadata": {
        "id": "NUoXHGJOxDxm"
      },
      "source": [
        "transactions=[]\n",
        "for i in range(0,7500):\n",
        "  transactions.append([str(df.values[i,j]) for j in range(0,20)])"
      ],
      "execution_count": 10,
      "outputs": []
    },
    {
      "cell_type": "code",
      "metadata": {
        "colab": {
          "base_uri": "https://localhost:8080/"
        },
        "id": "uTwnb9OQxd1p",
        "outputId": "1130d6a1-b5ce-47c9-e104-fe33d15a0ae9"
      },
      "source": [
        "!pip install apyori\n",
        "from apyori import apriori\n"
      ],
      "execution_count": 12,
      "outputs": [
        {
          "output_type": "stream",
          "text": [
            "Collecting apyori\n",
            "  Downloading apyori-1.1.2.tar.gz (8.6 kB)\n",
            "Building wheels for collected packages: apyori\n",
            "  Building wheel for apyori (setup.py) ... \u001b[?25l\u001b[?25hdone\n",
            "  Created wheel for apyori: filename=apyori-1.1.2-py3-none-any.whl size=5975 sha256=4129196867f282c480c8dc588ba195235e17120b19b9a12f2a45a1c72dd3ee42\n",
            "  Stored in directory: /root/.cache/pip/wheels/cb/f6/e1/57973c631d27efd1a2f375bd6a83b2a616c4021f24aab84080\n",
            "Successfully built apyori\n",
            "Installing collected packages: apyori\n",
            "Successfully installed apyori-1.1.2\n"
          ],
          "name": "stdout"
        }
      ]
    },
    {
      "cell_type": "code",
      "metadata": {
        "id": "wk6a85lp0E3V"
      },
      "source": [
        "rules=apriori(transactions=transactions,min_support=0.003,min_confidence=0.2,min_lift=3,min_lenght=2,max_lenght=2)"
      ],
      "execution_count": 22,
      "outputs": []
    },
    {
      "cell_type": "code",
      "metadata": {
        "id": "Ja2FyBR_0HHi"
      },
      "source": [
        "results=list(rules) "
      ],
      "execution_count": 23,
      "outputs": []
    },
    {
      "cell_type": "code",
      "metadata": {
        "colab": {
          "base_uri": "https://localhost:8080/"
        },
        "id": "xmtrwew30Z02",
        "outputId": "2fe723b4-88ca-4cfb-a173-befc3ef87380"
      },
      "source": [
        "results"
      ],
      "execution_count": 24,
      "outputs": [
        {
          "output_type": "execute_result",
          "data": {
            "text/plain": [
              "[RelationRecord(items=frozenset({'light cream', 'chicken'}), support=0.004533333333333334, ordered_statistics=[OrderedStatistic(items_base=frozenset({'light cream'}), items_add=frozenset({'chicken'}), confidence=0.2905982905982906, lift=4.843304843304844)]),\n",
              " RelationRecord(items=frozenset({'escalope', 'mushroom cream sauce'}), support=0.005733333333333333, ordered_statistics=[OrderedStatistic(items_base=frozenset({'mushroom cream sauce'}), items_add=frozenset({'escalope'}), confidence=0.30069930069930073, lift=3.7903273197390845)]),\n",
              " RelationRecord(items=frozenset({'escalope', 'pasta'}), support=0.005866666666666667, ordered_statistics=[OrderedStatistic(items_base=frozenset({'pasta'}), items_add=frozenset({'escalope'}), confidence=0.37288135593220345, lift=4.700185158809287)]),\n",
              " RelationRecord(items=frozenset({'honey', 'fromage blanc'}), support=0.0033333333333333335, ordered_statistics=[OrderedStatistic(items_base=frozenset({'fromage blanc'}), items_add=frozenset({'honey'}), confidence=0.2450980392156863, lift=5.178127589063795)]),\n",
              " RelationRecord(items=frozenset({'herb & pepper', 'ground beef'}), support=0.016, ordered_statistics=[OrderedStatistic(items_base=frozenset({'herb & pepper'}), items_add=frozenset({'ground beef'}), confidence=0.3234501347708895, lift=3.2915549671393096)]),\n",
              " RelationRecord(items=frozenset({'tomato sauce', 'ground beef'}), support=0.005333333333333333, ordered_statistics=[OrderedStatistic(items_base=frozenset({'tomato sauce'}), items_add=frozenset({'ground beef'}), confidence=0.37735849056603776, lift=3.840147461662528)]),\n",
              " RelationRecord(items=frozenset({'olive oil', 'light cream'}), support=0.0032, ordered_statistics=[OrderedStatistic(items_base=frozenset({'light cream'}), items_add=frozenset({'olive oil'}), confidence=0.20512820512820515, lift=3.120611639881417)]),\n",
              " RelationRecord(items=frozenset({'olive oil', 'whole wheat pasta'}), support=0.008, ordered_statistics=[OrderedStatistic(items_base=frozenset({'whole wheat pasta'}), items_add=frozenset({'olive oil'}), confidence=0.2714932126696833, lift=4.130221288078346)]),\n",
              " RelationRecord(items=frozenset({'shrimp', 'pasta'}), support=0.005066666666666666, ordered_statistics=[OrderedStatistic(items_base=frozenset({'pasta'}), items_add=frozenset({'shrimp'}), confidence=0.3220338983050848, lift=4.514493901473151)]),\n",
              " RelationRecord(items=frozenset({'milk', 'spaghetti', 'avocado'}), support=0.0033333333333333335, ordered_statistics=[OrderedStatistic(items_base=frozenset({'spaghetti', 'avocado'}), items_add=frozenset({'milk'}), confidence=0.4166666666666667, lift=3.2150205761316877)]),\n",
              " RelationRecord(items=frozenset({'burgers', 'cake', 'milk'}), support=0.0037333333333333333, ordered_statistics=[OrderedStatistic(items_base=frozenset({'cake', 'milk'}), items_add=frozenset({'burgers'}), confidence=0.27999999999999997, lift=3.2110091743119265)]),\n",
              " RelationRecord(items=frozenset({'burgers', 'turkey', 'chocolate'}), support=0.0030666666666666668, ordered_statistics=[OrderedStatistic(items_base=frozenset({'turkey', 'chocolate'}), items_add=frozenset({'burgers'}), confidence=0.27058823529411763, lift=3.10307609282245)]),\n",
              " RelationRecord(items=frozenset({'burgers', 'turkey', 'milk'}), support=0.0032, ordered_statistics=[OrderedStatistic(items_base=frozenset({'turkey', 'milk'}), items_add=frozenset({'burgers'}), confidence=0.2823529411764706, lift=3.237992444684296)]),\n",
              " RelationRecord(items=frozenset({'tomatoes', 'cake', 'frozen vegetables'}), support=0.0030666666666666668, ordered_statistics=[OrderedStatistic(items_base=frozenset({'cake', 'frozen vegetables'}), items_add=frozenset({'tomatoes'}), confidence=0.2987012987012987, lift=4.366978051188577), OrderedStatistic(items_base=frozenset({'tomatoes', 'cake'}), items_add=frozenset({'frozen vegetables'}), confidence=0.3650793650793651, lift=3.8295038295038295)]),\n",
              " RelationRecord(items=frozenset({'spaghetti', 'ground beef', 'cereals'}), support=0.0030666666666666668, ordered_statistics=[OrderedStatistic(items_base=frozenset({'ground beef', 'cereals'}), items_add=frozenset({'spaghetti'}), confidence=0.676470588235294, lift=3.884785154490586), OrderedStatistic(items_base=frozenset({'spaghetti', 'cereals'}), items_add=frozenset({'ground beef'}), confidence=0.45999999999999996, lift=4.681139755766621)]),\n",
              " RelationRecord(items=frozenset({'milk', 'chicken', 'ground beef'}), support=0.0038666666666666667, ordered_statistics=[OrderedStatistic(items_base=frozenset({'chicken', 'ground beef'}), items_add=frozenset({'milk'}), confidence=0.4084507042253521, lift=3.151625804207964)]),\n",
              " RelationRecord(items=frozenset({'nan', 'light cream', 'chicken'}), support=0.004533333333333334, ordered_statistics=[OrderedStatistic(items_base=frozenset({'light cream'}), items_add=frozenset({'chicken', 'nan'}), confidence=0.2905982905982906, lift=4.843304843304844), OrderedStatistic(items_base=frozenset({'nan', 'light cream'}), items_add=frozenset({'chicken'}), confidence=0.2905982905982906, lift=4.843304843304844)]),\n",
              " RelationRecord(items=frozenset({'milk', 'chicken', 'olive oil'}), support=0.0036, ordered_statistics=[OrderedStatistic(items_base=frozenset({'milk', 'chicken'}), items_add=frozenset({'olive oil'}), confidence=0.24324324324324323, lift=3.7004550189134364), OrderedStatistic(items_base=frozenset({'olive oil', 'chicken'}), items_add=frozenset({'milk'}), confidence=0.5, lift=3.858024691358025), OrderedStatistic(items_base=frozenset({'olive oil', 'milk'}), items_add=frozenset({'chicken'}), confidence=0.21093749999999997, lift=3.5156249999999996)]),\n",
              " RelationRecord(items=frozenset({'olive oil', 'spaghetti', 'chicken'}), support=0.0034666666666666665, ordered_statistics=[OrderedStatistic(items_base=frozenset({'spaghetti', 'chicken'}), items_add=frozenset({'olive oil'}), confidence=0.20155038759689922, lift=3.0661823670927872)]),\n",
              " RelationRecord(items=frozenset({'chocolate', 'frozen vegetables', 'shrimp'}), support=0.005333333333333333, ordered_statistics=[OrderedStatistic(items_base=frozenset({'chocolate', 'frozen vegetables'}), items_add=frozenset({'shrimp'}), confidence=0.23255813953488372, lift=3.260160834601174), OrderedStatistic(items_base=frozenset({'chocolate', 'shrimp'}), items_add=frozenset({'frozen vegetables'}), confidence=0.29629629629629634, lift=3.1080031080031083)]),\n",
              " RelationRecord(items=frozenset({'chocolate', 'herb & pepper', 'ground beef'}), support=0.004, ordered_statistics=[OrderedStatistic(items_base=frozenset({'chocolate', 'herb & pepper'}), items_add=frozenset({'ground beef'}), confidence=0.4411764705882353, lift=4.489584164737808)]),\n",
              " RelationRecord(items=frozenset({'soup', 'chocolate', 'milk'}), support=0.004, ordered_statistics=[OrderedStatistic(items_base=frozenset({'soup', 'chocolate'}), items_add=frozenset({'milk'}), confidence=0.39473684210526316, lift=3.045808966861599)]),\n",
              " RelationRecord(items=frozenset({'spaghetti', 'cooking oil', 'ground beef'}), support=0.0048, ordered_statistics=[OrderedStatistic(items_base=frozenset({'cooking oil', 'ground beef'}), items_add=frozenset({'spaghetti'}), confidence=0.5714285714285714, lift=3.281557646029315), OrderedStatistic(items_base=frozenset({'spaghetti', 'cooking oil'}), items_add=frozenset({'ground beef'}), confidence=0.30252100840336127, lift=3.0785719986773534)]),\n",
              " RelationRecord(items=frozenset({'eggs', 'herb & pepper', 'ground beef'}), support=0.0041333333333333335, ordered_statistics=[OrderedStatistic(items_base=frozenset({'eggs', 'ground beef'}), items_add=frozenset({'herb & pepper'}), confidence=0.20666666666666667, lift=4.177897574123989), OrderedStatistic(items_base=frozenset({'eggs', 'herb & pepper'}), items_add=frozenset({'ground beef'}), confidence=0.32978723404255317, lift=3.3560437656976236)]),\n",
              " RelationRecord(items=frozenset({'spaghetti', 'eggs', 'red wine'}), support=0.0037333333333333333, ordered_statistics=[OrderedStatistic(items_base=frozenset({'eggs', 'red wine'}), items_add=frozenset({'spaghetti'}), confidence=0.5283018867924528, lift=3.0338929180271026)]),\n",
              " RelationRecord(items=frozenset({'escalope', 'nan', 'mushroom cream sauce'}), support=0.005733333333333333, ordered_statistics=[OrderedStatistic(items_base=frozenset({'mushroom cream sauce'}), items_add=frozenset({'escalope', 'nan'}), confidence=0.30069930069930073, lift=3.7903273197390845), OrderedStatistic(items_base=frozenset({'nan', 'mushroom cream sauce'}), items_add=frozenset({'escalope'}), confidence=0.30069930069930073, lift=3.7903273197390845)]),\n",
              " RelationRecord(items=frozenset({'escalope', 'nan', 'pasta'}), support=0.005866666666666667, ordered_statistics=[OrderedStatistic(items_base=frozenset({'pasta'}), items_add=frozenset({'escalope', 'nan'}), confidence=0.37288135593220345, lift=4.700185158809287), OrderedStatistic(items_base=frozenset({'nan', 'pasta'}), items_add=frozenset({'escalope'}), confidence=0.37288135593220345, lift=4.700185158809287)]),\n",
              " RelationRecord(items=frozenset({'french fries', 'herb & pepper', 'ground beef'}), support=0.0032, ordered_statistics=[OrderedStatistic(items_base=frozenset({'french fries', 'ground beef'}), items_add=frozenset({'herb & pepper'}), confidence=0.23076923076923078, lift=4.665146174580137), OrderedStatistic(items_base=frozenset({'french fries', 'herb & pepper'}), items_add=frozenset({'ground beef'}), confidence=0.46153846153846156, lift=4.6967957415718615)]),\n",
              " RelationRecord(items=frozenset({'honey', 'nan', 'fromage blanc'}), support=0.0033333333333333335, ordered_statistics=[OrderedStatistic(items_base=frozenset({'fromage blanc'}), items_add=frozenset({'honey', 'nan'}), confidence=0.2450980392156863, lift=5.178127589063795), OrderedStatistic(items_base=frozenset({'nan', 'fromage blanc'}), items_add=frozenset({'honey'}), confidence=0.2450980392156863, lift=5.178127589063795)]),\n",
              " RelationRecord(items=frozenset({'tomatoes', 'green tea', 'frozen vegetables'}), support=0.0033333333333333335, ordered_statistics=[OrderedStatistic(items_base=frozenset({'green tea', 'frozen vegetables'}), items_add=frozenset({'tomatoes'}), confidence=0.2314814814814815, lift=3.3842321854017765)]),\n",
              " RelationRecord(items=frozenset({'spaghetti', 'frozen vegetables', 'ground beef'}), support=0.008666666666666666, ordered_statistics=[OrderedStatistic(items_base=frozenset({'spaghetti', 'frozen vegetables'}), items_add=frozenset({'ground beef'}), confidence=0.3110047846889952, lift=3.164906221394116)]),\n",
              " RelationRecord(items=frozenset({'milk', 'frozen vegetables', 'olive oil'}), support=0.0048, ordered_statistics=[OrderedStatistic(items_base=frozenset({'milk', 'frozen vegetables'}), items_add=frozenset({'olive oil'}), confidence=0.20338983050847456, lift=3.094165778526489), OrderedStatistic(items_base=frozenset({'olive oil', 'frozen vegetables'}), items_add=frozenset({'milk'}), confidence=0.4235294117647058, lift=3.26797385620915)]),\n",
              " RelationRecord(items=frozenset({'milk', 'soup', 'frozen vegetables'}), support=0.004, ordered_statistics=[OrderedStatistic(items_base=frozenset({'soup', 'frozen vegetables'}), items_add=frozenset({'milk'}), confidence=0.5, lift=3.858024691358025)]),\n",
              " RelationRecord(items=frozenset({'milk', 'tomatoes', 'frozen vegetables'}), support=0.0041333333333333335, ordered_statistics=[OrderedStatistic(items_base=frozenset({'tomatoes', 'milk'}), items_add=frozenset({'frozen vegetables'}), confidence=0.29523809523809524, lift=3.096903096903097)]),\n",
              " RelationRecord(items=frozenset({'mineral water', 'frozen vegetables', 'shrimp'}), support=0.0072, ordered_statistics=[OrderedStatistic(items_base=frozenset({'mineral water', 'shrimp'}), items_add=frozenset({'frozen vegetables'}), confidence=0.3068181818181818, lift=3.2183725365543547)]),\n",
              " RelationRecord(items=frozenset({'olive oil', 'spaghetti', 'frozen vegetables'}), support=0.005733333333333333, ordered_statistics=[OrderedStatistic(items_base=frozenset({'spaghetti', 'frozen vegetables'}), items_add=frozenset({'olive oil'}), confidence=0.20574162679425836, lift=3.1299436124887174)]),\n",
              " RelationRecord(items=frozenset({'spaghetti', 'frozen vegetables', 'shrimp'}), support=0.006, ordered_statistics=[OrderedStatistic(items_base=frozenset({'spaghetti', 'frozen vegetables'}), items_add=frozenset({'shrimp'}), confidence=0.21531100478468898, lift=3.0183785717479763)]),\n",
              " RelationRecord(items=frozenset({'tomatoes', 'frozen vegetables', 'shrimp'}), support=0.004, ordered_statistics=[OrderedStatistic(items_base=frozenset({'frozen vegetables', 'shrimp'}), items_add=frozenset({'tomatoes'}), confidence=0.24000000000000002, lift=3.5087719298245617), OrderedStatistic(items_base=frozenset({'tomatoes', 'frozen vegetables'}), items_add=frozenset({'shrimp'}), confidence=0.24793388429752067, lift=3.475708658376458), OrderedStatistic(items_base=frozenset({'tomatoes', 'shrimp'}), items_add=frozenset({'frozen vegetables'}), confidence=0.35714285714285715, lift=3.746253746253746)]),\n",
              " RelationRecord(items=frozenset({'tomatoes', 'spaghetti', 'frozen vegetables'}), support=0.006666666666666667, ordered_statistics=[OrderedStatistic(items_base=frozenset({'spaghetti', 'frozen vegetables'}), items_add=frozenset({'tomatoes'}), confidence=0.23923444976076555, lift=3.497579674864993), OrderedStatistic(items_base=frozenset({'tomatoes', 'spaghetti'}), items_add=frozenset({'frozen vegetables'}), confidence=0.3184713375796178, lift=3.340608436149837)]),\n",
              " RelationRecord(items=frozenset({'grated cheese', 'spaghetti', 'ground beef'}), support=0.005333333333333333, ordered_statistics=[OrderedStatistic(items_base=frozenset({'grated cheese', 'spaghetti'}), items_add=frozenset({'ground beef'}), confidence=0.3225806451612903, lift=3.282706701098612)]),\n",
              " RelationRecord(items=frozenset({'tomatoes', 'green tea', 'ground beef'}), support=0.0030666666666666668, ordered_statistics=[OrderedStatistic(items_base=frozenset({'green tea', 'ground beef'}), items_add=frozenset({'tomatoes'}), confidence=0.2072072072072072, lift=3.0293451346082922)]),\n",
              " RelationRecord(items=frozenset({'milk', 'herb & pepper', 'ground beef'}), support=0.0036, ordered_statistics=[OrderedStatistic(items_base=frozenset({'milk', 'herb & pepper'}), items_add=frozenset({'ground beef'}), confidence=0.391304347826087, lift=3.982065954810926)]),\n",
              " RelationRecord(items=frozenset({'mineral water', 'herb & pepper', 'ground beef'}), support=0.006666666666666667, ordered_statistics=[OrderedStatistic(items_base=frozenset({'mineral water', 'herb & pepper'}), items_add=frozenset({'ground beef'}), confidence=0.390625, lift=3.975152645861601)]),\n",
              " RelationRecord(items=frozenset({'nan', 'herb & pepper', 'ground beef'}), support=0.016, ordered_statistics=[OrderedStatistic(items_base=frozenset({'herb & pepper'}), items_add=frozenset({'nan', 'ground beef'}), confidence=0.3234501347708895, lift=3.2915549671393096), OrderedStatistic(items_base=frozenset({'nan', 'herb & pepper'}), items_add=frozenset({'ground beef'}), confidence=0.3234501347708895, lift=3.2915549671393096)]),\n",
              " RelationRecord(items=frozenset({'spaghetti', 'herb & pepper', 'ground beef'}), support=0.0064, ordered_statistics=[OrderedStatistic(items_base=frozenset({'spaghetti', 'herb & pepper'}), items_add=frozenset({'ground beef'}), confidence=0.3934426229508197, lift=4.003825878061259)]),\n",
              " RelationRecord(items=frozenset({'olive oil', 'milk', 'ground beef'}), support=0.004933333333333333, ordered_statistics=[OrderedStatistic(items_base=frozenset({'milk', 'ground beef'}), items_add=frozenset({'olive oil'}), confidence=0.22424242424242424, lift=3.411395906324912)]),\n",
              " RelationRecord(items=frozenset({'soup', 'milk', 'ground beef'}), support=0.004, ordered_statistics=[OrderedStatistic(items_base=frozenset({'soup', 'ground beef'}), items_add=frozenset({'milk'}), confidence=0.410958904109589, lift=3.170979198376459)]),\n",
              " RelationRecord(items=frozenset({'tomato sauce', 'nan', 'ground beef'}), support=0.005333333333333333, ordered_statistics=[OrderedStatistic(items_base=frozenset({'tomato sauce'}), items_add=frozenset({'nan', 'ground beef'}), confidence=0.37735849056603776, lift=3.840147461662528), OrderedStatistic(items_base=frozenset({'tomato sauce', 'nan'}), items_add=frozenset({'ground beef'}), confidence=0.37735849056603776, lift=3.840147461662528)]),\n",
              " RelationRecord(items=frozenset({'pepper', 'spaghetti', 'ground beef'}), support=0.0033333333333333335, ordered_statistics=[OrderedStatistic(items_base=frozenset({'pepper', 'spaghetti'}), items_add=frozenset({'ground beef'}), confidence=0.3378378378378379, lift=3.4379698558803042)]),\n",
              " RelationRecord(items=frozenset({'spaghetti', 'shrimp', 'ground beef'}), support=0.006, ordered_statistics=[OrderedStatistic(items_base=frozenset({'shrimp', 'ground beef'}), items_add=frozenset({'spaghetti'}), confidence=0.5232558139534884, lift=3.004914704939635)]),\n",
              " RelationRecord(items=frozenset({'tomato sauce', 'spaghetti', 'ground beef'}), support=0.0030666666666666668, ordered_statistics=[OrderedStatistic(items_base=frozenset({'tomato sauce'}), items_add=frozenset({'spaghetti', 'ground beef'}), confidence=0.2169811320754717, lift=5.535232961108973), OrderedStatistic(items_base=frozenset({'tomato sauce', 'ground beef'}), items_add=frozenset({'spaghetti'}), confidence=0.5750000000000001, lift=3.302067381316999), OrderedStatistic(items_base=frozenset({'tomato sauce', 'spaghetti'}), items_add=frozenset({'ground beef'}), confidence=0.48936170212765956, lift=4.979935910390022)]),\n",
              " RelationRecord(items=frozenset({'mineral water', 'spaghetti', 'light cream'}), support=0.0032, ordered_statistics=[OrderedStatistic(items_base=frozenset({'light cream'}), items_add=frozenset({'mineral water', 'spaghetti'}), confidence=0.20512820512820515, lift=3.4340659340659343)]),\n",
              " RelationRecord(items=frozenset({'nan', 'light cream', 'olive oil'}), support=0.0032, ordered_statistics=[OrderedStatistic(items_base=frozenset({'light cream'}), items_add=frozenset({'olive oil', 'nan'}), confidence=0.20512820512820515, lift=3.120611639881417), OrderedStatistic(items_base=frozenset({'nan', 'light cream'}), items_add=frozenset({'olive oil'}), confidence=0.20512820512820515, lift=3.120611639881417)]),\n",
              " RelationRecord(items=frozenset({'olive oil', 'milk', 'shrimp'}), support=0.0032, ordered_statistics=[OrderedStatistic(items_base=frozenset({'olive oil', 'shrimp'}), items_add=frozenset({'milk'}), confidence=0.4, lift=3.08641975308642)]),\n",
              " RelationRecord(items=frozenset({'olive oil', 'soup', 'milk'}), support=0.0036, ordered_statistics=[OrderedStatistic(items_base=frozenset({'olive oil', 'milk'}), items_add=frozenset({'soup'}), confidence=0.21093749999999997, lift=4.174224934036939), OrderedStatistic(items_base=frozenset({'soup', 'milk'}), items_add=frozenset({'olive oil'}), confidence=0.23684210526315788, lift=3.603074623678872), OrderedStatistic(items_base=frozenset({'olive oil', 'soup'}), items_add=frozenset({'milk'}), confidence=0.40298507462686567, lift=3.109452736318408)]),\n",
              " RelationRecord(items=frozenset({'olive oil', 'spaghetti', 'milk'}), support=0.0072, ordered_statistics=[OrderedStatistic(items_base=frozenset({'spaghetti', 'milk'}), items_add=frozenset({'olive oil'}), confidence=0.20300751879699247, lift=3.0883496774390333)]),\n",
              " RelationRecord(items=frozenset({'tomatoes', 'soup', 'milk'}), support=0.0030666666666666668, ordered_statistics=[OrderedStatistic(items_base=frozenset({'tomatoes', 'milk'}), items_add=frozenset({'soup'}), confidence=0.21904761904761905, lift=4.334715416509612), OrderedStatistic(items_base=frozenset({'tomatoes', 'soup'}), items_add=frozenset({'milk'}), confidence=0.44230769230769235, lift=3.41286799620133)]),\n",
              " RelationRecord(items=frozenset({'whole wheat pasta', 'spaghetti', 'milk'}), support=0.004, ordered_statistics=[OrderedStatistic(items_base=frozenset({'whole wheat pasta', 'spaghetti'}), items_add=frozenset({'milk'}), confidence=0.45454545454545453, lift=3.5072951739618405)]),\n",
              " RelationRecord(items=frozenset({'mineral water', 'olive oil', 'soup'}), support=0.0052, ordered_statistics=[OrderedStatistic(items_base=frozenset({'mineral water', 'soup'}), items_add=frozenset({'olive oil'}), confidence=0.2254335260115607, lift=3.4295161157945335)]),\n",
              " RelationRecord(items=frozenset({'mineral water', 'olive oil', 'whole wheat pasta'}), support=0.0038666666666666667, ordered_statistics=[OrderedStatistic(items_base=frozenset({'mineral water', 'whole wheat pasta'}), items_add=frozenset({'olive oil'}), confidence=0.4027777777777778, lift=6.127450980392156)]),\n",
              " RelationRecord(items=frozenset({'olive oil', 'whole wheat pasta', 'nan'}), support=0.008, ordered_statistics=[OrderedStatistic(items_base=frozenset({'whole wheat pasta'}), items_add=frozenset({'olive oil', 'nan'}), confidence=0.2714932126696833, lift=4.130221288078346), OrderedStatistic(items_base=frozenset({'whole wheat pasta', 'nan'}), items_add=frozenset({'olive oil'}), confidence=0.2714932126696833, lift=4.130221288078346)]),\n",
              " RelationRecord(items=frozenset({'nan', 'shrimp', 'pasta'}), support=0.005066666666666666, ordered_statistics=[OrderedStatistic(items_base=frozenset({'pasta'}), items_add=frozenset({'nan', 'shrimp'}), confidence=0.3220338983050848, lift=4.514493901473151), OrderedStatistic(items_base=frozenset({'nan', 'pasta'}), items_add=frozenset({'shrimp'}), confidence=0.3220338983050848, lift=4.514493901473151)]),\n",
              " RelationRecord(items=frozenset({'olive oil', 'spaghetti', 'pancakes'}), support=0.005066666666666666, ordered_statistics=[OrderedStatistic(items_base=frozenset({'spaghetti', 'pancakes'}), items_add=frozenset({'olive oil'}), confidence=0.20105820105820105, lift=3.0586947422647217)]),\n",
              " RelationRecord(items=frozenset({'olive oil', 'spaghetti', 'tomatoes'}), support=0.0044, ordered_statistics=[OrderedStatistic(items_base=frozenset({'olive oil', 'tomatoes'}), items_add=frozenset({'spaghetti'}), confidence=0.6111111111111112, lift=3.50944359367024), OrderedStatistic(items_base=frozenset({'tomatoes', 'spaghetti'}), items_add=frozenset({'olive oil'}), confidence=0.21019108280254778, lift=3.1976331055154326)]),\n",
              " RelationRecord(items=frozenset({'tomatoes', 'spaghetti', 'whole wheat rice'}), support=0.0030666666666666668, ordered_statistics=[OrderedStatistic(items_base=frozenset({'spaghetti', 'whole wheat rice'}), items_add=frozenset({'tomatoes'}), confidence=0.2169811320754717, lift=3.172238773033212)]),\n",
              " RelationRecord(items=frozenset({'milk', 'spaghetti', 'avocado', 'nan'}), support=0.0033333333333333335, ordered_statistics=[OrderedStatistic(items_base=frozenset({'spaghetti', 'avocado'}), items_add=frozenset({'nan', 'milk'}), confidence=0.4166666666666667, lift=3.2150205761316877), OrderedStatistic(items_base=frozenset({'nan', 'spaghetti', 'avocado'}), items_add=frozenset({'milk'}), confidence=0.4166666666666667, lift=3.2150205761316877)]),\n",
              " RelationRecord(items=frozenset({'burgers', 'cake', 'milk', 'nan'}), support=0.0037333333333333333, ordered_statistics=[OrderedStatistic(items_base=frozenset({'cake', 'milk'}), items_add=frozenset({'burgers', 'nan'}), confidence=0.27999999999999997, lift=3.2110091743119265), OrderedStatistic(items_base=frozenset({'nan', 'cake', 'milk'}), items_add=frozenset({'burgers'}), confidence=0.27999999999999997, lift=3.2110091743119265)]),\n",
              " RelationRecord(items=frozenset({'burgers', 'turkey', 'chocolate', 'nan'}), support=0.0030666666666666668, ordered_statistics=[OrderedStatistic(items_base=frozenset({'turkey', 'chocolate'}), items_add=frozenset({'burgers', 'nan'}), confidence=0.27058823529411763, lift=3.10307609282245), OrderedStatistic(items_base=frozenset({'turkey', 'chocolate', 'nan'}), items_add=frozenset({'burgers'}), confidence=0.27058823529411763, lift=3.10307609282245)]),\n",
              " RelationRecord(items=frozenset({'burgers', 'turkey', 'milk', 'nan'}), support=0.0032, ordered_statistics=[OrderedStatistic(items_base=frozenset({'turkey', 'milk'}), items_add=frozenset({'burgers', 'nan'}), confidence=0.2823529411764706, lift=3.237992444684296), OrderedStatistic(items_base=frozenset({'nan', 'turkey', 'milk'}), items_add=frozenset({'burgers'}), confidence=0.2823529411764706, lift=3.237992444684296)]),\n",
              " RelationRecord(items=frozenset({'nan', 'cake', 'frozen vegetables', 'tomatoes'}), support=0.0030666666666666668, ordered_statistics=[OrderedStatistic(items_base=frozenset({'cake', 'frozen vegetables'}), items_add=frozenset({'tomatoes', 'nan'}), confidence=0.2987012987012987, lift=4.366978051188577), OrderedStatistic(items_base=frozenset({'tomatoes', 'cake'}), items_add=frozenset({'frozen vegetables', 'nan'}), confidence=0.3650793650793651, lift=3.8295038295038295), OrderedStatistic(items_base=frozenset({'nan', 'cake', 'frozen vegetables'}), items_add=frozenset({'tomatoes'}), confidence=0.2987012987012987, lift=4.366978051188577), OrderedStatistic(items_base=frozenset({'tomatoes', 'cake', 'nan'}), items_add=frozenset({'frozen vegetables'}), confidence=0.3650793650793651, lift=3.8295038295038295)]),\n",
              " RelationRecord(items=frozenset({'nan', 'spaghetti', 'ground beef', 'cereals'}), support=0.0030666666666666668, ordered_statistics=[OrderedStatistic(items_base=frozenset({'ground beef', 'cereals'}), items_add=frozenset({'spaghetti', 'nan'}), confidence=0.676470588235294, lift=3.884785154490586), OrderedStatistic(items_base=frozenset({'spaghetti', 'cereals'}), items_add=frozenset({'nan', 'ground beef'}), confidence=0.45999999999999996, lift=4.681139755766621), OrderedStatistic(items_base=frozenset({'nan', 'ground beef', 'cereals'}), items_add=frozenset({'spaghetti'}), confidence=0.676470588235294, lift=3.884785154490586), OrderedStatistic(items_base=frozenset({'spaghetti', 'nan', 'cereals'}), items_add=frozenset({'ground beef'}), confidence=0.45999999999999996, lift=4.681139755766621)]),\n",
              " RelationRecord(items=frozenset({'milk', 'chicken', 'nan', 'ground beef'}), support=0.0038666666666666667, ordered_statistics=[OrderedStatistic(items_base=frozenset({'chicken', 'ground beef'}), items_add=frozenset({'nan', 'milk'}), confidence=0.4084507042253521, lift=3.151625804207964), OrderedStatistic(items_base=frozenset({'nan', 'chicken', 'ground beef'}), items_add=frozenset({'milk'}), confidence=0.4084507042253521, lift=3.151625804207964)]),\n",
              " RelationRecord(items=frozenset({'milk', 'chicken', 'nan', 'olive oil'}), support=0.0036, ordered_statistics=[OrderedStatistic(items_base=frozenset({'milk', 'chicken'}), items_add=frozenset({'olive oil', 'nan'}), confidence=0.24324324324324323, lift=3.7004550189134364), OrderedStatistic(items_base=frozenset({'olive oil', 'chicken'}), items_add=frozenset({'nan', 'milk'}), confidence=0.5, lift=3.858024691358025), OrderedStatistic(items_base=frozenset({'olive oil', 'milk'}), items_add=frozenset({'nan', 'chicken'}), confidence=0.21093749999999997, lift=3.5156249999999996), OrderedStatistic(items_base=frozenset({'milk', 'chicken', 'nan'}), items_add=frozenset({'olive oil'}), confidence=0.24324324324324323, lift=3.7004550189134364), OrderedStatistic(items_base=frozenset({'nan', 'chicken', 'olive oil'}), items_add=frozenset({'milk'}), confidence=0.5, lift=3.858024691358025), OrderedStatistic(items_base=frozenset({'nan', 'milk', 'olive oil'}), items_add=frozenset({'chicken'}), confidence=0.21093749999999997, lift=3.5156249999999996)]),\n",
              " RelationRecord(items=frozenset({'nan', 'spaghetti', 'chicken', 'olive oil'}), support=0.0034666666666666665, ordered_statistics=[OrderedStatistic(items_base=frozenset({'spaghetti', 'chicken'}), items_add=frozenset({'olive oil', 'nan'}), confidence=0.20155038759689922, lift=3.0661823670927872), OrderedStatistic(items_base=frozenset({'nan', 'spaghetti', 'chicken'}), items_add=frozenset({'olive oil'}), confidence=0.20155038759689922, lift=3.0661823670927872)]),\n",
              " RelationRecord(items=frozenset({'mineral water', 'eggs', 'chocolate', 'ground beef'}), support=0.004, ordered_statistics=[OrderedStatistic(items_base=frozenset({'eggs', 'ground beef'}), items_add=frozenset({'mineral water', 'chocolate'}), confidence=0.2, lift=3.79746835443038), OrderedStatistic(items_base=frozenset({'mineral water', 'eggs', 'chocolate'}), items_add=frozenset({'ground beef'}), confidence=0.297029702970297, lift=3.022690328734366)]),\n",
              " RelationRecord(items=frozenset({'mineral water', 'chocolate', 'frozen vegetables', 'ground beef'}), support=0.0033333333333333335, ordered_statistics=[OrderedStatistic(items_base=frozenset({'mineral water', 'chocolate', 'frozen vegetables'}), items_add=frozenset({'ground beef'}), confidence=0.34246575342465757, lift=3.4850653333581163), OrderedStatistic(items_base=frozenset({'mineral water', 'chocolate', 'ground beef'}), items_add=frozenset({'frozen vegetables'}), confidence=0.30487804878048785, lift=3.1980214907044178)]),\n",
              " RelationRecord(items=frozenset({'spaghetti', 'chocolate', 'frozen vegetables', 'ground beef'}), support=0.0030666666666666668, ordered_statistics=[OrderedStatistic(items_base=frozenset({'chocolate', 'frozen vegetables', 'ground beef'}), items_add=frozenset({'spaghetti'}), confidence=0.5348837209302326, lift=3.0716905872716267), OrderedStatistic(items_base=frozenset({'spaghetti', 'chocolate', 'frozen vegetables'}), items_add=frozenset({'ground beef'}), confidence=0.38983050847457634, lift=3.9670675896327308), OrderedStatistic(items_base=frozenset({'spaghetti', 'chocolate', 'ground beef'}), items_add=frozenset({'frozen vegetables'}), confidence=0.33333333333333337, lift=3.4965034965034967)]),\n",
              " RelationRecord(items=frozenset({'mineral water', 'milk', 'chocolate', 'frozen vegetables'}), support=0.004, ordered_statistics=[OrderedStatistic(items_base=frozenset({'mineral water', 'chocolate', 'frozen vegetables'}), items_add=frozenset({'milk'}), confidence=0.410958904109589, lift=3.170979198376459)]),\n",
              " RelationRecord(items=frozenset({'milk', 'spaghetti', 'chocolate', 'frozen vegetables'}), support=0.0034666666666666665, ordered_statistics=[OrderedStatistic(items_base=frozenset({'spaghetti', 'chocolate', 'frozen vegetables'}), items_add=frozenset({'milk'}), confidence=0.44067796610169496, lift=3.4002929483155477), OrderedStatistic(items_base=frozenset({'spaghetti', 'chocolate', 'milk'}), items_add=frozenset({'frozen vegetables'}), confidence=0.3170731707317073, lift=3.325942350332594)]),\n",
              " RelationRecord(items=frozenset({'mineral water', 'chocolate', 'frozen vegetables', 'shrimp'}), support=0.0032, ordered_statistics=[OrderedStatistic(items_base=frozenset({'mineral water', 'chocolate', 'frozen vegetables'}), items_add=frozenset({'shrimp'}), confidence=0.32876712328767127, lift=4.608884905901934), OrderedStatistic(items_base=frozenset({'mineral water', 'chocolate', 'shrimp'}), items_add=frozenset({'frozen vegetables'}), confidence=0.4210526315789474, lift=4.4166359955833645)]),\n",
              " RelationRecord(items=frozenset({'nan', 'chocolate', 'frozen vegetables', 'shrimp'}), support=0.005333333333333333, ordered_statistics=[OrderedStatistic(items_base=frozenset({'chocolate', 'frozen vegetables'}), items_add=frozenset({'nan', 'shrimp'}), confidence=0.23255813953488372, lift=3.260160834601174), OrderedStatistic(items_base=frozenset({'chocolate', 'shrimp'}), items_add=frozenset({'frozen vegetables', 'nan'}), confidence=0.29629629629629634, lift=3.1080031080031083), OrderedStatistic(items_base=frozenset({'nan', 'chocolate', 'frozen vegetables'}), items_add=frozenset({'shrimp'}), confidence=0.23255813953488372, lift=3.260160834601174), OrderedStatistic(items_base=frozenset({'chocolate', 'nan', 'shrimp'}), items_add=frozenset({'frozen vegetables'}), confidence=0.29629629629629634, lift=3.1080031080031083)]),\n",
              " RelationRecord(items=frozenset({'nan', 'chocolate', 'herb & pepper', 'ground beef'}), support=0.004, ordered_statistics=[OrderedStatistic(items_base=frozenset({'chocolate', 'herb & pepper'}), items_add=frozenset({'nan', 'ground beef'}), confidence=0.4411764705882353, lift=4.489584164737808), OrderedStatistic(items_base=frozenset({'chocolate', 'nan', 'herb & pepper'}), items_add=frozenset({'ground beef'}), confidence=0.4411764705882353, lift=4.489584164737808)]),\n",
              " RelationRecord(items=frozenset({'nan', 'chocolate', 'milk', 'soup'}), support=0.004, ordered_statistics=[OrderedStatistic(items_base=frozenset({'soup', 'chocolate'}), items_add=frozenset({'milk', 'nan'}), confidence=0.39473684210526316, lift=3.045808966861599), OrderedStatistic(items_base=frozenset({'soup', 'chocolate', 'nan'}), items_add=frozenset({'milk'}), confidence=0.39473684210526316, lift=3.045808966861599)]),\n",
              " RelationRecord(items=frozenset({'mineral water', 'olive oil', 'spaghetti', 'chocolate'}), support=0.0038666666666666667, ordered_statistics=[OrderedStatistic(items_base=frozenset({'olive oil', 'chocolate'}), items_add=frozenset({'mineral water', 'spaghetti'}), confidence=0.23577235772357721, lift=3.9470818815331006), OrderedStatistic(items_base=frozenset({'mineral water', 'spaghetti', 'chocolate'}), items_add=frozenset({'olive oil'}), confidence=0.24369747899159663, lift=3.7073652990608004)]),\n",
              " RelationRecord(items=frozenset({'mineral water', 'spaghetti', 'chocolate', 'shrimp'}), support=0.0034666666666666665, ordered_statistics=[OrderedStatistic(items_base=frozenset({'mineral water', 'spaghetti', 'chocolate'}), items_add=frozenset({'shrimp'}), confidence=0.21848739495798317, lift=3.0629074059530352)]),\n",
              " RelationRecord(items=frozenset({'spaghetti', 'cooking oil', 'nan', 'ground beef'}), support=0.0048, ordered_statistics=[OrderedStatistic(items_base=frozenset({'cooking oil', 'ground beef'}), items_add=frozenset({'spaghetti', 'nan'}), confidence=0.5714285714285714, lift=3.281557646029315), OrderedStatistic(items_base=frozenset({'spaghetti', 'cooking oil'}), items_add=frozenset({'nan', 'ground beef'}), confidence=0.30252100840336127, lift=3.0785719986773534), OrderedStatistic(items_base=frozenset({'cooking oil', 'nan', 'ground beef'}), items_add=frozenset({'spaghetti'}), confidence=0.5714285714285714, lift=3.281557646029315), OrderedStatistic(items_base=frozenset({'spaghetti', 'cooking oil', 'nan'}), items_add=frozenset({'ground beef'}), confidence=0.30252100840336127, lift=3.0785719986773534)]),\n",
              " RelationRecord(items=frozenset({'mineral water', 'milk', 'eggs', 'frozen vegetables'}), support=0.0037333333333333333, ordered_statistics=[OrderedStatistic(items_base=frozenset({'mineral water', 'eggs', 'frozen vegetables'}), items_add=frozenset({'milk'}), confidence=0.4117647058823529, lift=3.177196804647785)]),\n",
              " RelationRecord(items=frozenset({'nan', 'eggs', 'herb & pepper', 'ground beef'}), support=0.0041333333333333335, ordered_statistics=[OrderedStatistic(items_base=frozenset({'eggs', 'ground beef'}), items_add=frozenset({'nan', 'herb & pepper'}), confidence=0.20666666666666667, lift=4.177897574123989), OrderedStatistic(items_base=frozenset({'eggs', 'herb & pepper'}), items_add=frozenset({'nan', 'ground beef'}), confidence=0.32978723404255317, lift=3.3560437656976236), OrderedStatistic(items_base=frozenset({'eggs', 'nan', 'ground beef'}), items_add=frozenset({'herb & pepper'}), confidence=0.20666666666666667, lift=4.177897574123989), OrderedStatistic(items_base=frozenset({'eggs', 'nan', 'herb & pepper'}), items_add=frozenset({'ground beef'}), confidence=0.32978723404255317, lift=3.3560437656976236)]),\n",
              " RelationRecord(items=frozenset({'spaghetti', 'eggs', 'nan', 'red wine'}), support=0.0037333333333333333, ordered_statistics=[OrderedStatistic(items_base=frozenset({'eggs', 'red wine'}), items_add=frozenset({'spaghetti', 'nan'}), confidence=0.5283018867924528, lift=3.0338929180271026), OrderedStatistic(items_base=frozenset({'eggs', 'nan', 'red wine'}), items_add=frozenset({'spaghetti'}), confidence=0.5283018867924528, lift=3.0338929180271026)]),\n",
              " RelationRecord(items=frozenset({'french fries', 'nan', 'herb & pepper', 'ground beef'}), support=0.0032, ordered_statistics=[OrderedStatistic(items_base=frozenset({'french fries', 'ground beef'}), items_add=frozenset({'nan', 'herb & pepper'}), confidence=0.23076923076923078, lift=4.665146174580137), OrderedStatistic(items_base=frozenset({'french fries', 'herb & pepper'}), items_add=frozenset({'nan', 'ground beef'}), confidence=0.46153846153846156, lift=4.6967957415718615), OrderedStatistic(items_base=frozenset({'french fries', 'nan', 'ground beef'}), items_add=frozenset({'herb & pepper'}), confidence=0.23076923076923078, lift=4.665146174580137), OrderedStatistic(items_base=frozenset({'french fries', 'nan', 'herb & pepper'}), items_add=frozenset({'ground beef'}), confidence=0.46153846153846156, lift=4.6967957415718615)]),\n",
              " RelationRecord(items=frozenset({'mineral water', 'milk', 'spaghetti', 'frozen smoothie'}), support=0.0032, ordered_statistics=[OrderedStatistic(items_base=frozenset({'milk', 'frozen smoothie'}), items_add=frozenset({'mineral water', 'spaghetti'}), confidence=0.22429906542056074, lift=3.755006675567423), OrderedStatistic(items_base=frozenset({'spaghetti', 'frozen smoothie'}), items_add=frozenset({'mineral water', 'milk'}), confidence=0.20512820512820515, lift=4.273504273504273), OrderedStatistic(items_base=frozenset({'mineral water', 'spaghetti', 'frozen smoothie'}), items_add=frozenset({'milk'}), confidence=0.4705882352941177, lift=3.631082062454612), OrderedStatistic(items_base=frozenset({'mineral water', 'spaghetti', 'milk'}), items_add=frozenset({'frozen smoothie'}), confidence=0.20338983050847462, lift=3.218193520703712)]),\n",
              " RelationRecord(items=frozenset({'nan', 'green tea', 'frozen vegetables', 'tomatoes'}), support=0.0033333333333333335, ordered_statistics=[OrderedStatistic(items_base=frozenset({'green tea', 'frozen vegetables'}), items_add=frozenset({'tomatoes', 'nan'}), confidence=0.2314814814814815, lift=3.3842321854017765), OrderedStatistic(items_base=frozenset({'nan', 'green tea', 'frozen vegetables'}), items_add=frozenset({'tomatoes'}), confidence=0.2314814814814815, lift=3.3842321854017765)]),\n",
              " RelationRecord(items=frozenset({'mineral water', 'milk', 'frozen vegetables', 'ground beef'}), support=0.0037333333333333333, ordered_statistics=[OrderedStatistic(items_base=frozenset({'frozen vegetables', 'ground beef'}), items_add=frozenset({'mineral water', 'milk'}), confidence=0.22047244094488186, lift=4.593175853018372), OrderedStatistic(items_base=frozenset({'mineral water', 'frozen vegetables', 'ground beef'}), items_add=frozenset({'milk'}), confidence=0.4057971014492754, lift=3.1311504741456435), OrderedStatistic(items_base=frozenset({'mineral water', 'milk', 'frozen vegetables'}), items_add=frozenset({'ground beef'}), confidence=0.3373493975903614, lift=3.4329992970525245), OrderedStatistic(items_base=frozenset({'mineral water', 'milk', 'ground beef'}), items_add=frozenset({'frozen vegetables'}), confidence=0.3373493975903614, lift=3.5386300446541408)]),\n",
              " RelationRecord(items=frozenset({'milk', 'spaghetti', 'frozen vegetables', 'ground beef'}), support=0.0030666666666666668, ordered_statistics=[OrderedStatistic(items_base=frozenset({'milk', 'frozen vegetables', 'ground beef'}), items_add=frozenset({'spaghetti'}), confidence=0.5348837209302326, lift=3.0716905872716267), OrderedStatistic(items_base=frozenset({'milk', 'spaghetti', 'frozen vegetables'}), items_add=frozenset({'ground beef'}), confidence=0.3709677419354839, lift=3.7751127062634042), OrderedStatistic(items_base=frozenset({'spaghetti', 'milk', 'ground beef'}), items_add=frozenset({'frozen vegetables'}), confidence=0.3150684931506849, lift=3.304914263818373)]),\n",
              " RelationRecord(items=frozenset({'mineral water', 'spaghetti', 'frozen vegetables', 'ground beef'}), support=0.0044, ordered_statistics=[OrderedStatistic(items_base=frozenset({'frozen vegetables', 'ground beef'}), items_add=frozenset({'mineral water', 'spaghetti'}), confidence=0.25984251968503935, lift=4.350042182227221), OrderedStatistic(items_base=frozenset({'mineral water', 'spaghetti', 'frozen vegetables'}), items_add=frozenset({'ground beef'}), confidence=0.3666666666666667, lift=3.7313432835820897)]),\n",
              " RelationRecord(items=frozenset({'nan', 'spaghetti', 'frozen vegetables', 'ground beef'}), support=0.008666666666666666, ordered_statistics=[OrderedStatistic(items_base=frozenset({'spaghetti', 'frozen vegetables'}), items_add=frozenset({'nan', 'ground beef'}), confidence=0.3110047846889952, lift=3.164906221394116), OrderedStatistic(items_base=frozenset({'nan', 'spaghetti', 'frozen vegetables'}), items_add=frozenset({'ground beef'}), confidence=0.3110047846889952, lift=3.164906221394116)]),\n",
              " RelationRecord(items=frozenset({'mineral water', 'milk', 'frozen vegetables', 'olive oil'}), support=0.0033333333333333335, ordered_statistics=[OrderedStatistic(items_base=frozenset({'olive oil', 'frozen vegetables'}), items_add=frozenset({'mineral water', 'milk'}), confidence=0.29411764705882354, lift=6.127450980392157), OrderedStatistic(items_base=frozenset({'mineral water', 'milk', 'frozen vegetables'}), items_add=frozenset({'olive oil'}), confidence=0.30120481927710846, lift=4.58222341699455), OrderedStatistic(items_base=frozenset({'mineral water', 'olive oil', 'frozen vegetables'}), items_add=frozenset({'milk'}), confidence=0.5102040816326531, lift=3.9367598891408417), OrderedStatistic(items_base=frozenset({'mineral water', 'olive oil', 'milk'}), items_add=frozenset({'frozen vegetables'}), confidence=0.390625, lift=4.097465034965035)]),\n",
              " RelationRecord(items=frozenset({'mineral water', 'milk', 'soup', 'frozen vegetables'}), support=0.0030666666666666668, ordered_statistics=[OrderedStatistic(items_base=frozenset({'soup', 'frozen vegetables'}), items_add=frozenset({'mineral water', 'milk'}), confidence=0.38333333333333336, lift=7.986111111111112), OrderedStatistic(items_base=frozenset({'soup', 'milk'}), items_add=frozenset({'mineral water', 'frozen vegetables'}), confidence=0.2017543859649123, lift=5.646111547525531), OrderedStatistic(items_base=frozenset({'mineral water', 'milk', 'frozen vegetables'}), items_add=frozenset({'soup'}), confidence=0.27710843373493976, lift=5.483676129319388), OrderedStatistic(items_base=frozenset({'milk', 'soup', 'frozen vegetables'}), items_add=frozenset({'mineral water'}), confidence=0.7666666666666667, lift=3.2176832680470064), OrderedStatistic(items_base=frozenset({'mineral water', 'soup', 'frozen vegetables'}), items_add=frozenset({'milk'}), confidence=0.605263157894737, lift=4.670240415854452), OrderedStatistic(items_base=frozenset({'mineral water', 'soup', 'milk'}), items_add=frozenset({'frozen vegetables'}), confidence=0.359375, lift=3.769667832167832)]),\n",
              " RelationRecord(items=frozenset({'mineral water', 'milk', 'spaghetti', 'frozen vegetables'}), support=0.004533333333333334, ordered_statistics=[OrderedStatistic(items_base=frozenset({'mineral water', 'spaghetti', 'milk'}), items_add=frozenset({'frozen vegetables'}), confidence=0.28813559322033905, lift=3.0224013274860737)]),\n",
              " RelationRecord(items=frozenset({'milk', 'frozen vegetables', 'nan', 'olive oil'}), support=0.0048, ordered_statistics=[OrderedStatistic(items_base=frozenset({'milk', 'frozen vegetables'}), items_add=frozenset({'olive oil', 'nan'}), confidence=0.20338983050847456, lift=3.094165778526489), OrderedStatistic(items_base=frozenset({'olive oil', 'frozen vegetables'}), items_add=frozenset({'nan', 'milk'}), confidence=0.4235294117647058, lift=3.26797385620915), OrderedStatistic(items_base=frozenset({'milk', 'frozen vegetables', 'nan'}), items_add=frozenset({'olive oil'}), confidence=0.20338983050847456, lift=3.094165778526489), OrderedStatistic(items_base=frozenset({'nan', 'frozen vegetables', 'olive oil'}), items_add=frozenset({'milk'}), confidence=0.4235294117647058, lift=3.26797385620915)]),\n",
              " RelationRecord(items=frozenset({'milk', 'soup', 'frozen vegetables', 'nan'}), support=0.004, ordered_statistics=[OrderedStatistic(items_base=frozenset({'soup', 'frozen vegetables'}), items_add=frozenset({'nan', 'milk'}), confidence=0.5, lift=3.858024691358025), OrderedStatistic(items_base=frozenset({'nan', 'soup', 'frozen vegetables'}), items_add=frozenset({'milk'}), confidence=0.5, lift=3.858024691358025)]),\n",
              " RelationRecord(items=frozenset({'milk', 'tomatoes', 'frozen vegetables', 'nan'}), support=0.0041333333333333335, ordered_statistics=[OrderedStatistic(items_base=frozenset({'tomatoes', 'milk'}), items_add=frozenset({'nan', 'frozen vegetables'}), confidence=0.29523809523809524, lift=3.096903096903097), OrderedStatistic(items_base=frozenset({'nan', 'tomatoes', 'milk'}), items_add=frozenset({'frozen vegetables'}), confidence=0.29523809523809524, lift=3.096903096903097)]),\n",
              " RelationRecord(items=frozenset({'mineral water', 'nan', 'frozen vegetables', 'shrimp'}), support=0.0072, ordered_statistics=[OrderedStatistic(items_base=frozenset({'mineral water', 'shrimp'}), items_add=frozenset({'frozen vegetables', 'nan'}), confidence=0.3068181818181818, lift=3.2183725365543547), OrderedStatistic(items_base=frozenset({'mineral water', 'nan', 'shrimp'}), items_add=frozenset({'frozen vegetables'}), confidence=0.3068181818181818, lift=3.2183725365543547)]),\n",
              " RelationRecord(items=frozenset({'mineral water', 'spaghetti', 'frozen vegetables', 'shrimp'}), support=0.0033333333333333335, ordered_statistics=[OrderedStatistic(items_base=frozenset({'frozen vegetables', 'shrimp'}), items_add=frozenset({'mineral water', 'spaghetti'}), confidence=0.2, lift=3.348214285714286), OrderedStatistic(items_base=frozenset({'mineral water', 'spaghetti', 'frozen vegetables'}), items_add=frozenset({'shrimp'}), confidence=0.2777777777777778, lift=3.8940809968847354), OrderedStatistic(items_base=frozenset({'mineral water', 'spaghetti', 'shrimp'}), items_add=frozenset({'frozen vegetables'}), confidence=0.390625, lift=4.097465034965035)]),\n",
              " RelationRecord(items=frozenset({'mineral water', 'tomatoes', 'spaghetti', 'frozen vegetables'}), support=0.0030666666666666668, ordered_statistics=[OrderedStatistic(items_base=frozenset({'mineral water', 'spaghetti', 'frozen vegetables'}), items_add=frozenset({'tomatoes'}), confidence=0.25555555555555554, lift=3.73619233268356), OrderedStatistic(items_base=frozenset({'mineral water', 'tomatoes', 'frozen vegetables'}), items_add=frozenset({'spaghetti'}), confidence=0.5227272727272727, lift=3.0018794375609077), OrderedStatistic(items_base=frozenset({'mineral water', 'tomatoes', 'spaghetti'}), items_add=frozenset({'frozen vegetables'}), confidence=0.32857142857142857, lift=3.4465534465534464)]),\n",
              " RelationRecord(items=frozenset({'nan', 'spaghetti', 'frozen vegetables', 'olive oil'}), support=0.005733333333333333, ordered_statistics=[OrderedStatistic(items_base=frozenset({'spaghetti', 'frozen vegetables'}), items_add=frozenset({'olive oil', 'nan'}), confidence=0.20574162679425836, lift=3.1299436124887174), OrderedStatistic(items_base=frozenset({'nan', 'spaghetti', 'frozen vegetables'}), items_add=frozenset({'olive oil'}), confidence=0.20574162679425836, lift=3.1299436124887174)]),\n",
              " RelationRecord(items=frozenset({'nan', 'spaghetti', 'frozen vegetables', 'shrimp'}), support=0.006, ordered_statistics=[OrderedStatistic(items_base=frozenset({'spaghetti', 'frozen vegetables'}), items_add=frozenset({'nan', 'shrimp'}), confidence=0.21531100478468898, lift=3.0183785717479763), OrderedStatistic(items_base=frozenset({'nan', 'spaghetti', 'frozen vegetables'}), items_add=frozenset({'shrimp'}), confidence=0.21531100478468898, lift=3.0183785717479763)]),\n",
              " RelationRecord(items=frozenset({'nan', 'tomatoes', 'frozen vegetables', 'shrimp'}), support=0.004, ordered_statistics=[OrderedStatistic(items_base=frozenset({'frozen vegetables', 'shrimp'}), items_add=frozenset({'tomatoes', 'nan'}), confidence=0.24000000000000002, lift=3.5087719298245617), OrderedStatistic(items_base=frozenset({'tomatoes', 'frozen vegetables'}), items_add=frozenset({'nan', 'shrimp'}), confidence=0.24793388429752067, lift=3.475708658376458), OrderedStatistic(items_base=frozenset({'tomatoes', 'shrimp'}), items_add=frozenset({'frozen vegetables', 'nan'}), confidence=0.35714285714285715, lift=3.746253746253746), OrderedStatistic(items_base=frozenset({'nan', 'frozen vegetables', 'shrimp'}), items_add=frozenset({'tomatoes'}), confidence=0.24000000000000002, lift=3.5087719298245617), OrderedStatistic(items_base=frozenset({'nan', 'tomatoes', 'frozen vegetables'}), items_add=frozenset({'shrimp'}), confidence=0.24793388429752067, lift=3.475708658376458), OrderedStatistic(items_base=frozenset({'tomatoes', 'nan', 'shrimp'}), items_add=frozenset({'frozen vegetables'}), confidence=0.35714285714285715, lift=3.746253746253746)]),\n",
              " RelationRecord(items=frozenset({'nan', 'spaghetti', 'tomatoes', 'frozen vegetables'}), support=0.006666666666666667, ordered_statistics=[OrderedStatistic(items_base=frozenset({'spaghetti', 'frozen vegetables'}), items_add=frozenset({'tomatoes', 'nan'}), confidence=0.23923444976076555, lift=3.497579674864993), OrderedStatistic(items_base=frozenset({'tomatoes', 'spaghetti'}), items_add=frozenset({'frozen vegetables', 'nan'}), confidence=0.3184713375796178, lift=3.340608436149837), OrderedStatistic(items_base=frozenset({'nan', 'spaghetti', 'frozen vegetables'}), items_add=frozenset({'tomatoes'}), confidence=0.23923444976076555, lift=3.497579674864993), OrderedStatistic(items_base=frozenset({'tomatoes', 'spaghetti', 'nan'}), items_add=frozenset({'frozen vegetables'}), confidence=0.3184713375796178, lift=3.340608436149837)]),\n",
              " RelationRecord(items=frozenset({'grated cheese', 'spaghetti', 'nan', 'ground beef'}), support=0.005333333333333333, ordered_statistics=[OrderedStatistic(items_base=frozenset({'grated cheese', 'spaghetti'}), items_add=frozenset({'nan', 'ground beef'}), confidence=0.3225806451612903, lift=3.282706701098612), OrderedStatistic(items_base=frozenset({'grated cheese', 'spaghetti', 'nan'}), items_add=frozenset({'ground beef'}), confidence=0.3225806451612903, lift=3.282706701098612)]),\n",
              " RelationRecord(items=frozenset({'tomatoes', 'green tea', 'nan', 'ground beef'}), support=0.0030666666666666668, ordered_statistics=[OrderedStatistic(items_base=frozenset({'green tea', 'ground beef'}), items_add=frozenset({'tomatoes', 'nan'}), confidence=0.2072072072072072, lift=3.0293451346082922), OrderedStatistic(items_base=frozenset({'green tea', 'nan', 'ground beef'}), items_add=frozenset({'tomatoes'}), confidence=0.2072072072072072, lift=3.0293451346082922)]),\n",
              " RelationRecord(items=frozenset({'milk', 'herb & pepper', 'nan', 'ground beef'}), support=0.0036, ordered_statistics=[OrderedStatistic(items_base=frozenset({'milk', 'herb & pepper'}), items_add=frozenset({'nan', 'ground beef'}), confidence=0.391304347826087, lift=3.982065954810926), OrderedStatistic(items_base=frozenset({'nan', 'milk', 'herb & pepper'}), items_add=frozenset({'ground beef'}), confidence=0.391304347826087, lift=3.982065954810926)]),\n",
              " RelationRecord(items=frozenset({'mineral water', 'nan', 'herb & pepper', 'ground beef'}), support=0.006666666666666667, ordered_statistics=[OrderedStatistic(items_base=frozenset({'mineral water', 'herb & pepper'}), items_add=frozenset({'nan', 'ground beef'}), confidence=0.390625, lift=3.975152645861601), OrderedStatistic(items_base=frozenset({'mineral water', 'nan', 'herb & pepper'}), items_add=frozenset({'ground beef'}), confidence=0.390625, lift=3.975152645861601)]),\n",
              " RelationRecord(items=frozenset({'nan', 'spaghetti', 'herb & pepper', 'ground beef'}), support=0.0064, ordered_statistics=[OrderedStatistic(items_base=frozenset({'spaghetti', 'herb & pepper'}), items_add=frozenset({'nan', 'ground beef'}), confidence=0.3934426229508197, lift=4.003825878061259), OrderedStatistic(items_base=frozenset({'spaghetti', 'nan', 'herb & pepper'}), items_add=frozenset({'ground beef'}), confidence=0.3934426229508197, lift=4.003825878061259)]),\n",
              " RelationRecord(items=frozenset({'mineral water', 'spaghetti', 'milk', 'ground beef'}), support=0.0044, ordered_statistics=[OrderedStatistic(items_base=frozenset({'milk', 'ground beef'}), items_add=frozenset({'mineral water', 'spaghetti'}), confidence=0.2, lift=3.348214285714286)]),\n",
              " RelationRecord(items=frozenset({'nan', 'milk', 'olive oil', 'ground beef'}), support=0.004933333333333333, ordered_statistics=[OrderedStatistic(items_base=frozenset({'milk', 'ground beef'}), items_add=frozenset({'olive oil', 'nan'}), confidence=0.22424242424242424, lift=3.411395906324912), OrderedStatistic(items_base=frozenset({'nan', 'milk', 'ground beef'}), items_add=frozenset({'olive oil'}), confidence=0.22424242424242424, lift=3.411395906324912)]),\n",
              " RelationRecord(items=frozenset({'nan', 'soup', 'milk', 'ground beef'}), support=0.004, ordered_statistics=[OrderedStatistic(items_base=frozenset({'soup', 'ground beef'}), items_add=frozenset({'milk', 'nan'}), confidence=0.410958904109589, lift=3.170979198376459), OrderedStatistic(items_base=frozenset({'soup', 'nan', 'ground beef'}), items_add=frozenset({'milk'}), confidence=0.410958904109589, lift=3.170979198376459)]),\n",
              " RelationRecord(items=frozenset({'mineral water', 'olive oil', 'spaghetti', 'ground beef'}), support=0.0030666666666666668, ordered_statistics=[OrderedStatistic(items_base=frozenset({'olive oil', 'ground beef'}), items_add=frozenset({'mineral water', 'spaghetti'}), confidence=0.2169811320754717, lift=3.632496630727763), OrderedStatistic(items_base=frozenset({'mineral water', 'olive oil', 'spaghetti'}), items_add=frozenset({'ground beef'}), confidence=0.2987012987012987, lift=3.0397011401081957)]),\n",
              " RelationRecord(items=frozenset({'mineral water', 'spaghetti', 'pancakes', 'ground beef'}), support=0.0030666666666666668, ordered_statistics=[OrderedStatistic(items_base=frozenset({'pancakes', 'ground beef'}), items_add=frozenset({'mineral water', 'spaghetti'}), confidence=0.21100917431192662, lift=3.532519659239843)]),\n",
              " RelationRecord(items=frozenset({'mineral water', 'tomatoes', 'spaghetti', 'ground beef'}), support=0.0030666666666666668, ordered_statistics=[OrderedStatistic(items_base=frozenset({'tomatoes', 'ground beef'}), items_add=frozenset({'mineral water', 'spaghetti'}), confidence=0.26136363636363635, lift=4.375507305194805), OrderedStatistic(items_base=frozenset({'mineral water', 'tomatoes', 'ground beef'}), items_add=frozenset({'spaghetti'}), confidence=0.5609756097560976, lift=3.221529152504389), OrderedStatistic(items_base=frozenset({'mineral water', 'tomatoes', 'spaghetti'}), items_add=frozenset({'ground beef'}), confidence=0.32857142857142857, lift=3.3436712541190152)]),\n",
              " RelationRecord(items=frozenset({'pepper', 'spaghetti', 'nan', 'ground beef'}), support=0.0033333333333333335, ordered_statistics=[OrderedStatistic(items_base=frozenset({'pepper', 'spaghetti'}), items_add=frozenset({'nan', 'ground beef'}), confidence=0.3378378378378379, lift=3.4379698558803042), OrderedStatistic(items_base=frozenset({'pepper', 'spaghetti', 'nan'}), items_add=frozenset({'ground beef'}), confidence=0.3378378378378379, lift=3.4379698558803042)]),\n",
              " RelationRecord(items=frozenset({'spaghetti', 'nan', 'shrimp', 'ground beef'}), support=0.006, ordered_statistics=[OrderedStatistic(items_base=frozenset({'shrimp', 'ground beef'}), items_add=frozenset({'spaghetti', 'nan'}), confidence=0.5232558139534884, lift=3.004914704939635), OrderedStatistic(items_base=frozenset({'nan', 'shrimp', 'ground beef'}), items_add=frozenset({'spaghetti'}), confidence=0.5232558139534884, lift=3.004914704939635)]),\n",
              " RelationRecord(items=frozenset({'tomato sauce', 'spaghetti', 'nan', 'ground beef'}), support=0.0030666666666666668, ordered_statistics=[OrderedStatistic(items_base=frozenset({'tomato sauce'}), items_add=frozenset({'spaghetti', 'nan', 'ground beef'}), confidence=0.2169811320754717, lift=5.535232961108973), OrderedStatistic(items_base=frozenset({'tomato sauce', 'ground beef'}), items_add=frozenset({'spaghetti', 'nan'}), confidence=0.5750000000000001, lift=3.302067381316999), OrderedStatistic(items_base=frozenset({'tomato sauce', 'nan'}), items_add=frozenset({'spaghetti', 'ground beef'}), confidence=0.2169811320754717, lift=5.535232961108973), OrderedStatistic(items_base=frozenset({'tomato sauce', 'spaghetti'}), items_add=frozenset({'nan', 'ground beef'}), confidence=0.48936170212765956, lift=4.979935910390022), OrderedStatistic(items_base=frozenset({'tomato sauce', 'nan', 'ground beef'}), items_add=frozenset({'spaghetti'}), confidence=0.5750000000000001, lift=3.302067381316999), OrderedStatistic(items_base=frozenset({'tomato sauce', 'spaghetti', 'nan'}), items_add=frozenset({'ground beef'}), confidence=0.48936170212765956, lift=4.979935910390022)]),\n",
              " RelationRecord(items=frozenset({'mineral water', 'nan', 'spaghetti', 'light cream'}), support=0.0032, ordered_statistics=[OrderedStatistic(items_base=frozenset({'light cream'}), items_add=frozenset({'mineral water', 'spaghetti', 'nan'}), confidence=0.20512820512820515, lift=3.4340659340659343), OrderedStatistic(items_base=frozenset({'nan', 'light cream'}), items_add=frozenset({'mineral water', 'spaghetti'}), confidence=0.20512820512820515, lift=3.4340659340659343)]),\n",
              " RelationRecord(items=frozenset({'mineral water', 'olive oil', 'spaghetti', 'milk'}), support=0.0033333333333333335, ordered_statistics=[OrderedStatistic(items_base=frozenset({'mineral water', 'spaghetti', 'milk'}), items_add=frozenset({'olive oil'}), confidence=0.21186440677966106, lift=3.2230893526317606)]),\n",
              " RelationRecord(items=frozenset({'mineral water', 'tomatoes', 'spaghetti', 'milk'}), support=0.0033333333333333335, ordered_statistics=[OrderedStatistic(items_base=frozenset({'tomatoes', 'milk'}), items_add=frozenset({'mineral water', 'spaghetti'}), confidence=0.2380952380952381, lift=3.985969387755102), OrderedStatistic(items_base=frozenset({'mineral water', 'spaghetti', 'milk'}), items_add=frozenset({'tomatoes'}), confidence=0.21186440677966106, lift=3.0974328476558632)]),\n",
              " RelationRecord(items=frozenset({'nan', 'milk', 'olive oil', 'shrimp'}), support=0.0032, ordered_statistics=[OrderedStatistic(items_base=frozenset({'olive oil', 'shrimp'}), items_add=frozenset({'milk', 'nan'}), confidence=0.4, lift=3.08641975308642), OrderedStatistic(items_base=frozenset({'olive oil', 'nan', 'shrimp'}), items_add=frozenset({'milk'}), confidence=0.4, lift=3.08641975308642)]),\n",
              " RelationRecord(items=frozenset({'nan', 'soup', 'milk', 'olive oil'}), support=0.0036, ordered_statistics=[OrderedStatistic(items_base=frozenset({'olive oil', 'milk'}), items_add=frozenset({'soup', 'nan'}), confidence=0.21093749999999997, lift=4.174224934036939), OrderedStatistic(items_base=frozenset({'soup', 'milk'}), items_add=frozenset({'olive oil', 'nan'}), confidence=0.23684210526315788, lift=3.603074623678872), OrderedStatistic(items_base=frozenset({'olive oil', 'soup'}), items_add=frozenset({'milk', 'nan'}), confidence=0.40298507462686567, lift=3.109452736318408), OrderedStatistic(items_base=frozenset({'nan', 'milk', 'olive oil'}), items_add=frozenset({'soup'}), confidence=0.21093749999999997, lift=4.174224934036939), OrderedStatistic(items_base=frozenset({'nan', 'soup', 'milk'}), items_add=frozenset({'olive oil'}), confidence=0.23684210526315788, lift=3.603074623678872), OrderedStatistic(items_base=frozenset({'olive oil', 'soup', 'nan'}), items_add=frozenset({'milk'}), confidence=0.40298507462686567, lift=3.109452736318408)]),\n",
              " RelationRecord(items=frozenset({'nan', 'spaghetti', 'milk', 'olive oil'}), support=0.0072, ordered_statistics=[OrderedStatistic(items_base=frozenset({'spaghetti', 'milk'}), items_add=frozenset({'olive oil', 'nan'}), confidence=0.20300751879699247, lift=3.0883496774390333), OrderedStatistic(items_base=frozenset({'nan', 'spaghetti', 'milk'}), items_add=frozenset({'olive oil'}), confidence=0.20300751879699247, lift=3.0883496774390333)]),\n",
              " RelationRecord(items=frozenset({'nan', 'soup', 'milk', 'tomatoes'}), support=0.0030666666666666668, ordered_statistics=[OrderedStatistic(items_base=frozenset({'tomatoes', 'milk'}), items_add=frozenset({'soup', 'nan'}), confidence=0.21904761904761905, lift=4.334715416509612), OrderedStatistic(items_base=frozenset({'tomatoes', 'soup'}), items_add=frozenset({'milk', 'nan'}), confidence=0.44230769230769235, lift=3.41286799620133), OrderedStatistic(items_base=frozenset({'nan', 'tomatoes', 'milk'}), items_add=frozenset({'soup'}), confidence=0.21904761904761905, lift=4.334715416509612), OrderedStatistic(items_base=frozenset({'tomatoes', 'soup', 'nan'}), items_add=frozenset({'milk'}), confidence=0.44230769230769235, lift=3.41286799620133)]),\n",
              " RelationRecord(items=frozenset({'nan', 'spaghetti', 'milk', 'whole wheat pasta'}), support=0.004, ordered_statistics=[OrderedStatistic(items_base=frozenset({'whole wheat pasta', 'spaghetti'}), items_add=frozenset({'milk', 'nan'}), confidence=0.45454545454545453, lift=3.5072951739618405), OrderedStatistic(items_base=frozenset({'whole wheat pasta', 'spaghetti', 'nan'}), items_add=frozenset({'milk'}), confidence=0.45454545454545453, lift=3.5072951739618405)]),\n",
              " RelationRecord(items=frozenset({'mineral water', 'olive oil', 'soup', 'nan'}), support=0.0052, ordered_statistics=[OrderedStatistic(items_base=frozenset({'mineral water', 'soup'}), items_add=frozenset({'olive oil', 'nan'}), confidence=0.2254335260115607, lift=3.4295161157945335), OrderedStatistic(items_base=frozenset({'mineral water', 'soup', 'nan'}), items_add=frozenset({'olive oil'}), confidence=0.2254335260115607, lift=3.4295161157945335)]),\n",
              " RelationRecord(items=frozenset({'mineral water', 'olive oil', 'whole wheat pasta', 'nan'}), support=0.0038666666666666667, ordered_statistics=[OrderedStatistic(items_base=frozenset({'mineral water', 'whole wheat pasta'}), items_add=frozenset({'olive oil', 'nan'}), confidence=0.4027777777777778, lift=6.127450980392156), OrderedStatistic(items_base=frozenset({'mineral water', 'whole wheat pasta', 'nan'}), items_add=frozenset({'olive oil'}), confidence=0.4027777777777778, lift=6.127450980392156)]),\n",
              " RelationRecord(items=frozenset({'olive oil', 'spaghetti', 'nan', 'pancakes'}), support=0.005066666666666666, ordered_statistics=[OrderedStatistic(items_base=frozenset({'spaghetti', 'pancakes'}), items_add=frozenset({'olive oil', 'nan'}), confidence=0.20105820105820105, lift=3.0586947422647217), OrderedStatistic(items_base=frozenset({'spaghetti', 'nan', 'pancakes'}), items_add=frozenset({'olive oil'}), confidence=0.20105820105820105, lift=3.0586947422647217)]),\n",
              " RelationRecord(items=frozenset({'olive oil', 'spaghetti', 'tomatoes', 'nan'}), support=0.0044, ordered_statistics=[OrderedStatistic(items_base=frozenset({'olive oil', 'tomatoes'}), items_add=frozenset({'spaghetti', 'nan'}), confidence=0.6111111111111112, lift=3.50944359367024), OrderedStatistic(items_base=frozenset({'tomatoes', 'spaghetti'}), items_add=frozenset({'olive oil', 'nan'}), confidence=0.21019108280254778, lift=3.1976331055154326), OrderedStatistic(items_base=frozenset({'olive oil', 'tomatoes', 'nan'}), items_add=frozenset({'spaghetti'}), confidence=0.6111111111111112, lift=3.50944359367024), OrderedStatistic(items_base=frozenset({'tomatoes', 'spaghetti', 'nan'}), items_add=frozenset({'olive oil'}), confidence=0.21019108280254778, lift=3.1976331055154326)]),\n",
              " RelationRecord(items=frozenset({'tomatoes', 'spaghetti', 'nan', 'whole wheat rice'}), support=0.0030666666666666668, ordered_statistics=[OrderedStatistic(items_base=frozenset({'spaghetti', 'whole wheat rice'}), items_add=frozenset({'tomatoes', 'nan'}), confidence=0.2169811320754717, lift=3.172238773033212), OrderedStatistic(items_base=frozenset({'spaghetti', 'nan', 'whole wheat rice'}), items_add=frozenset({'tomatoes'}), confidence=0.2169811320754717, lift=3.172238773033212)]),\n",
              " RelationRecord(items=frozenset({'eggs', 'mineral water', 'chocolate', 'nan', 'ground beef'}), support=0.004, ordered_statistics=[OrderedStatistic(items_base=frozenset({'eggs', 'ground beef'}), items_add=frozenset({'mineral water', 'chocolate', 'nan'}), confidence=0.2, lift=3.79746835443038), OrderedStatistic(items_base=frozenset({'mineral water', 'eggs', 'chocolate'}), items_add=frozenset({'nan', 'ground beef'}), confidence=0.297029702970297, lift=3.022690328734366), OrderedStatistic(items_base=frozenset({'eggs', 'nan', 'ground beef'}), items_add=frozenset({'mineral water', 'chocolate'}), confidence=0.2, lift=3.79746835443038), OrderedStatistic(items_base=frozenset({'mineral water', 'eggs', 'chocolate', 'nan'}), items_add=frozenset({'ground beef'}), confidence=0.297029702970297, lift=3.022690328734366)]),\n",
              " RelationRecord(items=frozenset({'mineral water', 'frozen vegetables', 'chocolate', 'nan', 'ground beef'}), support=0.0033333333333333335, ordered_statistics=[OrderedStatistic(items_base=frozenset({'mineral water', 'chocolate', 'frozen vegetables'}), items_add=frozenset({'nan', 'ground beef'}), confidence=0.34246575342465757, lift=3.4850653333581163), OrderedStatistic(items_base=frozenset({'mineral water', 'chocolate', 'ground beef'}), items_add=frozenset({'nan', 'frozen vegetables'}), confidence=0.30487804878048785, lift=3.1980214907044178), OrderedStatistic(items_base=frozenset({'mineral water', 'nan', 'chocolate', 'frozen vegetables'}), items_add=frozenset({'ground beef'}), confidence=0.34246575342465757, lift=3.4850653333581163), OrderedStatistic(items_base=frozenset({'mineral water', 'chocolate', 'nan', 'ground beef'}), items_add=frozenset({'frozen vegetables'}), confidence=0.30487804878048785, lift=3.1980214907044178)]),\n",
              " RelationRecord(items=frozenset({'frozen vegetables', 'spaghetti', 'chocolate', 'nan', 'ground beef'}), support=0.0030666666666666668, ordered_statistics=[OrderedStatistic(items_base=frozenset({'chocolate', 'frozen vegetables', 'ground beef'}), items_add=frozenset({'spaghetti', 'nan'}), confidence=0.5348837209302326, lift=3.0716905872716267), OrderedStatistic(items_base=frozenset({'spaghetti', 'chocolate', 'frozen vegetables'}), items_add=frozenset({'nan', 'ground beef'}), confidence=0.38983050847457634, lift=3.9670675896327308), OrderedStatistic(items_base=frozenset({'spaghetti', 'chocolate', 'ground beef'}), items_add=frozenset({'nan', 'frozen vegetables'}), confidence=0.33333333333333337, lift=3.4965034965034967), OrderedStatistic(items_base=frozenset({'nan', 'chocolate', 'frozen vegetables', 'ground beef'}), items_add=frozenset({'spaghetti'}), confidence=0.5348837209302326, lift=3.0716905872716267), OrderedStatistic(items_base=frozenset({'nan', 'spaghetti', 'chocolate', 'frozen vegetables'}), items_add=frozenset({'ground beef'}), confidence=0.38983050847457634, lift=3.9670675896327308), OrderedStatistic(items_base=frozenset({'spaghetti', 'chocolate', 'nan', 'ground beef'}), items_add=frozenset({'frozen vegetables'}), confidence=0.33333333333333337, lift=3.4965034965034967)]),\n",
              " RelationRecord(items=frozenset({'mineral water', 'frozen vegetables', 'chocolate', 'nan', 'milk'}), support=0.004, ordered_statistics=[OrderedStatistic(items_base=frozenset({'mineral water', 'chocolate', 'frozen vegetables'}), items_add=frozenset({'milk', 'nan'}), confidence=0.410958904109589, lift=3.170979198376459), OrderedStatistic(items_base=frozenset({'mineral water', 'nan', 'chocolate', 'frozen vegetables'}), items_add=frozenset({'milk'}), confidence=0.410958904109589, lift=3.170979198376459)]),\n",
              " RelationRecord(items=frozenset({'frozen vegetables', 'spaghetti', 'chocolate', 'nan', 'milk'}), support=0.0034666666666666665, ordered_statistics=[OrderedStatistic(items_base=frozenset({'spaghetti', 'chocolate', 'frozen vegetables'}), items_add=frozenset({'milk', 'nan'}), confidence=0.44067796610169496, lift=3.4002929483155477), OrderedStatistic(items_base=frozenset({'spaghetti', 'chocolate', 'milk'}), items_add=frozenset({'nan', 'frozen vegetables'}), confidence=0.3170731707317073, lift=3.325942350332594), OrderedStatistic(items_base=frozenset({'nan', 'spaghetti', 'chocolate', 'frozen vegetables'}), items_add=frozenset({'milk'}), confidence=0.44067796610169496, lift=3.4002929483155477), OrderedStatistic(items_base=frozenset({'nan', 'spaghetti', 'chocolate', 'milk'}), items_add=frozenset({'frozen vegetables'}), confidence=0.3170731707317073, lift=3.325942350332594)]),\n",
              " RelationRecord(items=frozenset({'mineral water', 'frozen vegetables', 'chocolate', 'shrimp', 'nan'}), support=0.0032, ordered_statistics=[OrderedStatistic(items_base=frozenset({'mineral water', 'chocolate', 'frozen vegetables'}), items_add=frozenset({'nan', 'shrimp'}), confidence=0.32876712328767127, lift=4.608884905901934), OrderedStatistic(items_base=frozenset({'mineral water', 'chocolate', 'shrimp'}), items_add=frozenset({'nan', 'frozen vegetables'}), confidence=0.4210526315789474, lift=4.4166359955833645), OrderedStatistic(items_base=frozenset({'mineral water', 'nan', 'chocolate', 'frozen vegetables'}), items_add=frozenset({'shrimp'}), confidence=0.32876712328767127, lift=4.608884905901934), OrderedStatistic(items_base=frozenset({'mineral water', 'chocolate', 'nan', 'shrimp'}), items_add=frozenset({'frozen vegetables'}), confidence=0.4210526315789474, lift=4.4166359955833645)]),\n",
              " RelationRecord(items=frozenset({'mineral water', 'olive oil', 'spaghetti', 'chocolate', 'nan'}), support=0.0038666666666666667, ordered_statistics=[OrderedStatistic(items_base=frozenset({'olive oil', 'chocolate'}), items_add=frozenset({'mineral water', 'spaghetti', 'nan'}), confidence=0.23577235772357721, lift=3.9470818815331006), OrderedStatistic(items_base=frozenset({'mineral water', 'spaghetti', 'chocolate'}), items_add=frozenset({'olive oil', 'nan'}), confidence=0.24369747899159663, lift=3.7073652990608004), OrderedStatistic(items_base=frozenset({'olive oil', 'chocolate', 'nan'}), items_add=frozenset({'mineral water', 'spaghetti'}), confidence=0.23577235772357721, lift=3.9470818815331006), OrderedStatistic(items_base=frozenset({'mineral water', 'spaghetti', 'chocolate', 'nan'}), items_add=frozenset({'olive oil'}), confidence=0.24369747899159663, lift=3.7073652990608004)]),\n",
              " RelationRecord(items=frozenset({'mineral water', 'spaghetti', 'chocolate', 'shrimp', 'nan'}), support=0.0034666666666666665, ordered_statistics=[OrderedStatistic(items_base=frozenset({'mineral water', 'spaghetti', 'chocolate'}), items_add=frozenset({'nan', 'shrimp'}), confidence=0.21848739495798317, lift=3.0629074059530352), OrderedStatistic(items_base=frozenset({'mineral water', 'spaghetti', 'chocolate', 'nan'}), items_add=frozenset({'shrimp'}), confidence=0.21848739495798317, lift=3.0629074059530352)]),\n",
              " RelationRecord(items=frozenset({'eggs', 'mineral water', 'frozen vegetables', 'nan', 'milk'}), support=0.0037333333333333333, ordered_statistics=[OrderedStatistic(items_base=frozenset({'mineral water', 'eggs', 'frozen vegetables'}), items_add=frozenset({'milk', 'nan'}), confidence=0.4117647058823529, lift=3.177196804647785), OrderedStatistic(items_base=frozenset({'mineral water', 'nan', 'eggs', 'frozen vegetables'}), items_add=frozenset({'milk'}), confidence=0.4117647058823529, lift=3.177196804647785)]),\n",
              " RelationRecord(items=frozenset({'mineral water', 'spaghetti', 'frozen smoothie', 'nan', 'milk'}), support=0.0032, ordered_statistics=[OrderedStatistic(items_base=frozenset({'milk', 'frozen smoothie'}), items_add=frozenset({'mineral water', 'spaghetti', 'nan'}), confidence=0.22429906542056074, lift=3.755006675567423), OrderedStatistic(items_base=frozenset({'spaghetti', 'frozen smoothie'}), items_add=frozenset({'mineral water', 'milk', 'nan'}), confidence=0.20512820512820515, lift=4.273504273504273), OrderedStatistic(items_base=frozenset({'milk', 'frozen smoothie', 'nan'}), items_add=frozenset({'mineral water', 'spaghetti'}), confidence=0.22429906542056074, lift=3.755006675567423), OrderedStatistic(items_base=frozenset({'mineral water', 'spaghetti', 'frozen smoothie'}), items_add=frozenset({'milk', 'nan'}), confidence=0.4705882352941177, lift=3.631082062454612), OrderedStatistic(items_base=frozenset({'nan', 'spaghetti', 'frozen smoothie'}), items_add=frozenset({'mineral water', 'milk'}), confidence=0.20512820512820515, lift=4.273504273504273), OrderedStatistic(items_base=frozenset({'mineral water', 'spaghetti', 'milk'}), items_add=frozenset({'nan', 'frozen smoothie'}), confidence=0.20338983050847462, lift=3.218193520703712), OrderedStatistic(items_base=frozenset({'mineral water', 'nan', 'spaghetti', 'frozen smoothie'}), items_add=frozenset({'milk'}), confidence=0.4705882352941177, lift=3.631082062454612), OrderedStatistic(items_base=frozenset({'mineral water', 'nan', 'spaghetti', 'milk'}), items_add=frozenset({'frozen smoothie'}), confidence=0.20338983050847462, lift=3.218193520703712)]),\n",
              " RelationRecord(items=frozenset({'mineral water', 'frozen vegetables', 'nan', 'milk', 'ground beef'}), support=0.0037333333333333333, ordered_statistics=[OrderedStatistic(items_base=frozenset({'frozen vegetables', 'ground beef'}), items_add=frozenset({'mineral water', 'milk', 'nan'}), confidence=0.22047244094488186, lift=4.593175853018372), OrderedStatistic(items_base=frozenset({'mineral water', 'frozen vegetables', 'ground beef'}), items_add=frozenset({'milk', 'nan'}), confidence=0.4057971014492754, lift=3.1311504741456435), OrderedStatistic(items_base=frozenset({'nan', 'frozen vegetables', 'ground beef'}), items_add=frozenset({'mineral water', 'milk'}), confidence=0.22047244094488186, lift=4.593175853018372), OrderedStatistic(items_base=frozenset({'mineral water', 'milk', 'frozen vegetables'}), items_add=frozenset({'nan', 'ground beef'}), confidence=0.3373493975903614, lift=3.4329992970525245), OrderedStatistic(items_base=frozenset({'mineral water', 'milk', 'ground beef'}), items_add=frozenset({'nan', 'frozen vegetables'}), confidence=0.3373493975903614, lift=3.5386300446541408), OrderedStatistic(items_base=frozenset({'mineral water', 'nan', 'frozen vegetables', 'ground beef'}), items_add=frozenset({'milk'}), confidence=0.4057971014492754, lift=3.1311504741456435), OrderedStatistic(items_base=frozenset({'mineral water', 'milk', 'frozen vegetables', 'nan'}), items_add=frozenset({'ground beef'}), confidence=0.3373493975903614, lift=3.4329992970525245), OrderedStatistic(items_base=frozenset({'mineral water', 'nan', 'milk', 'ground beef'}), items_add=frozenset({'frozen vegetables'}), confidence=0.3373493975903614, lift=3.5386300446541408)]),\n",
              " RelationRecord(items=frozenset({'frozen vegetables', 'spaghetti', 'nan', 'milk', 'ground beef'}), support=0.0030666666666666668, ordered_statistics=[OrderedStatistic(items_base=frozenset({'milk', 'frozen vegetables', 'ground beef'}), items_add=frozenset({'spaghetti', 'nan'}), confidence=0.5348837209302326, lift=3.0716905872716267), OrderedStatistic(items_base=frozenset({'milk', 'spaghetti', 'frozen vegetables'}), items_add=frozenset({'nan', 'ground beef'}), confidence=0.3709677419354839, lift=3.7751127062634042), OrderedStatistic(items_base=frozenset({'spaghetti', 'milk', 'ground beef'}), items_add=frozenset({'nan', 'frozen vegetables'}), confidence=0.3150684931506849, lift=3.304914263818373), OrderedStatistic(items_base=frozenset({'milk', 'frozen vegetables', 'nan', 'ground beef'}), items_add=frozenset({'spaghetti'}), confidence=0.5348837209302326, lift=3.0716905872716267), OrderedStatistic(items_base=frozenset({'milk', 'spaghetti', 'frozen vegetables', 'nan'}), items_add=frozenset({'ground beef'}), confidence=0.3709677419354839, lift=3.7751127062634042), OrderedStatistic(items_base=frozenset({'nan', 'spaghetti', 'milk', 'ground beef'}), items_add=frozenset({'frozen vegetables'}), confidence=0.3150684931506849, lift=3.304914263818373)]),\n",
              " RelationRecord(items=frozenset({'mineral water', 'frozen vegetables', 'spaghetti', 'nan', 'ground beef'}), support=0.0044, ordered_statistics=[OrderedStatistic(items_base=frozenset({'frozen vegetables', 'ground beef'}), items_add=frozenset({'mineral water', 'spaghetti', 'nan'}), confidence=0.25984251968503935, lift=4.350042182227221), OrderedStatistic(items_base=frozenset({'nan', 'frozen vegetables', 'ground beef'}), items_add=frozenset({'mineral water', 'spaghetti'}), confidence=0.25984251968503935, lift=4.350042182227221), OrderedStatistic(items_base=frozenset({'mineral water', 'spaghetti', 'frozen vegetables'}), items_add=frozenset({'nan', 'ground beef'}), confidence=0.3666666666666667, lift=3.7313432835820897), OrderedStatistic(items_base=frozenset({'mineral water', 'nan', 'spaghetti', 'frozen vegetables'}), items_add=frozenset({'ground beef'}), confidence=0.3666666666666667, lift=3.7313432835820897)]),\n",
              " RelationRecord(items=frozenset({'mineral water', 'frozen vegetables', 'olive oil', 'nan', 'milk'}), support=0.0033333333333333335, ordered_statistics=[OrderedStatistic(items_base=frozenset({'olive oil', 'frozen vegetables'}), items_add=frozenset({'mineral water', 'milk', 'nan'}), confidence=0.29411764705882354, lift=6.127450980392157), OrderedStatistic(items_base=frozenset({'mineral water', 'milk', 'frozen vegetables'}), items_add=frozenset({'olive oil', 'nan'}), confidence=0.30120481927710846, lift=4.58222341699455), OrderedStatistic(items_base=frozenset({'mineral water', 'olive oil', 'frozen vegetables'}), items_add=frozenset({'milk', 'nan'}), confidence=0.5102040816326531, lift=3.9367598891408417), OrderedStatistic(items_base=frozenset({'nan', 'frozen vegetables', 'olive oil'}), items_add=frozenset({'mineral water', 'milk'}), confidence=0.29411764705882354, lift=6.127450980392157), OrderedStatistic(items_base=frozenset({'mineral water', 'olive oil', 'milk'}), items_add=frozenset({'nan', 'frozen vegetables'}), confidence=0.390625, lift=4.097465034965035), OrderedStatistic(items_base=frozenset({'mineral water', 'milk', 'frozen vegetables', 'nan'}), items_add=frozenset({'olive oil'}), confidence=0.30120481927710846, lift=4.58222341699455), OrderedStatistic(items_base=frozenset({'mineral water', 'nan', 'frozen vegetables', 'olive oil'}), items_add=frozenset({'milk'}), confidence=0.5102040816326531, lift=3.9367598891408417), OrderedStatistic(items_base=frozenset({'mineral water', 'nan', 'milk', 'olive oil'}), items_add=frozenset({'frozen vegetables'}), confidence=0.390625, lift=4.097465034965035)]),\n",
              " RelationRecord(items=frozenset({'mineral water', 'frozen vegetables', 'soup', 'nan', 'milk'}), support=0.0030666666666666668, ordered_statistics=[OrderedStatistic(items_base=frozenset({'soup', 'frozen vegetables'}), items_add=frozenset({'mineral water', 'milk', 'nan'}), confidence=0.38333333333333336, lift=7.986111111111112), OrderedStatistic(items_base=frozenset({'soup', 'milk'}), items_add=frozenset({'mineral water', 'nan', 'frozen vegetables'}), confidence=0.2017543859649123, lift=5.646111547525531), OrderedStatistic(items_base=frozenset({'mineral water', 'milk', 'frozen vegetables'}), items_add=frozenset({'soup', 'nan'}), confidence=0.27710843373493976, lift=5.483676129319388), OrderedStatistic(items_base=frozenset({'milk', 'soup', 'frozen vegetables'}), items_add=frozenset({'mineral water', 'nan'}), confidence=0.7666666666666667, lift=3.2176832680470064), OrderedStatistic(items_base=frozenset({'mineral water', 'soup', 'frozen vegetables'}), items_add=frozenset({'milk', 'nan'}), confidence=0.605263157894737, lift=4.670240415854452), OrderedStatistic(items_base=frozenset({'nan', 'soup', 'frozen vegetables'}), items_add=frozenset({'mineral water', 'milk'}), confidence=0.38333333333333336, lift=7.986111111111112), OrderedStatistic(items_base=frozenset({'mineral water', 'soup', 'milk'}), items_add=frozenset({'nan', 'frozen vegetables'}), confidence=0.359375, lift=3.769667832167832), OrderedStatistic(items_base=frozenset({'nan', 'soup', 'milk'}), items_add=frozenset({'mineral water', 'frozen vegetables'}), confidence=0.2017543859649123, lift=5.646111547525531), OrderedStatistic(items_base=frozenset({'mineral water', 'milk', 'frozen vegetables', 'nan'}), items_add=frozenset({'soup'}), confidence=0.27710843373493976, lift=5.483676129319388), OrderedStatistic(items_base=frozenset({'milk', 'soup', 'frozen vegetables', 'nan'}), items_add=frozenset({'mineral water'}), confidence=0.7666666666666667, lift=3.2176832680470064), OrderedStatistic(items_base=frozenset({'mineral water', 'nan', 'soup', 'frozen vegetables'}), items_add=frozenset({'milk'}), confidence=0.605263157894737, lift=4.670240415854452), OrderedStatistic(items_base=frozenset({'mineral water', 'nan', 'soup', 'milk'}), items_add=frozenset({'frozen vegetables'}), confidence=0.359375, lift=3.769667832167832)]),\n",
              " RelationRecord(items=frozenset({'mineral water', 'frozen vegetables', 'spaghetti', 'nan', 'milk'}), support=0.004533333333333334, ordered_statistics=[OrderedStatistic(items_base=frozenset({'mineral water', 'spaghetti', 'milk'}), items_add=frozenset({'nan', 'frozen vegetables'}), confidence=0.28813559322033905, lift=3.0224013274860737), OrderedStatistic(items_base=frozenset({'mineral water', 'nan', 'spaghetti', 'milk'}), items_add=frozenset({'frozen vegetables'}), confidence=0.28813559322033905, lift=3.0224013274860737)]),\n",
              " RelationRecord(items=frozenset({'mineral water', 'frozen vegetables', 'spaghetti', 'shrimp', 'nan'}), support=0.0033333333333333335, ordered_statistics=[OrderedStatistic(items_base=frozenset({'frozen vegetables', 'shrimp'}), items_add=frozenset({'mineral water', 'spaghetti', 'nan'}), confidence=0.2, lift=3.348214285714286), OrderedStatistic(items_base=frozenset({'mineral water', 'spaghetti', 'frozen vegetables'}), items_add=frozenset({'nan', 'shrimp'}), confidence=0.2777777777777778, lift=3.8940809968847354), OrderedStatistic(items_base=frozenset({'nan', 'frozen vegetables', 'shrimp'}), items_add=frozenset({'mineral water', 'spaghetti'}), confidence=0.2, lift=3.348214285714286), OrderedStatistic(items_base=frozenset({'mineral water', 'spaghetti', 'shrimp'}), items_add=frozenset({'nan', 'frozen vegetables'}), confidence=0.390625, lift=4.097465034965035), OrderedStatistic(items_base=frozenset({'mineral water', 'nan', 'spaghetti', 'frozen vegetables'}), items_add=frozenset({'shrimp'}), confidence=0.2777777777777778, lift=3.8940809968847354), OrderedStatistic(items_base=frozenset({'mineral water', 'spaghetti', 'nan', 'shrimp'}), items_add=frozenset({'frozen vegetables'}), confidence=0.390625, lift=4.097465034965035)]),\n",
              " RelationRecord(items=frozenset({'mineral water', 'frozen vegetables', 'spaghetti', 'tomatoes', 'nan'}), support=0.0030666666666666668, ordered_statistics=[OrderedStatistic(items_base=frozenset({'mineral water', 'spaghetti', 'frozen vegetables'}), items_add=frozenset({'tomatoes', 'nan'}), confidence=0.25555555555555554, lift=3.73619233268356), OrderedStatistic(items_base=frozenset({'mineral water', 'tomatoes', 'frozen vegetables'}), items_add=frozenset({'spaghetti', 'nan'}), confidence=0.5227272727272727, lift=3.0018794375609077), OrderedStatistic(items_base=frozenset({'mineral water', 'tomatoes', 'spaghetti'}), items_add=frozenset({'nan', 'frozen vegetables'}), confidence=0.32857142857142857, lift=3.4465534465534464), OrderedStatistic(items_base=frozenset({'mineral water', 'nan', 'spaghetti', 'frozen vegetables'}), items_add=frozenset({'tomatoes'}), confidence=0.25555555555555554, lift=3.73619233268356), OrderedStatistic(items_base=frozenset({'mineral water', 'nan', 'tomatoes', 'frozen vegetables'}), items_add=frozenset({'spaghetti'}), confidence=0.5227272727272727, lift=3.0018794375609077), OrderedStatistic(items_base=frozenset({'mineral water', 'tomatoes', 'spaghetti', 'nan'}), items_add=frozenset({'frozen vegetables'}), confidence=0.32857142857142857, lift=3.4465534465534464)]),\n",
              " RelationRecord(items=frozenset({'mineral water', 'spaghetti', 'milk', 'nan', 'ground beef'}), support=0.0044, ordered_statistics=[OrderedStatistic(items_base=frozenset({'milk', 'ground beef'}), items_add=frozenset({'mineral water', 'spaghetti', 'nan'}), confidence=0.2, lift=3.348214285714286), OrderedStatistic(items_base=frozenset({'nan', 'milk', 'ground beef'}), items_add=frozenset({'mineral water', 'spaghetti'}), confidence=0.2, lift=3.348214285714286)]),\n",
              " RelationRecord(items=frozenset({'mineral water', 'olive oil', 'spaghetti', 'nan', 'ground beef'}), support=0.0030666666666666668, ordered_statistics=[OrderedStatistic(items_base=frozenset({'olive oil', 'ground beef'}), items_add=frozenset({'mineral water', 'spaghetti', 'nan'}), confidence=0.2169811320754717, lift=3.632496630727763), OrderedStatistic(items_base=frozenset({'olive oil', 'nan', 'ground beef'}), items_add=frozenset({'mineral water', 'spaghetti'}), confidence=0.2169811320754717, lift=3.632496630727763), OrderedStatistic(items_base=frozenset({'mineral water', 'olive oil', 'spaghetti'}), items_add=frozenset({'nan', 'ground beef'}), confidence=0.2987012987012987, lift=3.0397011401081957), OrderedStatistic(items_base=frozenset({'mineral water', 'olive oil', 'spaghetti', 'nan'}), items_add=frozenset({'ground beef'}), confidence=0.2987012987012987, lift=3.0397011401081957)]),\n",
              " RelationRecord(items=frozenset({'mineral water', 'spaghetti', 'pancakes', 'nan', 'ground beef'}), support=0.0030666666666666668, ordered_statistics=[OrderedStatistic(items_base=frozenset({'pancakes', 'ground beef'}), items_add=frozenset({'mineral water', 'spaghetti', 'nan'}), confidence=0.21100917431192662, lift=3.532519659239843), OrderedStatistic(items_base=frozenset({'nan', 'pancakes', 'ground beef'}), items_add=frozenset({'mineral water', 'spaghetti'}), confidence=0.21100917431192662, lift=3.532519659239843)]),\n",
              " RelationRecord(items=frozenset({'mineral water', 'spaghetti', 'tomatoes', 'nan', 'ground beef'}), support=0.0030666666666666668, ordered_statistics=[OrderedStatistic(items_base=frozenset({'tomatoes', 'ground beef'}), items_add=frozenset({'mineral water', 'spaghetti', 'nan'}), confidence=0.26136363636363635, lift=4.375507305194805), OrderedStatistic(items_base=frozenset({'mineral water', 'tomatoes', 'ground beef'}), items_add=frozenset({'spaghetti', 'nan'}), confidence=0.5609756097560976, lift=3.221529152504389), OrderedStatistic(items_base=frozenset({'tomatoes', 'nan', 'ground beef'}), items_add=frozenset({'mineral water', 'spaghetti'}), confidence=0.26136363636363635, lift=4.375507305194805), OrderedStatistic(items_base=frozenset({'mineral water', 'tomatoes', 'spaghetti'}), items_add=frozenset({'nan', 'ground beef'}), confidence=0.32857142857142857, lift=3.3436712541190152), OrderedStatistic(items_base=frozenset({'mineral water', 'tomatoes', 'nan', 'ground beef'}), items_add=frozenset({'spaghetti'}), confidence=0.5609756097560976, lift=3.221529152504389), OrderedStatistic(items_base=frozenset({'mineral water', 'tomatoes', 'spaghetti', 'nan'}), items_add=frozenset({'ground beef'}), confidence=0.32857142857142857, lift=3.3436712541190152)]),\n",
              " RelationRecord(items=frozenset({'mineral water', 'olive oil', 'spaghetti', 'milk', 'nan'}), support=0.0033333333333333335, ordered_statistics=[OrderedStatistic(items_base=frozenset({'mineral water', 'spaghetti', 'milk'}), items_add=frozenset({'olive oil', 'nan'}), confidence=0.21186440677966106, lift=3.2230893526317606), OrderedStatistic(items_base=frozenset({'mineral water', 'nan', 'spaghetti', 'milk'}), items_add=frozenset({'olive oil'}), confidence=0.21186440677966106, lift=3.2230893526317606)]),\n",
              " RelationRecord(items=frozenset({'mineral water', 'spaghetti', 'tomatoes', 'milk', 'nan'}), support=0.0033333333333333335, ordered_statistics=[OrderedStatistic(items_base=frozenset({'tomatoes', 'milk'}), items_add=frozenset({'mineral water', 'spaghetti', 'nan'}), confidence=0.2380952380952381, lift=3.985969387755102), OrderedStatistic(items_base=frozenset({'mineral water', 'spaghetti', 'milk'}), items_add=frozenset({'tomatoes', 'nan'}), confidence=0.21186440677966106, lift=3.0974328476558632), OrderedStatistic(items_base=frozenset({'nan', 'tomatoes', 'milk'}), items_add=frozenset({'mineral water', 'spaghetti'}), confidence=0.2380952380952381, lift=3.985969387755102), OrderedStatistic(items_base=frozenset({'mineral water', 'nan', 'spaghetti', 'milk'}), items_add=frozenset({'tomatoes'}), confidence=0.21186440677966106, lift=3.0974328476558632)])]"
            ]
          },
          "metadata": {
            "tags": []
          },
          "execution_count": 24
        }
      ]
    },
    {
      "cell_type": "markdown",
      "metadata": {
        "id": "2vdZVsS7Dbdb"
      },
      "source": [
        "\n",
        "#For loop \n",
        "\n",
        "RelationRecord(\n",
        "  \n",
        "items=frozenset({'tomatoes', 'soup', 'milk'})--- #0th item\n",
        "\n",
        "\n",
        "support=0.0030666666666666668 --- #1st item\n",
        "\n",
        "\n",
        "ordered_statistics ---- 2nd item\n",
        "\n",
        "result[2][0]----0th item of 2nd item\n",
        "\n",
        "0th item in 2nd item---[OrderedStatistic(items_base=frozenset({'tomatoes', 'milk'}), items_add=frozenset({'soup'}), confidence=0.21904761904761905, lift=4.334715416509612), OrderedStatistic(items_base=frozenset({'tomatoes', 'soup'}), items_add=frozenset({'milk'}), confidence=0.44230769230769235, lift=3.41286799620133)]),\n",
        " \n",
        "0th item of 0th item of 2nd item --- result[2][0][0]--- [OrderedStatistic(items_base=frozenset({'tomatoes', 'milk'})]\n",
        "\n",
        "(result[2][0][0])[0] --- tomatoes from [OrderedStatistic(items_base=frozenset({'tomatoes', 'milk'})]"
      ]
    },
    {
      "cell_type": "code",
      "metadata": {
        "id": "Kgzj8uaD0cvo"
      },
      "source": [
        "lhs=[tuple(result[2][0][0])[0] for result in results]"
      ],
      "execution_count": 35,
      "outputs": []
    },
    {
      "cell_type": "code",
      "metadata": {
        "id": "Q0imNGTT7D5y"
      },
      "source": [
        "rhs=[tuple(result[2][0][1])[0] for result in results]"
      ],
      "execution_count": 27,
      "outputs": []
    },
    {
      "cell_type": "code",
      "metadata": {
        "id": "goGYsL278m7w"
      },
      "source": [
        "supports=[result[1] for result in results]"
      ],
      "execution_count": 29,
      "outputs": []
    },
    {
      "cell_type": "code",
      "metadata": {
        "id": "a0dXn31I-ynQ"
      },
      "source": [
        "confidence=[result[2][0][2] for result in results]"
      ],
      "execution_count": 38,
      "outputs": []
    },
    {
      "cell_type": "code",
      "metadata": {
        "id": "1UTus79xCA7d"
      },
      "source": [
        "lift=[result[2][0][3] for result in results]"
      ],
      "execution_count": 39,
      "outputs": []
    },
    {
      "cell_type": "code",
      "metadata": {
        "colab": {
          "base_uri": "https://localhost:8080/",
          "height": 407
        },
        "id": "7557a5Q8CLMK",
        "outputId": "9d6d72e6-41a1-4863-ae57-36547a35c97a"
      },
      "source": [
        "resultDataFrame=pd.DataFrame(zip(lhs,rhs,supports,confidence,lift),columns=['LHS','RHS','Support','Confidence','Lift'])\n",
        "resultDataFrame"
      ],
      "execution_count": 43,
      "outputs": [
        {
          "output_type": "execute_result",
          "data": {
            "text/html": [
              "<div>\n",
              "<style scoped>\n",
              "    .dataframe tbody tr th:only-of-type {\n",
              "        vertical-align: middle;\n",
              "    }\n",
              "\n",
              "    .dataframe tbody tr th {\n",
              "        vertical-align: top;\n",
              "    }\n",
              "\n",
              "    .dataframe thead th {\n",
              "        text-align: right;\n",
              "    }\n",
              "</style>\n",
              "<table border=\"1\" class=\"dataframe\">\n",
              "  <thead>\n",
              "    <tr style=\"text-align: right;\">\n",
              "      <th></th>\n",
              "      <th>LHS</th>\n",
              "      <th>RHS</th>\n",
              "      <th>Support</th>\n",
              "      <th>Confidence</th>\n",
              "      <th>Lift</th>\n",
              "    </tr>\n",
              "  </thead>\n",
              "  <tbody>\n",
              "    <tr>\n",
              "      <th>0</th>\n",
              "      <td>light cream</td>\n",
              "      <td>chicken</td>\n",
              "      <td>0.004533</td>\n",
              "      <td>0.290598</td>\n",
              "      <td>4.843305</td>\n",
              "    </tr>\n",
              "    <tr>\n",
              "      <th>1</th>\n",
              "      <td>mushroom cream sauce</td>\n",
              "      <td>escalope</td>\n",
              "      <td>0.005733</td>\n",
              "      <td>0.300699</td>\n",
              "      <td>3.790327</td>\n",
              "    </tr>\n",
              "    <tr>\n",
              "      <th>2</th>\n",
              "      <td>pasta</td>\n",
              "      <td>escalope</td>\n",
              "      <td>0.005867</td>\n",
              "      <td>0.372881</td>\n",
              "      <td>4.700185</td>\n",
              "    </tr>\n",
              "    <tr>\n",
              "      <th>3</th>\n",
              "      <td>fromage blanc</td>\n",
              "      <td>honey</td>\n",
              "      <td>0.003333</td>\n",
              "      <td>0.245098</td>\n",
              "      <td>5.178128</td>\n",
              "    </tr>\n",
              "    <tr>\n",
              "      <th>4</th>\n",
              "      <td>herb &amp; pepper</td>\n",
              "      <td>ground beef</td>\n",
              "      <td>0.016000</td>\n",
              "      <td>0.323450</td>\n",
              "      <td>3.291555</td>\n",
              "    </tr>\n",
              "    <tr>\n",
              "      <th>...</th>\n",
              "      <td>...</td>\n",
              "      <td>...</td>\n",
              "      <td>...</td>\n",
              "      <td>...</td>\n",
              "      <td>...</td>\n",
              "    </tr>\n",
              "    <tr>\n",
              "      <th>155</th>\n",
              "      <td>olive oil</td>\n",
              "      <td>mineral water</td>\n",
              "      <td>0.003067</td>\n",
              "      <td>0.216981</td>\n",
              "      <td>3.632497</td>\n",
              "    </tr>\n",
              "    <tr>\n",
              "      <th>156</th>\n",
              "      <td>pancakes</td>\n",
              "      <td>mineral water</td>\n",
              "      <td>0.003067</td>\n",
              "      <td>0.211009</td>\n",
              "      <td>3.532520</td>\n",
              "    </tr>\n",
              "    <tr>\n",
              "      <th>157</th>\n",
              "      <td>tomatoes</td>\n",
              "      <td>mineral water</td>\n",
              "      <td>0.003067</td>\n",
              "      <td>0.261364</td>\n",
              "      <td>4.375507</td>\n",
              "    </tr>\n",
              "    <tr>\n",
              "      <th>158</th>\n",
              "      <td>mineral water</td>\n",
              "      <td>olive oil</td>\n",
              "      <td>0.003333</td>\n",
              "      <td>0.211864</td>\n",
              "      <td>3.223089</td>\n",
              "    </tr>\n",
              "    <tr>\n",
              "      <th>159</th>\n",
              "      <td>tomatoes</td>\n",
              "      <td>mineral water</td>\n",
              "      <td>0.003333</td>\n",
              "      <td>0.238095</td>\n",
              "      <td>3.985969</td>\n",
              "    </tr>\n",
              "  </tbody>\n",
              "</table>\n",
              "<p>160 rows × 5 columns</p>\n",
              "</div>"
            ],
            "text/plain": [
              "                      LHS            RHS   Support  Confidence      Lift\n",
              "0             light cream        chicken  0.004533    0.290598  4.843305\n",
              "1    mushroom cream sauce       escalope  0.005733    0.300699  3.790327\n",
              "2                   pasta       escalope  0.005867    0.372881  4.700185\n",
              "3           fromage blanc          honey  0.003333    0.245098  5.178128\n",
              "4           herb & pepper    ground beef  0.016000    0.323450  3.291555\n",
              "..                    ...            ...       ...         ...       ...\n",
              "155             olive oil  mineral water  0.003067    0.216981  3.632497\n",
              "156              pancakes  mineral water  0.003067    0.211009  3.532520\n",
              "157              tomatoes  mineral water  0.003067    0.261364  4.375507\n",
              "158         mineral water      olive oil  0.003333    0.211864  3.223089\n",
              "159              tomatoes  mineral water  0.003333    0.238095  3.985969\n",
              "\n",
              "[160 rows x 5 columns]"
            ]
          },
          "metadata": {
            "tags": []
          },
          "execution_count": 43
        }
      ]
    },
    {
      "cell_type": "code",
      "metadata": {
        "id": "Fmqxtf8zCuX3"
      },
      "source": [
        ""
      ],
      "execution_count": null,
      "outputs": []
    }
  ]
}