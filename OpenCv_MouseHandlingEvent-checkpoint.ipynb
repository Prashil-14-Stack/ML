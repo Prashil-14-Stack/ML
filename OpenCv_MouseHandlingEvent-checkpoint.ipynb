{
 "cells": [
  {
   "cell_type": "code",
   "execution_count": 23,
   "id": "b052f87f",
   "metadata": {},
   "outputs": [],
   "source": [
    "import cv2\n",
    "import numpy as np\n"
   ]
  },
  {
   "cell_type": "code",
   "execution_count": 14,
   "id": "cccb97e9",
   "metadata": {},
   "outputs": [
    {
     "name": "stdout",
     "output_type": "stream",
     "text": [
      "['EVENT_FLAG_ALTKEY', 'EVENT_FLAG_CTRLKEY', 'EVENT_FLAG_LBUTTON', 'EVENT_FLAG_MBUTTON', 'EVENT_FLAG_RBUTTON', 'EVENT_FLAG_SHIFTKEY', 'EVENT_LBUTTONDBLCLK', 'EVENT_LBUTTONDOWN', 'EVENT_LBUTTONUP', 'EVENT_MBUTTONDBLCLK', 'EVENT_MBUTTONDOWN', 'EVENT_MBUTTONUP', 'EVENT_MOUSEHWHEEL', 'EVENT_MOUSEMOVE', 'EVENT_MOUSEWHEEL', 'EVENT_RBUTTONDBLCLK', 'EVENT_RBUTTONDOWN', 'EVENT_RBUTTONUP']\n"
     ]
    }
   ],
   "source": [
    "#evnt=[i for i in dir(cv2) if 'EVENT' in i]\n",
    "#print(evnt)"
   ]
  },
  {
   "cell_type": "code",
   "execution_count": 27,
   "id": "ae861a58",
   "metadata": {},
   "outputs": [
    {
     "name": "stdout",
     "output_type": "stream",
     "text": [
      "155 , 66\n",
      "139 , 131\n",
      "115 , 262\n"
     ]
    }
   ],
   "source": [
    "def click_event(event,x,y,flags,param):\n",
    "    if event==cv2.EVENT_LBUTTONDBLCLK:\n",
    "        print(x,',',y)\n",
    "        font=cv2.FONT_HERSHEY_SIMPLEX\n",
    "        strxy=str(x)+','+str(y)\n",
    "        cv2.putText(img,strxy,(x,y),font,1,(255,255,0),2)\n",
    "        cv2.imshow('Image',img)\n",
    "    if event==cv2.EVENT_RBUTTONDBLCLK:\n",
    "        print(x,',',y)\n",
    "        blue=img[y,x,0]\n",
    "        green=img[y,x,1]\n",
    "        red=img[y,x,2]\n",
    "        font=cv2.FONT_HERSHEY_SIMPLEX\n",
    "        strBGR=str(blue)+','+str(green)+','+str(red)\n",
    "        cv2.putText(img,strBGR,(x,y),font,1,(255,0,255),2)\n",
    "        cv2.imshow('Image',img)\n",
    "\n",
    "img=np.zeros((512,512,3),np.uint8)\n",
    "cv2.imshow('Image',img)\n",
    "\n",
    "cv2.setMouseCallback('Image',click_event)\n",
    "\n",
    "cv2.waitKey()\n",
    "cv2.destroyAllWindows()\n",
    "        "
   ]
  },
  {
   "cell_type": "code",
   "execution_count": null,
   "id": "f0550cab",
   "metadata": {},
   "outputs": [],
   "source": []
  }
 ],
 "metadata": {
  "kernelspec": {
   "display_name": "Python 3 (ipykernel)",
   "language": "python",
   "name": "python3"
  },
  "language_info": {
   "codemirror_mode": {
    "name": "ipython",
    "version": 3
   },
   "file_extension": ".py",
   "mimetype": "text/x-python",
   "name": "python",
   "nbconvert_exporter": "python",
   "pygments_lexer": "ipython3",
   "version": "3.7.1"
  }
 },
 "nbformat": 4,
 "nbformat_minor": 5
}
