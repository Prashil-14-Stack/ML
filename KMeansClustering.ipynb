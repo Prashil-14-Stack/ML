{
  "nbformat": 4,
  "nbformat_minor": 0,
  "metadata": {
    "colab": {
      "name": "KMeansClustering.ipynb",
      "provenance": [],
      "collapsed_sections": [],
      "authorship_tag": "ABX9TyNHyRL9WweQZpiEOgFV1gGy",
      "include_colab_link": true
    },
    "kernelspec": {
      "name": "python3",
      "display_name": "Python 3"
    },
    "language_info": {
      "name": "python"
    }
  },
  "cells": [
    {
      "cell_type": "markdown",
      "metadata": {
        "id": "view-in-github",
        "colab_type": "text"
      },
      "source": [
        "<a href=\"https://colab.research.google.com/github/Prashil-14-Stack/ML/blob/main/KMeansClustering.ipynb\" target=\"_parent\"><img src=\"https://colab.research.google.com/assets/colab-badge.svg\" alt=\"Open In Colab\"/></a>"
      ]
    },
    {
      "cell_type": "code",
      "metadata": {
        "id": "2L40QJUcsPR2"
      },
      "source": [
        "import numpy as np\n",
        "import pandas as pd"
      ],
      "execution_count": 1,
      "outputs": []
    },
    {
      "cell_type": "code",
      "metadata": {
        "id": "JtwIS7mmsbUx"
      },
      "source": [
        "import matplotlib.pyplot as plt"
      ],
      "execution_count": 2,
      "outputs": []
    },
    {
      "cell_type": "code",
      "metadata": {
        "colab": {
          "resources": {
            "http://localhost:8080/nbextensions/google.colab/files.js": {
              "data": "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",
              "ok": true,
              "headers": [
                [
                  "content-type",
                  "application/javascript"
                ]
              ],
              "status": 200,
              "status_text": ""
            }
          },
          "base_uri": "https://localhost:8080/",
          "height": 72
        },
        "id": "fMSgZe7dsfiR",
        "outputId": "e544121c-53d4-4214-c88a-a3207133b01a"
      },
      "source": [
        "from google.colab import files\n",
        "uploaded=files.upload()"
      ],
      "execution_count": 3,
      "outputs": [
        {
          "output_type": "display_data",
          "data": {
            "text/html": [
              "\n",
              "     <input type=\"file\" id=\"files-7fc44893-fad3-4f10-8592-2c5f36bf4e05\" name=\"files[]\" multiple disabled\n",
              "        style=\"border:none\" />\n",
              "     <output id=\"result-7fc44893-fad3-4f10-8592-2c5f36bf4e05\">\n",
              "      Upload widget is only available when the cell has been executed in the\n",
              "      current browser session. Please rerun this cell to enable.\n",
              "      </output>\n",
              "      <script src=\"/nbextensions/google.colab/files.js\"></script> "
            ],
            "text/plain": [
              "<IPython.core.display.HTML object>"
            ]
          },
          "metadata": {
            "tags": []
          }
        },
        {
          "output_type": "stream",
          "text": [
            "Saving dataset.csv to dataset.csv\n"
          ],
          "name": "stdout"
        }
      ]
    },
    {
      "cell_type": "code",
      "metadata": {
        "id": "V79KlwZmssjw"
      },
      "source": [
        "df=pd.read_csv('dataset.csv')"
      ],
      "execution_count": 4,
      "outputs": []
    },
    {
      "cell_type": "code",
      "metadata": {
        "colab": {
          "base_uri": "https://localhost:8080/"
        },
        "id": "GWwzyhUks_v9",
        "outputId": "f5ca4f11-7db4-4b71-bdf6-039c90aa4be0"
      },
      "source": [
        "df.shape"
      ],
      "execution_count": 6,
      "outputs": [
        {
          "output_type": "execute_result",
          "data": {
            "text/plain": [
              "(303, 2)"
            ]
          },
          "metadata": {
            "tags": []
          },
          "execution_count": 6
        }
      ]
    },
    {
      "cell_type": "code",
      "metadata": {
        "colab": {
          "base_uri": "https://localhost:8080/",
          "height": 297
        },
        "id": "NKn5b0ZXtGL6",
        "outputId": "9fa564c2-b166-4c79-fa9f-fe777bd06e63"
      },
      "source": [
        "df.describe()"
      ],
      "execution_count": 8,
      "outputs": [
        {
          "output_type": "execute_result",
          "data": {
            "text/html": [
              "<div>\n",
              "<style scoped>\n",
              "    .dataframe tbody tr th:only-of-type {\n",
              "        vertical-align: middle;\n",
              "    }\n",
              "\n",
              "    .dataframe tbody tr th {\n",
              "        vertical-align: top;\n",
              "    }\n",
              "\n",
              "    .dataframe thead th {\n",
              "        text-align: right;\n",
              "    }\n",
              "</style>\n",
              "<table border=\"1\" class=\"dataframe\">\n",
              "  <thead>\n",
              "    <tr style=\"text-align: right;\">\n",
              "      <th></th>\n",
              "      <th>INCOME</th>\n",
              "      <th>SPEND</th>\n",
              "    </tr>\n",
              "  </thead>\n",
              "  <tbody>\n",
              "    <tr>\n",
              "      <th>count</th>\n",
              "      <td>303.000000</td>\n",
              "      <td>303.000000</td>\n",
              "    </tr>\n",
              "    <tr>\n",
              "      <th>mean</th>\n",
              "      <td>245.273927</td>\n",
              "      <td>149.646865</td>\n",
              "    </tr>\n",
              "    <tr>\n",
              "      <th>std</th>\n",
              "      <td>48.499412</td>\n",
              "      <td>22.905161</td>\n",
              "    </tr>\n",
              "    <tr>\n",
              "      <th>min</th>\n",
              "      <td>126.000000</td>\n",
              "      <td>71.000000</td>\n",
              "    </tr>\n",
              "    <tr>\n",
              "      <th>25%</th>\n",
              "      <td>211.000000</td>\n",
              "      <td>133.500000</td>\n",
              "    </tr>\n",
              "    <tr>\n",
              "      <th>50%</th>\n",
              "      <td>240.000000</td>\n",
              "      <td>153.000000</td>\n",
              "    </tr>\n",
              "    <tr>\n",
              "      <th>75%</th>\n",
              "      <td>274.000000</td>\n",
              "      <td>166.000000</td>\n",
              "    </tr>\n",
              "    <tr>\n",
              "      <th>max</th>\n",
              "      <td>417.000000</td>\n",
              "      <td>202.000000</td>\n",
              "    </tr>\n",
              "  </tbody>\n",
              "</table>\n",
              "</div>"
            ],
            "text/plain": [
              "           INCOME       SPEND\n",
              "count  303.000000  303.000000\n",
              "mean   245.273927  149.646865\n",
              "std     48.499412   22.905161\n",
              "min    126.000000   71.000000\n",
              "25%    211.000000  133.500000\n",
              "50%    240.000000  153.000000\n",
              "75%    274.000000  166.000000\n",
              "max    417.000000  202.000000"
            ]
          },
          "metadata": {
            "tags": []
          },
          "execution_count": 8
        }
      ]
    },
    {
      "cell_type": "code",
      "metadata": {
        "colab": {
          "base_uri": "https://localhost:8080/",
          "height": 204
        },
        "id": "tt9sq960tvCp",
        "outputId": "0fe296c9-e703-4825-959d-0e55ea4c84bb"
      },
      "source": [
        "df.head(5)"
      ],
      "execution_count": 10,
      "outputs": [
        {
          "output_type": "execute_result",
          "data": {
            "text/html": [
              "<div>\n",
              "<style scoped>\n",
              "    .dataframe tbody tr th:only-of-type {\n",
              "        vertical-align: middle;\n",
              "    }\n",
              "\n",
              "    .dataframe tbody tr th {\n",
              "        vertical-align: top;\n",
              "    }\n",
              "\n",
              "    .dataframe thead th {\n",
              "        text-align: right;\n",
              "    }\n",
              "</style>\n",
              "<table border=\"1\" class=\"dataframe\">\n",
              "  <thead>\n",
              "    <tr style=\"text-align: right;\">\n",
              "      <th></th>\n",
              "      <th>INCOME</th>\n",
              "      <th>SPEND</th>\n",
              "    </tr>\n",
              "  </thead>\n",
              "  <tbody>\n",
              "    <tr>\n",
              "      <th>0</th>\n",
              "      <td>233</td>\n",
              "      <td>150</td>\n",
              "    </tr>\n",
              "    <tr>\n",
              "      <th>1</th>\n",
              "      <td>250</td>\n",
              "      <td>187</td>\n",
              "    </tr>\n",
              "    <tr>\n",
              "      <th>2</th>\n",
              "      <td>204</td>\n",
              "      <td>172</td>\n",
              "    </tr>\n",
              "    <tr>\n",
              "      <th>3</th>\n",
              "      <td>236</td>\n",
              "      <td>178</td>\n",
              "    </tr>\n",
              "    <tr>\n",
              "      <th>4</th>\n",
              "      <td>354</td>\n",
              "      <td>163</td>\n",
              "    </tr>\n",
              "  </tbody>\n",
              "</table>\n",
              "</div>"
            ],
            "text/plain": [
              "   INCOME  SPEND\n",
              "0     233    150\n",
              "1     250    187\n",
              "2     204    172\n",
              "3     236    178\n",
              "4     354    163"
            ]
          },
          "metadata": {
            "tags": []
          },
          "execution_count": 10
        }
      ]
    },
    {
      "cell_type": "code",
      "metadata": {
        "id": "Mi57ptn3tO7v"
      },
      "source": [
        "Income=df['INCOME'].values\n",
        "Spend=df['SPEND'].values\n",
        "X=np.array(list(zip(Income,Spend)))"
      ],
      "execution_count": 11,
      "outputs": []
    },
    {
      "cell_type": "code",
      "metadata": {
        "colab": {
          "base_uri": "https://localhost:8080/"
        },
        "id": "-KBLyDyEtpDM",
        "outputId": "19d5b1fb-8fb3-4e9c-847e-a1837eea69c8"
      },
      "source": [
        "X"
      ],
      "execution_count": 12,
      "outputs": [
        {
          "output_type": "execute_result",
          "data": {
            "text/plain": [
              "array([[233, 150],\n",
              "       [250, 187],\n",
              "       [204, 172],\n",
              "       [236, 178],\n",
              "       [354, 163],\n",
              "       [192, 148],\n",
              "       [294, 153],\n",
              "       [263, 173],\n",
              "       [199, 162],\n",
              "       [168, 174],\n",
              "       [239, 160],\n",
              "       [275, 139],\n",
              "       [266, 171],\n",
              "       [211, 144],\n",
              "       [283, 162],\n",
              "       [219, 158],\n",
              "       [340, 172],\n",
              "       [226, 114],\n",
              "       [247, 171],\n",
              "       [239, 151],\n",
              "       [234, 161],\n",
              "       [233, 179],\n",
              "       [226, 178],\n",
              "       [243, 137],\n",
              "       [199, 178],\n",
              "       [302, 162],\n",
              "       [212, 157],\n",
              "       [175, 123],\n",
              "       [417, 157],\n",
              "       [197, 152],\n",
              "       [198, 168],\n",
              "       [177, 140],\n",
              "       [219, 188],\n",
              "       [273, 152],\n",
              "       [213, 125],\n",
              "       [177, 160],\n",
              "       [304, 170],\n",
              "       [232, 165],\n",
              "       [269, 148],\n",
              "       [360, 151],\n",
              "       [308, 142],\n",
              "       [245, 180],\n",
              "       [208, 148],\n",
              "       [264, 143],\n",
              "       [321, 182],\n",
              "       [325, 172],\n",
              "       [235, 180],\n",
              "       [257, 156],\n",
              "       [216, 115],\n",
              "       [234, 160],\n",
              "       [256, 149],\n",
              "       [302, 151],\n",
              "       [231, 146],\n",
              "       [141, 175],\n",
              "       [252, 172],\n",
              "       [201, 158],\n",
              "       [222, 186],\n",
              "       [260, 185],\n",
              "       [182, 174],\n",
              "       [303, 159],\n",
              "       [265, 130],\n",
              "       [309, 156],\n",
              "       [186, 190],\n",
              "       [203, 132],\n",
              "       [211, 165],\n",
              "       [183, 182],\n",
              "       [222, 143],\n",
              "       [234, 175],\n",
              "       [220, 170],\n",
              "       [209, 163],\n",
              "       [258, 147],\n",
              "       [227, 154],\n",
              "       [204, 202],\n",
              "       [261, 186],\n",
              "       [213, 165],\n",
              "       [250, 161],\n",
              "       [245, 166],\n",
              "       [221, 164],\n",
              "       [205, 184],\n",
              "       [240, 154],\n",
              "       [250, 179],\n",
              "       [308, 170],\n",
              "       [318, 160],\n",
              "       [298, 178],\n",
              "       [265, 122],\n",
              "       [264, 160],\n",
              "       [277, 151],\n",
              "       [197, 156],\n",
              "       [214, 158],\n",
              "       [248, 122],\n",
              "       [255, 175],\n",
              "       [207, 168],\n",
              "       [223, 169],\n",
              "       [288, 159],\n",
              "       [160, 138],\n",
              "       [226, 111],\n",
              "       [394, 157],\n",
              "       [233, 147],\n",
              "       [315, 162],\n",
              "       [246, 173],\n",
              "       [244, 178],\n",
              "       [270, 145],\n",
              "       [195, 179],\n",
              "       [240, 194],\n",
              "       [196, 163],\n",
              "       [211, 115],\n",
              "       [234, 131],\n",
              "       [236, 152],\n",
              "       [244, 162],\n",
              "       [254, 159],\n",
              "       [325, 154],\n",
              "       [126, 173],\n",
              "       [313, 133],\n",
              "       [211, 161],\n",
              "       [262, 155],\n",
              "       [215, 170],\n",
              "       [214, 168],\n",
              "       [193, 162],\n",
              "       [204, 172],\n",
              "       [243, 152],\n",
              "       [303, 122],\n",
              "       [271, 182],\n",
              "       [268, 172],\n",
              "       [267, 167],\n",
              "       [199, 179],\n",
              "       [210, 192],\n",
              "       [204, 143],\n",
              "       [277, 172],\n",
              "       [196, 169],\n",
              "       [269, 121],\n",
              "       [201, 163],\n",
              "       [271, 162],\n",
              "       [295, 162],\n",
              "       [235, 153],\n",
              "       [306, 163],\n",
              "       [269, 163],\n",
              "       [178,  96],\n",
              "       [208, 140],\n",
              "       [201, 126],\n",
              "       [263, 105],\n",
              "       [295, 157],\n",
              "       [303, 181],\n",
              "       [209, 173],\n",
              "       [223, 142],\n",
              "       [197, 116],\n",
              "       [245, 143],\n",
              "       [242, 149],\n",
              "       [240, 171],\n",
              "       [226, 169],\n",
              "       [180, 150],\n",
              "       [228, 138],\n",
              "       [149, 125],\n",
              "       [227, 155],\n",
              "       [278, 152],\n",
              "       [220, 152],\n",
              "       [197, 131],\n",
              "       [253, 179],\n",
              "       [192, 174],\n",
              "       [220, 144],\n",
              "       [221, 163],\n",
              "       [240, 169],\n",
              "       [342, 166],\n",
              "       [157, 182],\n",
              "       [175, 173],\n",
              "       [175, 173],\n",
              "       [286, 108],\n",
              "       [229, 129],\n",
              "       [268, 160],\n",
              "       [254, 147],\n",
              "       [203, 155],\n",
              "       [256, 142],\n",
              "       [229, 168],\n",
              "       [284, 160],\n",
              "       [224, 173],\n",
              "       [206, 132],\n",
              "       [167, 114],\n",
              "       [230, 160],\n",
              "       [335, 158],\n",
              "       [177, 120],\n",
              "       [276, 112],\n",
              "       [353, 132],\n",
              "       [225, 114],\n",
              "       [330, 169],\n",
              "       [230, 165],\n",
              "       [243, 128],\n",
              "       [290, 153],\n",
              "       [253, 144],\n",
              "       [266, 109],\n",
              "       [233, 163],\n",
              "       [172, 158],\n",
              "       [305, 142],\n",
              "       [216, 131],\n",
              "       [188, 113],\n",
              "       [282, 142],\n",
              "       [185, 155],\n",
              "       [326, 140],\n",
              "       [231, 147],\n",
              "       [254, 163],\n",
              "       [267,  99],\n",
              "       [248, 158],\n",
              "       [197, 177],\n",
              "       [258, 141],\n",
              "       [270, 111],\n",
              "       [274, 150],\n",
              "       [164, 145],\n",
              "       [255, 161],\n",
              "       [239, 142],\n",
              "       [258, 157],\n",
              "       [188, 139],\n",
              "       [177, 162],\n",
              "       [229, 150],\n",
              "       [260, 140],\n",
              "       [219, 140],\n",
              "       [307, 146],\n",
              "       [249, 144],\n",
              "       [341, 136],\n",
              "       [263,  97],\n",
              "       [330, 132],\n",
              "       [254, 127],\n",
              "       [256, 150],\n",
              "       [407, 154],\n",
              "       [217, 111],\n",
              "       [282, 174],\n",
              "       [288, 133],\n",
              "       [239, 126],\n",
              "       [174, 125],\n",
              "       [281, 103],\n",
              "       [198, 130],\n",
              "       [288, 159],\n",
              "       [309, 131],\n",
              "       [243, 152],\n",
              "       [289, 124],\n",
              "       [289, 145],\n",
              "       [246,  96],\n",
              "       [322, 109],\n",
              "       [299, 173],\n",
              "       [300, 171],\n",
              "       [293, 170],\n",
              "       [304, 162],\n",
              "       [282, 156],\n",
              "       [269, 112],\n",
              "       [249, 143],\n",
              "       [212, 132],\n",
              "       [274,  88],\n",
              "       [184, 105],\n",
              "       [274, 166],\n",
              "       [409, 150],\n",
              "       [246, 120],\n",
              "       [283, 195],\n",
              "       [254, 146],\n",
              "       [298, 122],\n",
              "       [247, 143],\n",
              "       [294, 106],\n",
              "       [299, 125],\n",
              "       [273, 125],\n",
              "       [309, 147],\n",
              "       [259, 130],\n",
              "       [200, 126],\n",
              "       [244, 154],\n",
              "       [231, 182],\n",
              "       [228, 165],\n",
              "       [230, 160],\n",
              "       [282,  95],\n",
              "       [269, 169],\n",
              "       [206, 108],\n",
              "       [212, 132],\n",
              "       [327, 117],\n",
              "       [149, 126],\n",
              "       [286, 116],\n",
              "       [283, 103],\n",
              "       [249, 144],\n",
              "       [234, 145],\n",
              "       [237,  71],\n",
              "       [234, 156],\n",
              "       [275, 118],\n",
              "       [212, 168],\n",
              "       [218, 105],\n",
              "       [261, 141],\n",
              "       [319, 152],\n",
              "       [166, 125],\n",
              "       [315, 125],\n",
              "       [204, 156],\n",
              "       [218, 134],\n",
              "       [223, 181],\n",
              "       [207, 138],\n",
              "       [311, 120],\n",
              "       [204, 162],\n",
              "       [232, 164],\n",
              "       [335, 143],\n",
              "       [205, 130],\n",
              "       [203, 161],\n",
              "       [318, 140],\n",
              "       [225, 146],\n",
              "       [212, 150],\n",
              "       [169, 144],\n",
              "       [187, 144],\n",
              "       [197, 136],\n",
              "       [176,  90],\n",
              "       [241, 123],\n",
              "       [264, 132],\n",
              "       [193, 141],\n",
              "       [131, 115],\n",
              "       [236, 174]])"
            ]
          },
          "metadata": {
            "tags": []
          },
          "execution_count": 12
        }
      ]
    },
    {
      "cell_type": "code",
      "metadata": {
        "id": "wYe7KP5Ht4eS"
      },
      "source": [
        "from sklearn.cluster import KMeans"
      ],
      "execution_count": 14,
      "outputs": []
    },
    {
      "cell_type": "code",
      "metadata": {
        "colab": {
          "base_uri": "https://localhost:8080/",
          "height": 296
        },
        "id": "KsB4MXucuDf1",
        "outputId": "798eeed4-78ff-4f6b-d7e5-4d895fdf5200"
      },
      "source": [
        "wcss=[]\n",
        "for i in range(1,11):\n",
        "  km=KMeans(n_clusters=i,random_state=0)\n",
        "  km.fit(X)\n",
        "  wcss.append(km.inertia_)\n",
        "plt.plot(range(1,11),wcss,color='green',marker='8')\n",
        "plt.title(\"K_Estimation\")\n",
        "plt.xlabel(\"K_Values\")\n",
        "plt.ylabel(\"wcss\")\n",
        "plt.show()"
      ],
      "execution_count": 16,
      "outputs": [
        {
          "output_type": "display_data",
          "data": {
            "image/png": "[encoded data removed]",
            "text/plain": [
              "<Figure size 432x288 with 1 Axes>"
            ]
          },
          "metadata": {
            "tags": [],
            "needs_background": "light"
          }
        }
      ]
    },
    {
      "cell_type": "code",
      "metadata": {
        "id": "Vk3dnkKPvE53"
      },
      "source": [
        "#Considering k=4\n",
        "model=KMeans(n_clusters=4,random_state=0)\n",
        "model.fit(X)\n",
        "y_pred=model.fit_predict(X)"
      ],
      "execution_count": 21,
      "outputs": []
    },
    {
      "cell_type": "code",
      "metadata": {
        "colab": {
          "base_uri": "https://localhost:8080/",
          "height": 295
        },
        "id": "qj2wRE_gvlaf",
        "outputId": "4b9e9b30-9fd4-46e8-919e-6fd5f86d2a1c"
      },
      "source": [
        "plt.scatter(X[y_pred==0,0],X[y_pred==0,1],s=50,c='brown',label='1')\n",
        "plt.scatter(X[y_pred==1,0],X[y_pred==1,1],s=50,c='black',label='2')\n",
        "plt.scatter(X[y_pred==2,0],X[y_pred==2,1],s=50,c='Green',label='3')\n",
        "plt.scatter(X[y_pred==3,0],X[y_pred==3,1],s=50,c='blue',label='4')\n",
        "plt.scatter(model.cluster_centers_[:,0],model.cluster_centers_[:,1],s=100,marker='s',c='red',label='cetroids')\n",
        "plt.title(\"Income Vs Spend\")\n",
        "plt.xlabel(\"Income\")\n",
        "plt.ylabel(\"Spent\")\n",
        "plt.legend()\n",
        "plt.show()\n"
      ],
      "execution_count": 25,
      "outputs": [
        {
          "output_type": "display_data",
          "data": {
            "image/png": "[encoded data removed]",
            "text/plain": [
              "<Figure size 432x288 with 1 Axes>"
            ]
          },
          "metadata": {
            "tags": [],
            "needs_background": "light"
          }
        }
      ]
    },
    {
      "cell_type": "code",
      "metadata": {
        "id": "QljQ-SSbxCHB"
      },
      "source": [
        "  "
      ],
      "execution_count": null,
      "outputs": []
    }
  ]
}