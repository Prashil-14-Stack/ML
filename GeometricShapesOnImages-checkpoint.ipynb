{
 "cells": [
  {
   "cell_type": "code",
   "execution_count": 13,
   "id": "ccea6dce",
   "metadata": {},
   "outputs": [],
   "source": [
    "import cv2\n",
    "\n",
    "img=cv2.imread('IMG_20161011_181113.jpg',1)\n",
    "\n",
    "img=cv2.line(img, (0,255),(255,255),(0,255,0),10) #(img ---> image, (0,255) --->first coordinate on the image from where to start a line\n",
    "                                                  #(255,255)--->last coordinate points on the image, where line will end                                                  \n",
    "                                                  #(0,255,0)--->Color of the line, here (0,255,0) represents the line as green (RGB)\n",
    "                                                  #10---> Width of the line) \n",
    "\n",
    "#Likewise it can be done for all the shapes. for ex --- Rectangle, Square, Circle            \n",
    "\n",
    "font=cv2.FONT_HERSHEY_SIMPLEX\n",
    "\n",
    "img = cv2.putText(img,'Drawing_Room',(10,500),font,4,(255,255,255),2,cv2.LINE_AA)\n",
    "                \n",
    "cv2.imshow('Prashil',img)\n",
    "\n",
    "cv2.waitKey(0) & 0xFF == ord('q')\n",
    "\n",
    "cv2.destroyAllWindows()"
   ]
  },
  {
   "cell_type": "code",
   "execution_count": null,
   "id": "8f69b917",
   "metadata": {},
   "outputs": [],
   "source": []
  }
 ],
 "metadata": {
  "kernelspec": {
   "display_name": "Python 3 (ipykernel)",
   "language": "python",
   "name": "python3"
  },
  "language_info": {
   "codemirror_mode": {
    "name": "ipython",
    "version": 3
   },
   "file_extension": ".py",
   "mimetype": "text/x-python",
   "name": "python",
   "nbconvert_exporter": "python",
   "pygments_lexer": "ipython3",
   "version": "3.7.1"
  }
 },
 "nbformat": 4,
 "nbformat_minor": 5
}
