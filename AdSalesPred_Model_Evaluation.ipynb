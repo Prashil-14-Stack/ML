{
  "nbformat": 4,
  "nbformat_minor": 0,
  "metadata": {
    "colab": {
      "name": "AdSalesPred_Model_Evaluation.ipynb",
      "provenance": [],
      "collapsed_sections": [],
      "authorship_tag": "ABX9TyO8eLzzb4lTE1LeZpWqIvzI",
      "include_colab_link": true
    },
    "kernelspec": {
      "name": "python3",
      "display_name": "Python 3"
    },
    "language_info": {
      "name": "python"
    }
  },
  "cells": [
    {
      "cell_type": "markdown",
      "metadata": {
        "id": "view-in-github",
        "colab_type": "text"
      },
      "source": [
        "<a href=\"https://colab.research.google.com/github/Prashil-14-Stack/ML/blob/main/AdSalesPred_Model_Evaluation.ipynb\" target=\"_parent\"><img src=\"https://colab.research.google.com/assets/colab-badge.svg\" alt=\"Open In Colab\"/></a>"
      ]
    },
    {
      "cell_type": "code",
      "metadata": {
        "id": "B7jC5-VrAYgE"
      },
      "source": [
        "import numpy as np\n",
        "import pandas as pd"
      ],
      "execution_count": 68,
      "outputs": []
    },
    {
      "cell_type": "code",
      "metadata": {
        "colab": {
          "resources": {
            "http://localhost:8080/nbextensions/google.colab/files.js": {
              "data": "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",
              "ok": true,
              "headers": [
                [
                  "content-type",
                  "application/javascript"
                ]
              ],
              "status": 200,
              "status_text": ""
            }
          },
          "base_uri": "https://localhost:8080/",
          "height": 72
        },
        "id": "mmAQ8u1ZBGcq",
        "outputId": "15dabf5b-c18d-4235-8d49-638b99fe6bd4"
      },
      "source": [
        "from google.colab import files\n",
        "uploaded=files.upload()"
      ],
      "execution_count": 69,
      "outputs": [
        {
          "output_type": "display_data",
          "data": {
            "text/html": [
              "\n",
              "     <input type=\"file\" id=\"files-941c98de-6a46-44be-aa2c-66796e9465e8\" name=\"files[]\" multiple disabled\n",
              "        style=\"border:none\" />\n",
              "     <output id=\"result-941c98de-6a46-44be-aa2c-66796e9465e8\">\n",
              "      Upload widget is only available when the cell has been executed in the\n",
              "      current browser session. Please rerun this cell to enable.\n",
              "      </output>\n",
              "      <script src=\"/nbextensions/google.colab/files.js\"></script> "
            ],
            "text/plain": [
              "<IPython.core.display.HTML object>"
            ]
          },
          "metadata": {
            "tags": []
          }
        },
        {
          "output_type": "stream",
          "text": [
            "Saving DigitalAd_dataset.csv to DigitalAd_dataset (1).csv\n"
          ],
          "name": "stdout"
        }
      ]
    },
    {
      "cell_type": "code",
      "metadata": {
        "id": "enJRDVmPBelq"
      },
      "source": [
        "df=pd.read_csv(\"DigitalAd_dataset.csv\")"
      ],
      "execution_count": 70,
      "outputs": []
    },
    {
      "cell_type": "code",
      "metadata": {
        "colab": {
          "base_uri": "https://localhost:8080/",
          "height": 359
        },
        "id": "-VLVkbqoBnSQ",
        "outputId": "2a39de8f-537e-4581-adc1-6e269256da64"
      },
      "source": [
        "df.head(10)"
      ],
      "execution_count": 71,
      "outputs": [
        {
          "output_type": "execute_result",
          "data": {
            "text/html": [
              "<div>\n",
              "<style scoped>\n",
              "    .dataframe tbody tr th:only-of-type {\n",
              "        vertical-align: middle;\n",
              "    }\n",
              "\n",
              "    .dataframe tbody tr th {\n",
              "        vertical-align: top;\n",
              "    }\n",
              "\n",
              "    .dataframe thead th {\n",
              "        text-align: right;\n",
              "    }\n",
              "</style>\n",
              "<table border=\"1\" class=\"dataframe\">\n",
              "  <thead>\n",
              "    <tr style=\"text-align: right;\">\n",
              "      <th></th>\n",
              "      <th>Age</th>\n",
              "      <th>Salary</th>\n",
              "      <th>Status</th>\n",
              "    </tr>\n",
              "  </thead>\n",
              "  <tbody>\n",
              "    <tr>\n",
              "      <th>0</th>\n",
              "      <td>18</td>\n",
              "      <td>82000</td>\n",
              "      <td>0</td>\n",
              "    </tr>\n",
              "    <tr>\n",
              "      <th>1</th>\n",
              "      <td>29</td>\n",
              "      <td>80000</td>\n",
              "      <td>0</td>\n",
              "    </tr>\n",
              "    <tr>\n",
              "      <th>2</th>\n",
              "      <td>47</td>\n",
              "      <td>25000</td>\n",
              "      <td>1</td>\n",
              "    </tr>\n",
              "    <tr>\n",
              "      <th>3</th>\n",
              "      <td>45</td>\n",
              "      <td>26000</td>\n",
              "      <td>1</td>\n",
              "    </tr>\n",
              "    <tr>\n",
              "      <th>4</th>\n",
              "      <td>46</td>\n",
              "      <td>28000</td>\n",
              "      <td>1</td>\n",
              "    </tr>\n",
              "    <tr>\n",
              "      <th>5</th>\n",
              "      <td>48</td>\n",
              "      <td>29000</td>\n",
              "      <td>1</td>\n",
              "    </tr>\n",
              "    <tr>\n",
              "      <th>6</th>\n",
              "      <td>45</td>\n",
              "      <td>22000</td>\n",
              "      <td>1</td>\n",
              "    </tr>\n",
              "    <tr>\n",
              "      <th>7</th>\n",
              "      <td>47</td>\n",
              "      <td>49000</td>\n",
              "      <td>1</td>\n",
              "    </tr>\n",
              "    <tr>\n",
              "      <th>8</th>\n",
              "      <td>48</td>\n",
              "      <td>41000</td>\n",
              "      <td>1</td>\n",
              "    </tr>\n",
              "    <tr>\n",
              "      <th>9</th>\n",
              "      <td>45</td>\n",
              "      <td>22000</td>\n",
              "      <td>1</td>\n",
              "    </tr>\n",
              "  </tbody>\n",
              "</table>\n",
              "</div>"
            ],
            "text/plain": [
              "   Age  Salary  Status\n",
              "0   18   82000       0\n",
              "1   29   80000       0\n",
              "2   47   25000       1\n",
              "3   45   26000       1\n",
              "4   46   28000       1\n",
              "5   48   29000       1\n",
              "6   45   22000       1\n",
              "7   47   49000       1\n",
              "8   48   41000       1\n",
              "9   45   22000       1"
            ]
          },
          "metadata": {
            "tags": []
          },
          "execution_count": 71
        }
      ]
    },
    {
      "cell_type": "code",
      "metadata": {
        "colab": {
          "base_uri": "https://localhost:8080/"
        },
        "id": "-kI7RhweBqXR",
        "outputId": "c9427e84-2219-471e-ca21-420393f1871b"
      },
      "source": [
        "df.size"
      ],
      "execution_count": 72,
      "outputs": [
        {
          "output_type": "execute_result",
          "data": {
            "text/plain": [
              "1200"
            ]
          },
          "metadata": {
            "tags": []
          },
          "execution_count": 72
        }
      ]
    },
    {
      "cell_type": "code",
      "metadata": {
        "colab": {
          "base_uri": "https://localhost:8080/"
        },
        "id": "FUmvAfiTBv-Q",
        "outputId": "52318033-01fc-4c29-f11a-850f7d37af66"
      },
      "source": [
        "df.shape"
      ],
      "execution_count": 73,
      "outputs": [
        {
          "output_type": "execute_result",
          "data": {
            "text/plain": [
              "(400, 3)"
            ]
          },
          "metadata": {
            "tags": []
          },
          "execution_count": 73
        }
      ]
    },
    {
      "cell_type": "code",
      "metadata": {
        "colab": {
          "base_uri": "https://localhost:8080/"
        },
        "id": "86mS4yTFBz4R",
        "outputId": "0ef9cc31-5f18-46f6-99f9-ab1f7aad58d9"
      },
      "source": [
        "df.shape[1]"
      ],
      "execution_count": 74,
      "outputs": [
        {
          "output_type": "execute_result",
          "data": {
            "text/plain": [
              "3"
            ]
          },
          "metadata": {
            "tags": []
          },
          "execution_count": 74
        }
      ]
    },
    {
      "cell_type": "code",
      "metadata": {
        "colab": {
          "base_uri": "https://localhost:8080/"
        },
        "id": "afcrnxIIB4rB",
        "outputId": "10964067-be7d-4c2c-9d96-f3bdf2fcfb57"
      },
      "source": [
        "df.shape[0]"
      ],
      "execution_count": 75,
      "outputs": [
        {
          "output_type": "execute_result",
          "data": {
            "text/plain": [
              "400"
            ]
          },
          "metadata": {
            "tags": []
          },
          "execution_count": 75
        }
      ]
    },
    {
      "cell_type": "code",
      "metadata": {
        "id": "ldm-sxReCIUo"
      },
      "source": [
        "p=range(len(df))"
      ],
      "execution_count": 76,
      "outputs": []
    },
    {
      "cell_type": "code",
      "metadata": {
        "colab": {
          "base_uri": "https://localhost:8080/"
        },
        "id": "lZR_-wvRCQiR",
        "outputId": "10e6a39b-8db9-488c-b45f-f47abae6cc65"
      },
      "source": [
        "print(p)"
      ],
      "execution_count": 77,
      "outputs": [
        {
          "output_type": "stream",
          "text": [
            "range(0, 400)\n"
          ],
          "name": "stdout"
        }
      ]
    },
    {
      "cell_type": "code",
      "metadata": {
        "colab": {
          "base_uri": "https://localhost:8080/"
        },
        "id": "7N6l9ahcCVN4",
        "outputId": "f627fc10-bf19-4c5e-8446-789ca8062c30"
      },
      "source": [
        "print(len(df))"
      ],
      "execution_count": 78,
      "outputs": [
        {
          "output_type": "stream",
          "text": [
            "400\n"
          ],
          "name": "stdout"
        }
      ]
    },
    {
      "cell_type": "code",
      "metadata": {
        "id": "ox37gPFYCjAn"
      },
      "source": [
        "X=df.iloc[:,:-1]"
      ],
      "execution_count": 79,
      "outputs": []
    },
    {
      "cell_type": "code",
      "metadata": {
        "colab": {
          "base_uri": "https://localhost:8080/",
          "height": 204
        },
        "id": "nAsic1VKCvj2",
        "outputId": "180a7b10-081b-466e-e543-8f955a1f2b31"
      },
      "source": [
        "X.head(5)"
      ],
      "execution_count": 80,
      "outputs": [
        {
          "output_type": "execute_result",
          "data": {
            "text/html": [
              "<div>\n",
              "<style scoped>\n",
              "    .dataframe tbody tr th:only-of-type {\n",
              "        vertical-align: middle;\n",
              "    }\n",
              "\n",
              "    .dataframe tbody tr th {\n",
              "        vertical-align: top;\n",
              "    }\n",
              "\n",
              "    .dataframe thead th {\n",
              "        text-align: right;\n",
              "    }\n",
              "</style>\n",
              "<table border=\"1\" class=\"dataframe\">\n",
              "  <thead>\n",
              "    <tr style=\"text-align: right;\">\n",
              "      <th></th>\n",
              "      <th>Age</th>\n",
              "      <th>Salary</th>\n",
              "    </tr>\n",
              "  </thead>\n",
              "  <tbody>\n",
              "    <tr>\n",
              "      <th>0</th>\n",
              "      <td>18</td>\n",
              "      <td>82000</td>\n",
              "    </tr>\n",
              "    <tr>\n",
              "      <th>1</th>\n",
              "      <td>29</td>\n",
              "      <td>80000</td>\n",
              "    </tr>\n",
              "    <tr>\n",
              "      <th>2</th>\n",
              "      <td>47</td>\n",
              "      <td>25000</td>\n",
              "    </tr>\n",
              "    <tr>\n",
              "      <th>3</th>\n",
              "      <td>45</td>\n",
              "      <td>26000</td>\n",
              "    </tr>\n",
              "    <tr>\n",
              "      <th>4</th>\n",
              "      <td>46</td>\n",
              "      <td>28000</td>\n",
              "    </tr>\n",
              "  </tbody>\n",
              "</table>\n",
              "</div>"
            ],
            "text/plain": [
              "   Age  Salary\n",
              "0   18   82000\n",
              "1   29   80000\n",
              "2   47   25000\n",
              "3   45   26000\n",
              "4   46   28000"
            ]
          },
          "metadata": {
            "tags": []
          },
          "execution_count": 80
        }
      ]
    },
    {
      "cell_type": "code",
      "metadata": {
        "id": "gRdFM3H0C1LH"
      },
      "source": [
        "Y=df.iloc[:,-1]"
      ],
      "execution_count": 81,
      "outputs": []
    },
    {
      "cell_type": "code",
      "metadata": {
        "colab": {
          "base_uri": "https://localhost:8080/"
        },
        "id": "nwVeUlGOC5ue",
        "outputId": "fc6e5f2e-8a93-467e-82c1-3a22c4f8f006"
      },
      "source": [
        "Y.head(5)"
      ],
      "execution_count": 82,
      "outputs": [
        {
          "output_type": "execute_result",
          "data": {
            "text/plain": [
              "0    0\n",
              "1    0\n",
              "2    1\n",
              "3    1\n",
              "4    1\n",
              "Name: Status, dtype: int64"
            ]
          },
          "metadata": {
            "tags": []
          },
          "execution_count": 82
        }
      ]
    },
    {
      "cell_type": "code",
      "metadata": {
        "id": "93YsWdK6C9c-"
      },
      "source": [
        "from sklearn.preprocessing import MinMaxScaler\n",
        "MM=MinMaxScaler()\n",
        "X=MM.fit_transform(X)\n",
        "\n"
      ],
      "execution_count": 83,
      "outputs": []
    },
    {
      "cell_type": "code",
      "metadata": {
        "id": "IOApWHrED_J1"
      },
      "source": [
        "from sklearn.model_selection import train_test_split\n",
        "X_train,X_test,y_train,y_test=train_test_split(X,Y,test_size=0.25,random_state=0) "
      ],
      "execution_count": 84,
      "outputs": []
    },
    {
      "cell_type": "code",
      "metadata": {
        "colab": {
          "base_uri": "https://localhost:8080/"
        },
        "id": "vNgJPgMuG6V7",
        "outputId": "a5075198-cab0-483e-cfd9-867f3fed05e3"
      },
      "source": [
        "X_train"
      ],
      "execution_count": 85,
      "outputs": [
        {
          "output_type": "execute_result",
          "data": {
            "text/plain": [
              "array([[0.71428571, 0.55555556],\n",
              "       [0.0952381 , 0.08888889],\n",
              "       [0.54761905, 0.42222222],\n",
              "       [0.38095238, 0.20740741],\n",
              "       [0.5952381 , 0.71851852],\n",
              "       [0.42857143, 0.62222222],\n",
              "       [0.4047619 , 0.21481481],\n",
              "       [0.57142857, 0.47407407],\n",
              "       [0.4047619 , 0.41481481],\n",
              "       [0.47619048, 0.25925926],\n",
              "       [0.5       , 0.41481481],\n",
              "       [0.35714286, 0.99259259],\n",
              "       [0.57142857, 0.40740741],\n",
              "       [0.4047619 , 0.08888889],\n",
              "       [0.95238095, 0.05925926],\n",
              "       [0.4047619 , 0.97777778],\n",
              "       [0.5       , 0.67407407],\n",
              "       [0.33333333, 0.77777778],\n",
              "       [0.71428571, 0.88148148],\n",
              "       [0.54761905, 0.42222222],\n",
              "       [0.19047619, 0.14814815],\n",
              "       [0.45238095, 0.48148148],\n",
              "       [0.54761905, 0.27407407],\n",
              "       [0.4047619 , 0.25925926],\n",
              "       [0.69047619, 0.05925926],\n",
              "       [0.66666667, 0.32592593],\n",
              "       [0.35714286, 0.0962963 ],\n",
              "       [0.52380952, 0.44444444],\n",
              "       [0.57142857, 0.65925926],\n",
              "       [0.33333333, 0.75555556],\n",
              "       [0.35714286, 0.4       ],\n",
              "       [0.33333333, 1.        ],\n",
              "       [0.28571429, 0.48148148],\n",
              "       [0.76190476, 0.21481481],\n",
              "       [0.52380952, 0.68148148],\n",
              "       [0.52380952, 0.31111111],\n",
              "       [0.54761905, 0.33333333],\n",
              "       [0.52380952, 0.94074074],\n",
              "       [0.83333333, 0.65925926],\n",
              "       [0.21428571, 0.9037037 ],\n",
              "       [0.14285714, 0.05925926],\n",
              "       [0.4047619 , 0.17777778],\n",
              "       [0.23809524, 0.51111111],\n",
              "       [0.28571429, 0.01481481],\n",
              "       [0.73809524, 0.54074074],\n",
              "       [0.42857143, 0.27407407],\n",
              "       [0.5       , 0.42962963],\n",
              "       [0.64285714, 0.85925926],\n",
              "       [0.4047619 , 0.60740741],\n",
              "       [0.30952381, 0.31851852],\n",
              "       [0.69047619, 0.66666667],\n",
              "       [0.23809524, 0.2962963 ],\n",
              "       [0.45238095, 0.47407407],\n",
              "       [0.57142857, 0.37037037],\n",
              "       [0.57142857, 0.48148148],\n",
              "       [0.19047619, 0.        ],\n",
              "       [0.45238095, 0.46666667],\n",
              "       [0.02380952, 0.51851852],\n",
              "       [0.97619048, 0.2       ],\n",
              "       [0.73809524, 0.93333333],\n",
              "       [0.42857143, 0.35555556],\n",
              "       [0.54761905, 0.11111111],\n",
              "       [0.21428571, 0.28888889],\n",
              "       [0.64285714, 0.22222222],\n",
              "       [0.4047619 , 0.23703704],\n",
              "       [0.28571429, 0.88888889],\n",
              "       [0.78571429, 0.97037037],\n",
              "       [0.45238095, 0.41481481],\n",
              "       [0.23809524, 0.16296296],\n",
              "       [0.38095238, 0.71851852],\n",
              "       [0.30952381, 0.41481481],\n",
              "       [0.57142857, 0.42962963],\n",
              "       [0.69047619, 0.20740741],\n",
              "       [0.21428571, 0.31851852],\n",
              "       [0.54761905, 0.42222222],\n",
              "       [0.71428571, 0.43703704],\n",
              "       [0.52380952, 0.44444444],\n",
              "       [0.21428571, 0.03703704],\n",
              "       [0.92857143, 0.33333333],\n",
              "       [0.19047619, 0.48148148],\n",
              "       [0.66666667, 0.4962963 ],\n",
              "       [0.23809524, 0.51851852],\n",
              "       [0.54761905, 0.22222222],\n",
              "       [0.66666667, 0.19259259],\n",
              "       [0.47619048, 0.71851852],\n",
              "       [0.4047619 , 0.33333333],\n",
              "       [0.28571429, 0.        ],\n",
              "       [0.38095238, 0.20740741],\n",
              "       [0.45238095, 0.48148148],\n",
              "       [0.45238095, 0.57777778],\n",
              "       [0.14285714, 0.31851852],\n",
              "       [0.47619048, 0.37037037],\n",
              "       [0.95238095, 0.23703704],\n",
              "       [0.35714286, 0.26666667],\n",
              "       [0.69047619, 0.07407407],\n",
              "       [0.5       , 0.2       ],\n",
              "       [0.07142857, 0.54074074],\n",
              "       [0.42857143, 0.82222222],\n",
              "       [0.71428571, 0.13333333],\n",
              "       [0.66666667, 0.47407407],\n",
              "       [0.30952381, 0.45185185],\n",
              "       [0.61904762, 0.17777778],\n",
              "       [0.73809524, 0.52592593],\n",
              "       [0.54761905, 0.47407407],\n",
              "       [0.88095238, 0.17777778],\n",
              "       [0.83333333, 0.4962963 ],\n",
              "       [0.45238095, 0.97037037],\n",
              "       [0.30952381, 0.54814815],\n",
              "       [0.66666667, 0.6       ],\n",
              "       [0.21428571, 0.51111111],\n",
              "       [0.5       , 0.2       ],\n",
              "       [0.19047619, 0.42222222],\n",
              "       [0.83333333, 0.42222222],\n",
              "       [0.0952381 , 0.02222222],\n",
              "       [0.80952381, 0.55555556],\n",
              "       [0.28571429, 0.54814815],\n",
              "       [0.21428571, 0.54814815],\n",
              "       [0.5       , 0.34074074],\n",
              "       [0.19047619, 0.00740741],\n",
              "       [0.21428571, 0.31111111],\n",
              "       [0.76190476, 0.03703704],\n",
              "       [0.85714286, 0.40740741],\n",
              "       [0.21428571, 0.31851852],\n",
              "       [0.07142857, 0.00740741],\n",
              "       [0.64285714, 0.47407407],\n",
              "       [0.26190476, 0.0962963 ],\n",
              "       [0.4047619 , 0.42222222],\n",
              "       [0.16666667, 0.13333333],\n",
              "       [0.30952381, 0.76296296],\n",
              "       [0.69047619, 0.11111111],\n",
              "       [0.71428571, 0.13333333],\n",
              "       [0.9047619 , 0.87407407],\n",
              "       [0.73809524, 0.15555556],\n",
              "       [0.19047619, 0.20740741],\n",
              "       [0.76190476, 0.54074074],\n",
              "       [0.38095238, 0.42222222],\n",
              "       [0.52380952, 0.32592593],\n",
              "       [0.11904762, 0.0962963 ],\n",
              "       [0.23809524, 0.8       ],\n",
              "       [0.54761905, 0.41481481],\n",
              "       [0.19047619, 0.27407407],\n",
              "       [0.28571429, 0.53333333],\n",
              "       [0.69047619, 0.95555556],\n",
              "       [0.5       , 0.88148148],\n",
              "       [0.45238095, 0.95555556],\n",
              "       [0.71428571, 0.14814815],\n",
              "       [0.54761905, 0.26666667],\n",
              "       [0.4047619 , 0.17037037],\n",
              "       [0.38095238, 0.74074074],\n",
              "       [0.0952381 , 0.2962963 ],\n",
              "       [0.30952381, 0.43703704],\n",
              "       [0.80952381, 0.04444444],\n",
              "       [0.4047619 , 0.25925926],\n",
              "       [0.4047619 , 0.28148148],\n",
              "       [0.4047619 , 0.44444444],\n",
              "       [0.97619048, 0.94814815],\n",
              "       [0.69047619, 0.68148148],\n",
              "       [0.42857143, 0.25925926],\n",
              "       [0.45238095, 0.27407407],\n",
              "       [0.52380952, 0.37037037],\n",
              "       [0.88095238, 0.81481481],\n",
              "       [0.54761905, 0.27407407],\n",
              "       [0.23809524, 0.21481481],\n",
              "       [0.57142857, 0.99259259],\n",
              "       [0.80952381, 0.91111111],\n",
              "       [0.64285714, 0.08148148],\n",
              "       [0.5       , 0.88148148],\n",
              "       [0.02380952, 0.07407407],\n",
              "       [0.28571429, 0.74814815],\n",
              "       [0.19047619, 0.48148148],\n",
              "       [0.5       , 0.44444444],\n",
              "       [1.        , 0.2       ],\n",
              "       [0.5952381 , 0.84444444],\n",
              "       [0.28571429, 0.47407407],\n",
              "       [1.        , 0.22962963],\n",
              "       [0.26190476, 0.5037037 ],\n",
              "       [1.        , 0.2       ],\n",
              "       [0.69047619, 0.03703704],\n",
              "       [0.47619048, 0.25925926],\n",
              "       [0.21428571, 0.54074074],\n",
              "       [0.97619048, 0.54074074],\n",
              "       [0.14285714, 0.12592593],\n",
              "       [0.78571429, 0.05925926],\n",
              "       [0.04761905, 0.05925926],\n",
              "       [0.14285714, 0.2962963 ],\n",
              "       [0.71428571, 0.93333333],\n",
              "       [0.97619048, 0.5037037 ],\n",
              "       [1.        , 0.64444444],\n",
              "       [0.71428571, 0.77037037],\n",
              "       [0.47619048, 0.26666667],\n",
              "       [0.54761905, 0.35555556],\n",
              "       [0.28571429, 0.68148148],\n",
              "       [0.52380952, 0.31111111],\n",
              "       [0.        , 0.27407407],\n",
              "       [0.85714286, 0.65925926],\n",
              "       [0.38095238, 0.07407407],\n",
              "       [0.73809524, 0.43703704],\n",
              "       [0.28571429, 0.25185185],\n",
              "       [0.23809524, 0.47407407],\n",
              "       [0.        , 0.4962963 ],\n",
              "       [1.        , 0.68888889],\n",
              "       [0.45238095, 0.31111111],\n",
              "       [0.47619048, 0.34074074],\n",
              "       [0.4047619 , 0.03703704],\n",
              "       [0.26190476, 0.20740741],\n",
              "       [0.5952381 , 0.87407407],\n",
              "       [0.19047619, 0.52592593],\n",
              "       [0.73809524, 0.0962963 ],\n",
              "       [0.47619048, 0.48148148],\n",
              "       [0.97619048, 0.1037037 ],\n",
              "       [0.35714286, 0.20740741],\n",
              "       [0.4047619 , 0.54074074],\n",
              "       [0.42857143, 0.33333333],\n",
              "       [0.11904762, 0.37777778],\n",
              "       [0.4047619 , 0.56296296],\n",
              "       [0.45238095, 0.45925926],\n",
              "       [0.47619048, 0.32592593],\n",
              "       [0.45238095, 0.13333333],\n",
              "       [0.26190476, 0.44444444],\n",
              "       [0.23809524, 0.54814815],\n",
              "       [0.14285714, 0.54814815],\n",
              "       [1.        , 0.5037037 ],\n",
              "       [0.04761905, 0.52592593],\n",
              "       [0.47619048, 0.41481481],\n",
              "       [0.47619048, 0.2962963 ],\n",
              "       [0.52380952, 0.46666667],\n",
              "       [0.4047619 , 0.42962963],\n",
              "       [0.11904762, 0.35555556],\n",
              "       [0.57142857, 0.28888889],\n",
              "       [0.57142857, 0.36296296],\n",
              "       [0.07142857, 0.42222222],\n",
              "       [0.4047619 , 0.07407407],\n",
              "       [0.4047619 , 0.34074074],\n",
              "       [0.07142857, 0.39259259],\n",
              "       [0.57142857, 0.28888889],\n",
              "       [0.14285714, 0.08888889],\n",
              "       [0.42857143, 0.28888889],\n",
              "       [0.97619048, 0.45185185],\n",
              "       [0.85714286, 0.08148148],\n",
              "       [0.11904762, 0.24444444],\n",
              "       [0.54761905, 0.32592593],\n",
              "       [0.61904762, 0.91851852],\n",
              "       [0.71428571, 0.91111111],\n",
              "       [0.66666667, 0.54074074],\n",
              "       [0.26190476, 0.5037037 ],\n",
              "       [0.11904762, 0.4962963 ],\n",
              "       [0.83333333, 0.14074074],\n",
              "       [0.4047619 , 0.32592593],\n",
              "       [0.52380952, 0.33333333],\n",
              "       [0.4047619 , 0.68888889],\n",
              "       [0.04761905, 0.15555556],\n",
              "       [0.16666667, 0.05185185],\n",
              "       [0.        , 0.52592593],\n",
              "       [0.95238095, 0.59259259],\n",
              "       [0.73809524, 0.37037037],\n",
              "       [0.11904762, 0.03703704],\n",
              "       [0.16666667, 0.47407407],\n",
              "       [0.        , 0.39259259],\n",
              "       [0.4047619 , 0.05185185],\n",
              "       [0.73809524, 0.17777778],\n",
              "       [0.45238095, 0.9037037 ],\n",
              "       [0.66666667, 0.43703704],\n",
              "       [0.16666667, 0.55555556],\n",
              "       [0.66666667, 0.75555556],\n",
              "       [0.92857143, 0.13333333],\n",
              "       [0.02380952, 0.08148148],\n",
              "       [0.45238095, 0.2962963 ],\n",
              "       [0.57142857, 0.55555556],\n",
              "       [0.47619048, 0.34074074],\n",
              "       [0.80952381, 1.        ],\n",
              "       [0.52380952, 0.31111111],\n",
              "       [0.19047619, 0.51111111],\n",
              "       [0.76190476, 0.15555556],\n",
              "       [0.14285714, 0.2962963 ],\n",
              "       [0.85714286, 0.68888889],\n",
              "       [0.21428571, 0.11851852],\n",
              "       [0.30952381, 0.14074074],\n",
              "       [0.45238095, 0.44444444],\n",
              "       [0.42857143, 0.13333333],\n",
              "       [0.4047619 , 0.42222222],\n",
              "       [0.02380952, 0.02962963],\n",
              "       [0.4047619 , 0.05925926],\n",
              "       [0.80952381, 0.73333333],\n",
              "       [0.42857143, 0.76296296],\n",
              "       [0.33333333, 0.52592593],\n",
              "       [0.28571429, 0.34814815],\n",
              "       [0.23809524, 0.32592593],\n",
              "       [0.78571429, 0.88148148],\n",
              "       [0.54761905, 0.42222222],\n",
              "       [0.73809524, 0.54814815],\n",
              "       [0.45238095, 0.28148148],\n",
              "       [0.64285714, 0.05185185],\n",
              "       [0.97619048, 0.85185185],\n",
              "       [0.66666667, 0.05185185],\n",
              "       [0.57142857, 0.68888889],\n",
              "       [0.4047619 , 0.47407407],\n",
              "       [0.88095238, 0.85185185],\n",
              "       [0.35714286, 0.11851852],\n",
              "       [0.16666667, 0.53333333],\n",
              "       [0.04761905, 0.4962963 ]])"
            ]
          },
          "metadata": {
            "tags": []
          },
          "execution_count": 85
        }
      ]
    },
    {
      "cell_type": "code",
      "metadata": {
        "colab": {
          "base_uri": "https://localhost:8080/"
        },
        "id": "pyR7TVJVE-wE",
        "outputId": "affc10f2-dcd1-4d8e-c862-277b09dbf77c"
      },
      "source": [
        "from sklearn.linear_model import LogisticRegression\n",
        "model=LogisticRegression()\n",
        "model.fit(X_train,y_train)"
      ],
      "execution_count": 86,
      "outputs": [
        {
          "output_type": "execute_result",
          "data": {
            "text/plain": [
              "LogisticRegression(C=1.0, class_weight=None, dual=False, fit_intercept=True,\n",
              "                   intercept_scaling=1, l1_ratio=None, max_iter=100,\n",
              "                   multi_class='auto', n_jobs=None, penalty='l2',\n",
              "                   random_state=None, solver='lbfgs', tol=0.0001, verbose=0,\n",
              "                   warm_start=False)"
            ]
          },
          "metadata": {
            "tags": []
          },
          "execution_count": 86
        }
      ]
    },
    {
      "cell_type": "code",
      "metadata": {
        "colab": {
          "base_uri": "https://localhost:8080/"
        },
        "id": "1W-mt-knID2a",
        "outputId": "ec78dfd4-2716-4ec3-f719-888dc23e74f3"
      },
      "source": [
        "age=int(input(\"enter the Age: \"))\n",
        "Salary=int(input(\"enter the Salary: \"))\n",
        "output=[[age,Salary]]\n",
        "result = model.predict(MM.transform(output))\n",
        "if result==1:\n",
        "  print(\"Customer is likely to buy the product\") \n",
        "else:\n",
        "  print(\"Customer is not likely to buy the product\")"
      ],
      "execution_count": 87,
      "outputs": [
        {
          "output_type": "stream",
          "text": [
            "enter the Age: 25\n",
            "enter the Salary: 1000000\n",
            "Customer is likely to buy the product\n"
          ],
          "name": "stdout"
        }
      ]
    },
    {
      "cell_type": "code",
      "metadata": {
        "id": "4s7JF2JvFT7b"
      },
      "source": [
        "y_pred=model.predict(X_test)"
      ],
      "execution_count": 88,
      "outputs": []
    },
    {
      "cell_type": "code",
      "metadata": {
        "colab": {
          "base_uri": "https://localhost:8080/"
        },
        "id": "q3GHP_jPGNdp",
        "outputId": "052c7180-d1b1-49fd-8d9a-ce6d29db0dd2"
      },
      "source": [
        "from sklearn.metrics import confusion_matrix,accuracy_score\n",
        "Cm=confusion_matrix(y_test,y_pred)\n",
        "print(Cm)"
      ],
      "execution_count": 89,
      "outputs": [
        {
          "output_type": "stream",
          "text": [
            "[[61  0]\n",
            " [21 18]]\n"
          ],
          "name": "stdout"
        }
      ]
    },
    {
      "cell_type": "code",
      "metadata": {
        "id": "w2HQDxnwEsyY"
      },
      "source": [
        "from sklearn.metrics import roc_auc_score, roc_curve"
      ],
      "execution_count": 90,
      "outputs": []
    },
    {
      "cell_type": "code",
      "metadata": {
        "id": "CbT05xRkFHGV"
      },
      "source": [
        "import matplotlib.pyplot as plt\n",
        "nsprobab=[0 for _ in range(len(y_test))] #Straight diadonal line \n",
        "lsprobab=model.predict_proba(X_test)"
      ],
      "execution_count": 91,
      "outputs": []
    },
    {
      "cell_type": "code",
      "metadata": {
        "colab": {
          "base_uri": "https://localhost:8080/"
        },
        "id": "5vD5c7ieGJYU",
        "outputId": "2fe661e8-5f31-4ffe-89c7-0f95531c7cfb"
      },
      "source": [
        "lsprobab"
      ],
      "execution_count": 92,
      "outputs": [
        {
          "output_type": "execute_result",
          "data": {
            "text/plain": [
              "array([[0.82935579, 0.17064421],\n",
              "       [0.63655307, 0.36344693],\n",
              "       [0.29044285, 0.70955715],\n",
              "       [0.30644693, 0.69355307],\n",
              "       [0.74346812, 0.25653188],\n",
              "       [0.93325333, 0.06674667],\n",
              "       [0.91491508, 0.08508492],\n",
              "       [0.20014932, 0.79985068],\n",
              "       [0.94345738, 0.05654262],\n",
              "       [0.64508198, 0.35491802],\n",
              "       [0.97572657, 0.02427343],\n",
              "       [0.88924423, 0.11075577],\n",
              "       [0.95394351, 0.04605649],\n",
              "       [0.56396735, 0.43603265],\n",
              "       [0.61963162, 0.38036838],\n",
              "       [0.63209854, 0.36790146],\n",
              "       [0.25781856, 0.74218144],\n",
              "       [0.7538336 , 0.2461664 ],\n",
              "       [0.57843975, 0.42156025],\n",
              "       [0.81161597, 0.18838403],\n",
              "       [0.8978923 , 0.1021077 ],\n",
              "       [0.72746021, 0.27253979],\n",
              "       [0.90369413, 0.09630587],\n",
              "       [0.64984489, 0.35015511],\n",
              "       [0.9428037 , 0.0571963 ],\n",
              "       [0.57603632, 0.42396368],\n",
              "       [0.96724745, 0.03275255],\n",
              "       [0.94002371, 0.05997629],\n",
              "       [0.32118417, 0.67881583],\n",
              "       [0.75134655, 0.24865345],\n",
              "       [0.83850924, 0.16149076],\n",
              "       [0.82100121, 0.17899879],\n",
              "       [0.64733362, 0.35266638],\n",
              "       [0.0856107 , 0.9143893 ],\n",
              "       [0.96589924, 0.03410076],\n",
              "       [0.92165073, 0.07834927],\n",
              "       [0.98303606, 0.01696394],\n",
              "       [0.88530436, 0.11469564],\n",
              "       [0.95422128, 0.04577872],\n",
              "       [0.93325333, 0.06674667],\n",
              "       [0.55037557, 0.44962443],\n",
              "       [0.04925522, 0.95074478],\n",
              "       [0.74458174, 0.25541826],\n",
              "       [0.8437729 , 0.1562271 ],\n",
              "       [0.55252241, 0.44747759],\n",
              "       [0.94483046, 0.05516954],\n",
              "       [0.643629  , 0.356371  ],\n",
              "       [0.6957259 , 0.3042741 ],\n",
              "       [0.77489828, 0.22510172],\n",
              "       [0.08417138, 0.91582862],\n",
              "       [0.38978999, 0.61021001],\n",
              "       [0.95574275, 0.04425725],\n",
              "       [0.48707205, 0.51292795],\n",
              "       [0.85199605, 0.14800395],\n",
              "       [0.81478571, 0.18521429],\n",
              "       [0.62602287, 0.37397713],\n",
              "       [0.97153972, 0.02846028],\n",
              "       [0.71806223, 0.28193777],\n",
              "       [0.96193151, 0.03806849],\n",
              "       [0.63921204, 0.36078796],\n",
              "       [0.88166118, 0.11833882],\n",
              "       [0.75927524, 0.24072476],\n",
              "       [0.69646808, 0.30353192],\n",
              "       [0.69987954, 0.30012046],\n",
              "       [0.57929501, 0.42070499],\n",
              "       [0.27308214, 0.72691786],\n",
              "       [0.54892817, 0.45107183],\n",
              "       [0.64136681, 0.35863319],\n",
              "       [0.5665088 , 0.4334912 ],\n",
              "       [0.17550176, 0.82449824],\n",
              "       [0.56909167, 0.43090833],\n",
              "       [0.40522312, 0.59477688],\n",
              "       [0.96646639, 0.03353361],\n",
              "       [0.84635188, 0.15364812],\n",
              "       [0.7191079 , 0.2808921 ],\n",
              "       [0.92119166, 0.07880834],\n",
              "       [0.68256734, 0.31743266],\n",
              "       [0.70292193, 0.29707807],\n",
              "       [0.67853938, 0.32146062],\n",
              "       [0.55882932, 0.44117068],\n",
              "       [0.49257881, 0.50742119],\n",
              "       [0.83952358, 0.16047642],\n",
              "       [0.84665578, 0.15334422],\n",
              "       [0.72940846, 0.27059154],\n",
              "       [0.63774854, 0.36225146],\n",
              "       [0.1304273 , 0.8695727 ],\n",
              "       [0.93538366, 0.06461634],\n",
              "       [0.67536261, 0.32463739],\n",
              "       [0.78826122, 0.21173878],\n",
              "       [0.41783367, 0.58216633],\n",
              "       [0.727692  , 0.272308  ],\n",
              "       [0.71060145, 0.28939855],\n",
              "       [0.89504162, 0.10495838],\n",
              "       [0.58197791, 0.41802209],\n",
              "       [0.11275018, 0.88724982],\n",
              "       [0.716402  , 0.283598  ],\n",
              "       [0.94476947, 0.05523053],\n",
              "       [0.94843033, 0.05156967],\n",
              "       [0.4841966 , 0.5158034 ],\n",
              "       [0.54247318, 0.45752682]])"
            ]
          },
          "metadata": {
            "tags": []
          },
          "execution_count": 92
        }
      ]
    },
    {
      "cell_type": "code",
      "metadata": {
        "id": "_n65H3YdFtLW"
      },
      "source": [
        "lsprobab=lsprobab[:,1] #We have bifurcated this into only those probablities where the cutsomer is going to buy a product "
      ],
      "execution_count": 93,
      "outputs": []
    },
    {
      "cell_type": "code",
      "metadata": {
        "colab": {
          "base_uri": "https://localhost:8080/"
        },
        "id": "dR1Ok4U-Gg-1",
        "outputId": "1f60346c-41e2-44f5-bb92-0c1358c22218"
      },
      "source": [
        "lsprobab"
      ],
      "execution_count": 94,
      "outputs": [
        {
          "output_type": "execute_result",
          "data": {
            "text/plain": [
              "array([0.17064421, 0.36344693, 0.70955715, 0.69355307, 0.25653188,\n",
              "       0.06674667, 0.08508492, 0.79985068, 0.05654262, 0.35491802,\n",
              "       0.02427343, 0.11075577, 0.04605649, 0.43603265, 0.38036838,\n",
              "       0.36790146, 0.74218144, 0.2461664 , 0.42156025, 0.18838403,\n",
              "       0.1021077 , 0.27253979, 0.09630587, 0.35015511, 0.0571963 ,\n",
              "       0.42396368, 0.03275255, 0.05997629, 0.67881583, 0.24865345,\n",
              "       0.16149076, 0.17899879, 0.35266638, 0.9143893 , 0.03410076,\n",
              "       0.07834927, 0.01696394, 0.11469564, 0.04577872, 0.06674667,\n",
              "       0.44962443, 0.95074478, 0.25541826, 0.1562271 , 0.44747759,\n",
              "       0.05516954, 0.356371  , 0.3042741 , 0.22510172, 0.91582862,\n",
              "       0.61021001, 0.04425725, 0.51292795, 0.14800395, 0.18521429,\n",
              "       0.37397713, 0.02846028, 0.28193777, 0.03806849, 0.36078796,\n",
              "       0.11833882, 0.24072476, 0.30353192, 0.30012046, 0.42070499,\n",
              "       0.72691786, 0.45107183, 0.35863319, 0.4334912 , 0.82449824,\n",
              "       0.43090833, 0.59477688, 0.03353361, 0.15364812, 0.2808921 ,\n",
              "       0.07880834, 0.31743266, 0.29707807, 0.32146062, 0.44117068,\n",
              "       0.50742119, 0.16047642, 0.15334422, 0.27059154, 0.36225146,\n",
              "       0.8695727 , 0.06461634, 0.32463739, 0.21173878, 0.58216633,\n",
              "       0.272308  , 0.28939855, 0.10495838, 0.41802209, 0.88724982,\n",
              "       0.283598  , 0.05523053, 0.05156967, 0.5158034 , 0.45752682])"
            ]
          },
          "metadata": {
            "tags": []
          },
          "execution_count": 94
        }
      ]
    },
    {
      "cell_type": "code",
      "metadata": {
        "colab": {
          "base_uri": "https://localhost:8080/"
        },
        "id": "WZW3a2D0Gqm6",
        "outputId": "ed88a3f8-ddf4-43b1-a451-c63a9bea55c6"
      },
      "source": [
        "X_test"
      ],
      "execution_count": 95,
      "outputs": [
        {
          "output_type": "execute_result",
          "data": {
            "text/plain": [
              "array([[0.21428571, 0.6       ],\n",
              "       [0.71428571, 0.11111111],\n",
              "       [1.        , 0.14074074],\n",
              "       [0.71428571, 0.6       ],\n",
              "       [0.4047619 , 0.45925926],\n",
              "       [0.33333333, 0.02222222],\n",
              "       [0.26190476, 0.23703704],\n",
              "       [0.92857143, 0.43703704],\n",
              "       [0.30952381, 0.        ],\n",
              "       [0.52380952, 0.42222222],\n",
              "       [0.        , 0.21481481],\n",
              "       [0.26190476, 0.34074074],\n",
              "       [0.19047619, 0.12592593],\n",
              "       [0.69047619, 0.25925926],\n",
              "       [0.73809524, 0.0962963 ],\n",
              "       [0.35714286, 0.72592593],\n",
              "       [0.69047619, 0.72592593],\n",
              "       [0.52380952, 0.23703704],\n",
              "       [0.54761905, 0.48148148],\n",
              "       [0.4047619 , 0.31851852],\n",
              "       [0.14285714, 0.51111111],\n",
              "       [0.45238095, 0.40740741],\n",
              "       [0.23809524, 0.32592593],\n",
              "       [0.52380952, 0.41481481],\n",
              "       [0.23809524, 0.12592593],\n",
              "       [0.57142857, 0.44444444],\n",
              "       [0.19047619, 0.        ],\n",
              "       [0.30952381, 0.02222222],\n",
              "       [0.95238095, 0.17037037],\n",
              "       [0.4047619 , 0.44444444],\n",
              "       [0.35714286, 0.33333333],\n",
              "       [0.4047619 , 0.2962963 ],\n",
              "       [0.5       , 0.45925926],\n",
              "       [0.83333333, 0.94814815],\n",
              "       [0.19047619, 0.01481481],\n",
              "       [0.0952381 , 0.48888889],\n",
              "       [0.02380952, 0.04444444],\n",
              "       [0.35714286, 0.19259259],\n",
              "       [0.02380952, 0.40740741],\n",
              "       [0.33333333, 0.02222222],\n",
              "       [0.57142857, 0.48148148],\n",
              "       [0.95238095, 0.95555556],\n",
              "       [0.64285714, 0.05185185],\n",
              "       [0.26190476, 0.48148148],\n",
              "       [0.5       , 0.6       ],\n",
              "       [0.0952381 , 0.35555556],\n",
              "       [0.69047619, 0.14074074],\n",
              "       [0.52380952, 0.34074074],\n",
              "       [0.19047619, 0.76296296],\n",
              "       [0.92857143, 0.79259259],\n",
              "       [0.42857143, 0.95555556],\n",
              "       [0.19047619, 0.11111111],\n",
              "       [0.42857143, 0.81481481],\n",
              "       [0.30952381, 0.37777778],\n",
              "       [0.4047619 , 0.31111111],\n",
              "       [0.57142857, 0.37037037],\n",
              "       [0.14285714, 0.02962963],\n",
              "       [0.66666667, 0.05925926],\n",
              "       [0.21428571, 0.01481481],\n",
              "       [0.33333333, 0.75555556],\n",
              "       [0.19047619, 0.48888889],\n",
              "       [0.45238095, 0.34814815],\n",
              "       [0.66666667, 0.0962963 ],\n",
              "       [0.47619048, 0.41481481],\n",
              "       [0.69047619, 0.23703704],\n",
              "       [0.9047619 , 0.33333333],\n",
              "       [0.33333333, 0.88888889],\n",
              "       [0.71428571, 0.1037037 ],\n",
              "       [0.26190476, 0.98518519],\n",
              "       [0.71428571, 0.85925926],\n",
              "       [0.69047619, 0.25185185],\n",
              "       [0.92857143, 0.08148148],\n",
              "       [0.04761905, 0.25185185],\n",
              "       [0.21428571, 0.55555556],\n",
              "       [0.45238095, 0.42222222],\n",
              "       [0.26190476, 0.20740741],\n",
              "       [0.57142857, 0.28148148],\n",
              "       [0.64285714, 0.12592593],\n",
              "       [0.66666667, 0.12592593],\n",
              "       [0.69047619, 0.26666667],\n",
              "       [0.47619048, 0.72592593],\n",
              "       [0.23809524, 0.53333333],\n",
              "       [0.30952381, 0.39259259],\n",
              "       [0.42857143, 0.44444444],\n",
              "       [0.5       , 0.47407407],\n",
              "       [0.9047619 , 0.65925926],\n",
              "       [0.04761905, 0.4962963 ],\n",
              "       [0.5       , 0.41481481],\n",
              "       [0.4047619 , 0.37037037],\n",
              "       [0.5       , 0.79259259],\n",
              "       [0.5       , 0.32592593],\n",
              "       [0.45238095, 0.43703704],\n",
              "       [0.16666667, 0.48148148],\n",
              "       [0.71428571, 0.19259259],\n",
              "       [0.95238095, 0.63703704],\n",
              "       [0.33333333, 0.62962963],\n",
              "       [0.04761905, 0.43703704],\n",
              "       [0.02380952, 0.45185185],\n",
              "       [0.80952381, 0.17037037],\n",
              "       [0.54761905, 0.53333333]])"
            ]
          },
          "metadata": {
            "tags": []
          },
          "execution_count": 95
        }
      ]
    },
    {
      "cell_type": "code",
      "metadata": {
        "id": "T-9b9_PzHEEb"
      },
      "source": [
        "nsAUC=roc_auc_score(y_test,nsprobab)\n",
        "lrAUC=roc_auc_score(y_test,lsprobab)"
      ],
      "execution_count": 96,
      "outputs": []
    },
    {
      "cell_type": "code",
      "metadata": {
        "colab": {
          "base_uri": "https://localhost:8080/"
        },
        "id": "DsILLf-oHXUc",
        "outputId": "b62a7489-2008-4ea0-e2e1-3bd2d2b1e8a1"
      },
      "source": [
        "print(nsAUC*100)\n"
      ],
      "execution_count": 97,
      "outputs": [
        {
          "output_type": "stream",
          "text": [
            "50.0\n"
          ],
          "name": "stdout"
        }
      ]
    },
    {
      "cell_type": "code",
      "metadata": {
        "colab": {
          "base_uri": "https://localhost:8080/"
        },
        "id": "tIZe1r4BHubx",
        "outputId": "4b420211-5825-4283-afe1-b4fd216fdd65"
      },
      "source": [
        "print(lrAUC*100)"
      ],
      "execution_count": 98,
      "outputs": [
        {
          "output_type": "stream",
          "text": [
            "92.64396805380412\n"
          ],
          "name": "stdout"
        }
      ]
    },
    {
      "cell_type": "code",
      "metadata": {
        "id": "e42yY_QsH_44"
      },
      "source": [
        "nsFP,nsTP,_=roc_curve(y_test,nsprobab)\n",
        "lsFP,lsTP,_=roc_curve(y_test,lsprobab)"
      ],
      "execution_count": 99,
      "outputs": []
    },
    {
      "cell_type": "code",
      "metadata": {
        "colab": {
          "base_uri": "https://localhost:8080/",
          "height": 282
        },
        "id": "CBttFrVQIaFv",
        "outputId": "c69c140e-cc7a-4c6b-fadc-752693fe2115"
      },
      "source": [
        "plt.plot(nsFP,nsTP,linestyle='--',label='ns')\n",
        "plt.plot(lsFP,lsTP,marker='.',label='Logistics')"
      ],
      "execution_count": 100,
      "outputs": [
        {
          "output_type": "execute_result",
          "data": {
            "text/plain": [
              "[<matplotlib.lines.Line2D at 0x7f96ac661b10>]"
            ]
          },
          "metadata": {
            "tags": []
          },
          "execution_count": 100
        },
        {
          "output_type": "display_data",
          "data": {
            "image/png": "[encoded data removed]",
            "text/plain": [
              "<Figure size 432x288 with 1 Axes>"
            ]
          },
          "metadata": {
            "tags": [],
            "needs_background": "light"
          }
        }
      ]
    },
    {
      "cell_type": "code",
      "metadata": {
        "id": "uOoPkjxTJwed"
      },
      "source": [
        "from sklearn.model_selection import cross_val_score\n",
        "from sklearn.model_selection import KFold"
      ],
      "execution_count": 101,
      "outputs": []
    },
    {
      "cell_type": "code",
      "metadata": {
        "colab": {
          "base_uri": "https://localhost:8080/"
        },
        "id": "bEPqMEwgJ7FV",
        "outputId": "19a86a27-833d-4d48-e9f5-e69071eb42e9"
      },
      "source": [
        "KF=KFold(n_splits=10,random_state=100)"
      ],
      "execution_count": 102,
      "outputs": [
        {
          "output_type": "stream",
          "text": [
            "/usr/local/lib/python3.7/dist-packages/sklearn/model_selection/_split.py:296: FutureWarning: Setting a random_state has no effect since shuffle is False. This will raise an error in 0.24. You should leave random_state to its default (None), or set shuffle=True.\n",
            "  FutureWarning\n"
          ],
          "name": "stderr"
        }
      ]
    },
    {
      "cell_type": "code",
      "metadata": {
        "id": "d77hMPrwKGHk"
      },
      "source": [
        "result=cross_val_score(model,X,Y,cv=KF)"
      ],
      "execution_count": 105,
      "outputs": []
    },
    {
      "cell_type": "code",
      "metadata": {
        "colab": {
          "base_uri": "https://localhost:8080/"
        },
        "id": "iCnQRlu9LBvm",
        "outputId": "c4725b4c-5dbd-4355-8ca3-304ac21906aa"
      },
      "source": [
        "print(result.mean()*100)"
      ],
      "execution_count": 107,
      "outputs": [
        {
          "output_type": "stream",
          "text": [
            "81.75000000000001\n"
          ],
          "name": "stdout"
        }
      ]
    },
    {
      "cell_type": "code",
      "metadata": {
        "colab": {
          "base_uri": "https://localhost:8080/"
        },
        "id": "hvjwz2X6LXG9",
        "outputId": "07600393-ea02-4b45-a1d2-dd66fe824fa5"
      },
      "source": [
        "from sklearn.model_selection import cross_val_score\n",
        "from sklearn.model_selection import StratifiedKFold\n",
        "skf=StratifiedKFold(n_splits=10,random_state=100)\n",
        "accur=cross_val_score(model,X,Y,cv=skf)\n",
        "print(accur.mean()*100)"
      ],
      "execution_count": 110,
      "outputs": [
        {
          "output_type": "stream",
          "text": [
            "82.25\n"
          ],
          "name": "stdout"
        },
        {
          "output_type": "stream",
          "text": [
            "/usr/local/lib/python3.7/dist-packages/sklearn/model_selection/_split.py:296: FutureWarning: Setting a random_state has no effect since shuffle is False. This will raise an error in 0.24. You should leave random_state to its default (None), or set shuffle=True.\n",
            "  FutureWarning\n"
          ],
          "name": "stderr"
        }
      ]
    },
    {
      "cell_type": "code",
      "metadata": {
        "colab": {
          "base_uri": "https://localhost:8080/"
        },
        "id": "eCqD5dWpGpkJ",
        "outputId": "88f53995-b9b7-49ff-81cc-769afed0b07b"
      },
      "source": [
        "ac=accuracy_score(y_test,y_pred)\n",
        "print(ac*100)"
      ],
      "execution_count": 104,
      "outputs": [
        {
          "output_type": "stream",
          "text": [
            "79.0\n"
          ],
          "name": "stdout"
        }
      ]
    }
  ]
}